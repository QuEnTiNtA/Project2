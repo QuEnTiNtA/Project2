{
 "cells": [
  {
   "cell_type": "code",
   "execution_count": 1,
   "id": "6a637cb7",
   "metadata": {},
   "outputs": [],
   "source": [
    "import sys\n",
    "\n",
    "sys.path.insert(0, '../utils')"
   ]
  },
  {
   "cell_type": "code",
   "execution_count": 2,
   "id": "5b938699",
   "metadata": {},
   "outputs": [],
   "source": [
    "import os\n",
    "from PIL import Image\n",
    "from torch.utils.data import Dataset, DataLoader\n",
    "import numpy as np\n",
    "import torch\n",
    "import torchvision\n",
    "import torch.nn as nn\n",
    "import torchvision.transforms.functional as TF\n",
    "from tqdm import tqdm\n",
    "import torch.optim as optim\n",
    "from sklearn.model_selection import KFold\n",
    "from torch.utils.data import SubsetRandomSampler\n",
    "from collections import OrderedDict\n",
    "import matplotlib.pyplot as plt\n",
    "from Network import *\n",
    "from DataSet import *\n",
    "from train_procedure import *\n",
    "from Aug import *\n",
    "from torchvision import transforms\n",
    "import pickle\n",
    "\n",
    "%load_ext autoreload\n",
    "%autoreload 2"
   ]
  },
  {
   "cell_type": "code",
   "execution_count": 3,
   "id": "dd3305fb",
   "metadata": {},
   "outputs": [
    {
     "name": "stderr",
     "output_type": "stream",
     "text": [
      "satImage_100.png: 100%|███████████████████████████████████████████████████████████| 100/100 [00:59<00:00,  1.69image/s]\n"
     ]
    }
   ],
   "source": [
    "# Create the augmented dataset\n",
    "create_augmented_dataset(True)"
   ]
  },
  {
   "cell_type": "code",
   "execution_count": 4,
   "id": "5f510b9b",
   "metadata": {},
   "outputs": [],
   "source": [
    "DEVICE = \"cuda\" if torch.cuda.is_available() else \"cpu\""
   ]
  },
  {
   "cell_type": "markdown",
   "id": "ccf34c01",
   "metadata": {},
   "source": [
    "## Experiment 5"
   ]
  },
  {
   "cell_type": "code",
   "execution_count": 5,
   "id": "ee951abf",
   "metadata": {},
   "outputs": [
    {
     "name": "stdout",
     "output_type": "stream",
     "text": [
      "-------------------------- 1 fold --------------------------\n"
     ]
    },
    {
     "name": "stderr",
     "output_type": "stream",
     "text": [
      "100%|████████████████████████████████████████████████████████████████████| 110/110 [00:57<00:00,  1.90it/s, loss=0.406]\n"
     ]
    },
    {
     "name": "stdout",
     "output_type": "stream",
     "text": [
      "Training set: epoch-1 got 66459222/86240000 with acc 77.06%, F1-score 0.52 and loss 0.5068270564079285 \n",
      "Validation set: epoch-1 got 66115697/86240000 with acc 76.66% , F1-score 0.33 and validation loss 0.5178642734237722\n"
     ]
    },
    {
     "name": "stderr",
     "output_type": "stream",
     "text": [
      " 12%|████████▏                                                            | 13/110 [00:06<00:46,  2.10it/s, loss=0.416]\n"
     ]
    },
    {
     "ename": "KeyboardInterrupt",
     "evalue": "",
     "output_type": "error",
     "traceback": [
      "\u001b[1;31m---------------------------------------------------------------------------\u001b[0m",
      "\u001b[1;31mKeyboardInterrupt\u001b[0m                         Traceback (most recent call last)",
      "Cell \u001b[1;32mIn[5], line 32\u001b[0m\n\u001b[0;32m      1\u001b[0m dict_train5 \u001b[38;5;241m=\u001b[39m{\u001b[38;5;124m\"\u001b[39m\u001b[38;5;124msave_model\u001b[39m\u001b[38;5;124m\"\u001b[39m: \u001b[38;5;28;01mFalse\u001b[39;00m,\n\u001b[0;32m      2\u001b[0m             \u001b[38;5;124m\"\u001b[39m\u001b[38;5;124mcross_val\u001b[39m\u001b[38;5;124m\"\u001b[39m: \u001b[38;5;28;01mTrue\u001b[39;00m,\n\u001b[0;32m      3\u001b[0m             \u001b[38;5;124m\"\u001b[39m\u001b[38;5;124mskip_connection\u001b[39m\u001b[38;5;124m\"\u001b[39m: \u001b[38;5;28;01mTrue\u001b[39;00m,\n\u001b[1;32m   (...)\u001b[0m\n\u001b[0;32m     27\u001b[0m              \u001b[38;5;124m\"\u001b[39m\u001b[38;5;124mdevice\u001b[39m\u001b[38;5;124m\"\u001b[39m: DEVICE\n\u001b[0;32m     28\u001b[0m             }\n\u001b[0;32m     31\u001b[0m experiment5 \u001b[38;5;241m=\u001b[39m {\u001b[38;5;124m\"\u001b[39m\u001b[38;5;124mparam\u001b[39m\u001b[38;5;124m\"\u001b[39m: dict_train5}\n\u001b[1;32m---> 32\u001b[0m experiment5[\u001b[38;5;124m\"\u001b[39m\u001b[38;5;124mconvergence_path\u001b[39m\u001b[38;5;124m\"\u001b[39m] \u001b[38;5;241m=\u001b[39m \u001b[43mrun_training\u001b[49m\u001b[43m(\u001b[49m\u001b[43mdict_train5\u001b[49m\u001b[43m)\u001b[49m \n\u001b[0;32m     35\u001b[0m f \u001b[38;5;241m=\u001b[39m \u001b[38;5;28mopen\u001b[39m(\u001b[38;5;124m\"\u001b[39m\u001b[38;5;124mresult_exp/experiment5.pkl\u001b[39m\u001b[38;5;124m\"\u001b[39m,\u001b[38;5;124m\"\u001b[39m\u001b[38;5;124mwb\u001b[39m\u001b[38;5;124m\"\u001b[39m)\n\u001b[0;32m     36\u001b[0m pickle\u001b[38;5;241m.\u001b[39mdump(experiment5,f)\n",
      "File \u001b[1;32mD:\\Users\\Mathieu\\Documents\\EPFL\\Master\\ML\\Project2\\static_augmentation\\experiments\\../utils\\train_procedure.py:176\u001b[0m, in \u001b[0;36mrun_training\u001b[1;34m(dict_training)\u001b[0m\n\u001b[0;32m    172\u001b[0m \u001b[38;5;66;03m# ===== Train Model =====\u001b[39;00m\n\u001b[0;32m    174\u001b[0m \u001b[38;5;28;01mfor\u001b[39;00m epoch \u001b[38;5;129;01min\u001b[39;00m \u001b[38;5;28mrange\u001b[39m(\u001b[38;5;241m1\u001b[39m, dict_training[\u001b[38;5;124m\"\u001b[39m\u001b[38;5;124mnum_epochs\u001b[39m\u001b[38;5;124m\"\u001b[39m] \u001b[38;5;241m+\u001b[39m \u001b[38;5;241m1\u001b[39m):\n\u001b[1;32m--> 176\u001b[0m     train_acc, train_F1, train_loss  \u001b[38;5;241m=\u001b[39m \u001b[43mtrain_epoch\u001b[49m\u001b[43m(\u001b[49m\u001b[43mtrain_loader\u001b[49m\u001b[43m,\u001b[49m\u001b[43m \u001b[49m\u001b[43mmodel\u001b[49m\u001b[43m,\u001b[49m\u001b[43m \u001b[49m\u001b[43moptimizer\u001b[49m\u001b[43m,\u001b[49m\u001b[43m \u001b[49m\u001b[43mepoch\u001b[49m\u001b[43m,\u001b[49m\u001b[43m \u001b[49m\u001b[43mloss_fn\u001b[49m\u001b[43m,\u001b[49m\u001b[43m \u001b[49m\u001b[43mdict_training\u001b[49m\u001b[43m[\u001b[49m\u001b[38;5;124;43m\"\u001b[39;49m\u001b[38;5;124;43mscaler\u001b[39;49m\u001b[38;5;124;43m\"\u001b[39;49m\u001b[43m]\u001b[49m\u001b[43m,\u001b[49m\u001b[43mdevice\u001b[49m\u001b[38;5;241;43m=\u001b[39;49m\u001b[43mdict_training\u001b[49m\u001b[43m[\u001b[49m\u001b[38;5;124;43m\"\u001b[39;49m\u001b[38;5;124;43mdevice\u001b[39;49m\u001b[38;5;124;43m\"\u001b[39;49m\u001b[43m]\u001b[49m\u001b[43m)\u001b[49m\n\u001b[0;32m    177\u001b[0m     val_acc, val_F1, val_loss \u001b[38;5;241m=\u001b[39m check_F1_score(val_loader, model, epoch, loss_fn,device\u001b[38;5;241m=\u001b[39mdict_training[\u001b[38;5;124m\"\u001b[39m\u001b[38;5;124mdevice\u001b[39m\u001b[38;5;124m\"\u001b[39m])\n\u001b[0;32m    179\u001b[0m     fold_path[\u001b[38;5;124m\"\u001b[39m\u001b[38;5;124mtrain_acc\u001b[39m\u001b[38;5;124m\"\u001b[39m]\u001b[38;5;241m.\u001b[39mappend(train_acc)\n",
      "File \u001b[1;32mD:\\Users\\Mathieu\\Documents\\EPFL\\Master\\ML\\Project2\\static_augmentation\\experiments\\../utils\\train_procedure.py:48\u001b[0m, in \u001b[0;36mtrain_epoch\u001b[1;34m(train_loader, model, optimizer, epoch, loss_fn, scaler, device, scheduler)\u001b[0m\n\u001b[0;32m     46\u001b[0m optimizer\u001b[38;5;241m.\u001b[39mzero_grad()\n\u001b[0;32m     47\u001b[0m scaler\u001b[38;5;241m.\u001b[39mscale(loss)\u001b[38;5;241m.\u001b[39mbackward()\n\u001b[1;32m---> 48\u001b[0m \u001b[43mscaler\u001b[49m\u001b[38;5;241;43m.\u001b[39;49m\u001b[43mstep\u001b[49m\u001b[43m(\u001b[49m\u001b[43moptimizer\u001b[49m\u001b[43m)\u001b[49m\n\u001b[0;32m     49\u001b[0m scaler\u001b[38;5;241m.\u001b[39mupdate()\n\u001b[0;32m     51\u001b[0m \u001b[38;5;66;03m# update tqdm loop\u001b[39;00m\n",
      "File \u001b[1;32m~\\anaconda3\\envs\\env_pytorch\\lib\\site-packages\\torch\\cuda\\amp\\grad_scaler.py:341\u001b[0m, in \u001b[0;36mGradScaler.step\u001b[1;34m(self, optimizer, *args, **kwargs)\u001b[0m\n\u001b[0;32m    337\u001b[0m     \u001b[38;5;28mself\u001b[39m\u001b[38;5;241m.\u001b[39munscale_(optimizer)\n\u001b[0;32m    339\u001b[0m \u001b[38;5;28;01massert\u001b[39;00m \u001b[38;5;28mlen\u001b[39m(optimizer_state[\u001b[38;5;124m\"\u001b[39m\u001b[38;5;124mfound_inf_per_device\u001b[39m\u001b[38;5;124m\"\u001b[39m]) \u001b[38;5;241m>\u001b[39m \u001b[38;5;241m0\u001b[39m, \u001b[38;5;124m\"\u001b[39m\u001b[38;5;124mNo inf checks were recorded for this optimizer.\u001b[39m\u001b[38;5;124m\"\u001b[39m\n\u001b[1;32m--> 341\u001b[0m retval \u001b[38;5;241m=\u001b[39m \u001b[38;5;28mself\u001b[39m\u001b[38;5;241m.\u001b[39m_maybe_opt_step(optimizer, optimizer_state, \u001b[38;5;241m*\u001b[39margs, \u001b[38;5;241m*\u001b[39m\u001b[38;5;241m*\u001b[39mkwargs)\n\u001b[0;32m    343\u001b[0m optimizer_state[\u001b[38;5;124m\"\u001b[39m\u001b[38;5;124mstage\u001b[39m\u001b[38;5;124m\"\u001b[39m] \u001b[38;5;241m=\u001b[39m OptState\u001b[38;5;241m.\u001b[39mSTEPPED\n\u001b[0;32m    345\u001b[0m \u001b[38;5;28;01mreturn\u001b[39;00m retval\n",
      "File \u001b[1;32m~\\anaconda3\\envs\\env_pytorch\\lib\\site-packages\\torch\\cuda\\amp\\grad_scaler.py:287\u001b[0m, in \u001b[0;36mGradScaler._maybe_opt_step\u001b[1;34m(self, optimizer, optimizer_state, *args, **kwargs)\u001b[0m\n\u001b[0;32m    285\u001b[0m \u001b[38;5;28;01mdef\u001b[39;00m \u001b[38;5;21m_maybe_opt_step\u001b[39m(\u001b[38;5;28mself\u001b[39m, optimizer, optimizer_state, \u001b[38;5;241m*\u001b[39margs, \u001b[38;5;241m*\u001b[39m\u001b[38;5;241m*\u001b[39mkwargs):\n\u001b[0;32m    286\u001b[0m     retval \u001b[38;5;241m=\u001b[39m \u001b[38;5;28;01mNone\u001b[39;00m\n\u001b[1;32m--> 287\u001b[0m     \u001b[38;5;28;01mif\u001b[39;00m \u001b[38;5;129;01mnot\u001b[39;00m \u001b[38;5;28;43msum\u001b[39;49m\u001b[43m(\u001b[49m\u001b[43mv\u001b[49m\u001b[38;5;241;43m.\u001b[39;49m\u001b[43mitem\u001b[49m\u001b[43m(\u001b[49m\u001b[43m)\u001b[49m\u001b[43m \u001b[49m\u001b[38;5;28;43;01mfor\u001b[39;49;00m\u001b[43m \u001b[49m\u001b[43mv\u001b[49m\u001b[43m \u001b[49m\u001b[38;5;129;43;01min\u001b[39;49;00m\u001b[43m \u001b[49m\u001b[43moptimizer_state\u001b[49m\u001b[43m[\u001b[49m\u001b[38;5;124;43m\"\u001b[39;49m\u001b[38;5;124;43mfound_inf_per_device\u001b[39;49m\u001b[38;5;124;43m\"\u001b[39;49m\u001b[43m]\u001b[49m\u001b[38;5;241;43m.\u001b[39;49m\u001b[43mvalues\u001b[49m\u001b[43m(\u001b[49m\u001b[43m)\u001b[49m\u001b[43m)\u001b[49m:\n\u001b[0;32m    288\u001b[0m         retval \u001b[38;5;241m=\u001b[39m optimizer\u001b[38;5;241m.\u001b[39mstep(\u001b[38;5;241m*\u001b[39margs, \u001b[38;5;241m*\u001b[39m\u001b[38;5;241m*\u001b[39mkwargs)\n\u001b[0;32m    289\u001b[0m     \u001b[38;5;28;01mreturn\u001b[39;00m retval\n",
      "File \u001b[1;32m~\\anaconda3\\envs\\env_pytorch\\lib\\site-packages\\torch\\cuda\\amp\\grad_scaler.py:287\u001b[0m, in \u001b[0;36m<genexpr>\u001b[1;34m(.0)\u001b[0m\n\u001b[0;32m    285\u001b[0m \u001b[38;5;28;01mdef\u001b[39;00m \u001b[38;5;21m_maybe_opt_step\u001b[39m(\u001b[38;5;28mself\u001b[39m, optimizer, optimizer_state, \u001b[38;5;241m*\u001b[39margs, \u001b[38;5;241m*\u001b[39m\u001b[38;5;241m*\u001b[39mkwargs):\n\u001b[0;32m    286\u001b[0m     retval \u001b[38;5;241m=\u001b[39m \u001b[38;5;28;01mNone\u001b[39;00m\n\u001b[1;32m--> 287\u001b[0m     \u001b[38;5;28;01mif\u001b[39;00m \u001b[38;5;129;01mnot\u001b[39;00m \u001b[38;5;28msum\u001b[39m(\u001b[43mv\u001b[49m\u001b[38;5;241;43m.\u001b[39;49m\u001b[43mitem\u001b[49m\u001b[43m(\u001b[49m\u001b[43m)\u001b[49m \u001b[38;5;28;01mfor\u001b[39;00m v \u001b[38;5;129;01min\u001b[39;00m optimizer_state[\u001b[38;5;124m\"\u001b[39m\u001b[38;5;124mfound_inf_per_device\u001b[39m\u001b[38;5;124m\"\u001b[39m]\u001b[38;5;241m.\u001b[39mvalues()):\n\u001b[0;32m    288\u001b[0m         retval \u001b[38;5;241m=\u001b[39m optimizer\u001b[38;5;241m.\u001b[39mstep(\u001b[38;5;241m*\u001b[39margs, \u001b[38;5;241m*\u001b[39m\u001b[38;5;241m*\u001b[39mkwargs)\n\u001b[0;32m    289\u001b[0m     \u001b[38;5;28;01mreturn\u001b[39;00m retval\n",
      "\u001b[1;31mKeyboardInterrupt\u001b[0m: "
     ]
    }
   ],
   "source": [
    "dict_train5 ={\"save_model\": False,\n",
    "            \"cross_val\": True,\n",
    "            \"skip_connection\": True,\n",
    "            \"num_epochs\": 10,\n",
    "            \"n_splits\": 2,\n",
    "            \"batch_size\": 10,\n",
    "            \"scale_channel\": 1,\n",
    "            \"dict_double_conv\": {\"BatchNorm\": True,\n",
    "                \"activation\": nn.ELU(inplace=True),\n",
    "                \"p_dropout\": 0.2,\n",
    "                \"use_dropout\": True,\n",
    "                \"bias\": False},\n",
    "            \"dict_ups\": {\"BatchNorm\": False,\n",
    "                \"p_dropout\": 0.2,\n",
    "                \"use_dropout\": False,\n",
    "                \"bias\": False},\n",
    "            \"loss\": nn.BCEWithLogitsLoss(),\n",
    "            \"optimizer\": optim.Adam,\n",
    "            \"param_optimizer\": {\"weight_decay\": None,\n",
    "                               \"lr\": 5e-04},\n",
    "            \"use_scheduler\": True,\n",
    "            \"type_scheduler\": \"StepLR\",\n",
    "            \"scheduler\": torch.optim.lr_scheduler.StepLR,\n",
    "            \"param_scheduler\": {\"step_size\": 4,\n",
    "                               \"gamma\": 0.1},\n",
    "             \"scaler\": torch.cuda.amp.GradScaler(),\n",
    "             \"device\": DEVICE\n",
    "            }\n",
    "\n",
    "\n",
    "experiment5 = {\"param\": dict_train5}\n",
    "experiment5[\"convergence_path\"] = run_training(dict_train5) \n",
    "\n",
    "\n",
    "f = open(\"result_exp/experiment5.pkl\",\"wb\")\n",
    "pickle.dump(experiment5,f)\n",
    "f.close()"
   ]
  },
  {
   "cell_type": "markdown",
   "id": "e62d098e",
   "metadata": {},
   "source": [
    "## Experiment 6"
   ]
  },
  {
   "cell_type": "code",
   "execution_count": null,
   "id": "5ce14306",
   "metadata": {},
   "outputs": [],
   "source": [
    "dict_train6 ={\"save_model\": False,\n",
    "            \"cross_val\": True,\n",
    "            \"skip_connection\": True,\n",
    "            \"num_epochs\": 10,\n",
    "            \"n_splits\": 2,\n",
    "            \"batch_size\": 10,\n",
    "            \"scale_channel\": 1,\n",
    "            \"dict_double_conv\": {\"BatchNorm\": True,\n",
    "                \"activation\": nn.ELU(inplace=True),\n",
    "                \"p_dropout\": 0.5,\n",
    "                \"use_dropout\": True,\n",
    "                \"bias\": False},\n",
    "            \"dict_ups\": {\"BatchNorm\": False,\n",
    "                \"p_dropout\": 0.2,\n",
    "                \"use_dropout\": False,\n",
    "                \"bias\": False},\n",
    "            \"loss\": nn.BCEWithLogitsLoss(),\n",
    "            \"optimizer\": optim.Adam,\n",
    "            \"param_optimizer\": {\"weight_decay\": None,\n",
    "                               \"lr\": 5e-04},\n",
    "            \"use_scheduler\": True,\n",
    "            \"type_scheduler\": \"StepLR\",\n",
    "            \"scheduler\": torch.optim.lr_scheduler.StepLR,\n",
    "            \"param_scheduler\": {\"step_size\": 4,\n",
    "                               \"gamma\": 0.1},\n",
    "             \"scaler\": torch.cuda.amp.GradScaler(),\n",
    "             \"device\": DEVICE\n",
    "            }\n",
    "\n",
    "\n",
    "experiment6 = {\"param\": dict_train6}\n",
    "experiment6[\"convergence_path\"] = run_training(dict_train6) \n",
    "\n",
    "\n",
    "f = open(\"result_exp/experiment6.pkl\",\"wb\")\n",
    "pickle.dump(experiment6,f)\n",
    "f.close()"
   ]
  },
  {
   "cell_type": "code",
   "execution_count": 8,
   "id": "a24c65b7",
   "metadata": {},
   "outputs": [
    {
     "ename": "NameError",
     "evalue": "name 'exp5' is not defined",
     "output_type": "error",
     "traceback": [
      "\u001b[0;31m---------------------------------------------------------------------------\u001b[0m",
      "\u001b[0;31mNameError\u001b[0m                                 Traceback (most recent call last)",
      "Input \u001b[0;32mIn [8]\u001b[0m, in \u001b[0;36m<cell line: 17>\u001b[0;34m()\u001b[0m\n\u001b[1;32m     14\u001b[0m f\u001b[38;5;241m.\u001b[39mclose()\n\u001b[1;32m     16\u001b[0m prev_exp_last_val_F1 \u001b[38;5;241m=\u001b[39m \u001b[38;5;241m0.5\u001b[39m\u001b[38;5;241m*\u001b[39m(np\u001b[38;5;241m.\u001b[39marray(previous_exp[\u001b[38;5;124m\"\u001b[39m\u001b[38;5;124mconvergence_path\u001b[39m\u001b[38;5;124m\"\u001b[39m][\u001b[38;5;124m\"\u001b[39m\u001b[38;5;124mKfold 0\u001b[39m\u001b[38;5;124m\"\u001b[39m][\u001b[38;5;124m\"\u001b[39m\u001b[38;5;124mval_F1\u001b[39m\u001b[38;5;124m\"\u001b[39m]) \u001b[38;5;241m+\u001b[39m np\u001b[38;5;241m.\u001b[39marray(previous_exp[\u001b[38;5;124m\"\u001b[39m\u001b[38;5;124mconvergence_path\u001b[39m\u001b[38;5;124m\"\u001b[39m][\u001b[38;5;124m\"\u001b[39m\u001b[38;5;124mKfold 1\u001b[39m\u001b[38;5;124m\"\u001b[39m][\u001b[38;5;124m\"\u001b[39m\u001b[38;5;124mval_F1\u001b[39m\u001b[38;5;124m\"\u001b[39m]))\n\u001b[0;32m---> 17\u001b[0m exp5_last_val_F1 \u001b[38;5;241m=\u001b[39m \u001b[38;5;241m0.5\u001b[39m\u001b[38;5;241m*\u001b[39m(np\u001b[38;5;241m.\u001b[39marray(\u001b[43mexp5\u001b[49m[\u001b[38;5;124m\"\u001b[39m\u001b[38;5;124mconvergence_path\u001b[39m\u001b[38;5;124m\"\u001b[39m][\u001b[38;5;124m\"\u001b[39m\u001b[38;5;124mKfold 0\u001b[39m\u001b[38;5;124m\"\u001b[39m][\u001b[38;5;124m\"\u001b[39m\u001b[38;5;124mval_F1\u001b[39m\u001b[38;5;124m\"\u001b[39m]) \u001b[38;5;241m+\u001b[39m np\u001b[38;5;241m.\u001b[39marray(exp5[\u001b[38;5;124m\"\u001b[39m\u001b[38;5;124mconvergence_path\u001b[39m\u001b[38;5;124m\"\u001b[39m][\u001b[38;5;124m\"\u001b[39m\u001b[38;5;124mKfold 1\u001b[39m\u001b[38;5;124m\"\u001b[39m][\u001b[38;5;124m\"\u001b[39m\u001b[38;5;124mval_F1\u001b[39m\u001b[38;5;124m\"\u001b[39m]))\n\u001b[1;32m     18\u001b[0m exp6_last_val_F1 \u001b[38;5;241m=\u001b[39m \u001b[38;5;241m0.5\u001b[39m\u001b[38;5;241m*\u001b[39m(np\u001b[38;5;241m.\u001b[39marray(exp6[\u001b[38;5;124m\"\u001b[39m\u001b[38;5;124mconvergence_path\u001b[39m\u001b[38;5;124m\"\u001b[39m][\u001b[38;5;124m\"\u001b[39m\u001b[38;5;124mKfold 0\u001b[39m\u001b[38;5;124m\"\u001b[39m][\u001b[38;5;124m\"\u001b[39m\u001b[38;5;124mval_F1\u001b[39m\u001b[38;5;124m\"\u001b[39m]) \u001b[38;5;241m+\u001b[39m np\u001b[38;5;241m.\u001b[39marray(exp6[\u001b[38;5;124m\"\u001b[39m\u001b[38;5;124mconvergence_path\u001b[39m\u001b[38;5;124m\"\u001b[39m][\u001b[38;5;124m\"\u001b[39m\u001b[38;5;124mKfold 1\u001b[39m\u001b[38;5;124m\"\u001b[39m][\u001b[38;5;124m\"\u001b[39m\u001b[38;5;124mval_F1\u001b[39m\u001b[38;5;124m\"\u001b[39m]))\n",
      "\u001b[0;31mNameError\u001b[0m: name 'exp5' is not defined"
     ]
    }
   ],
   "source": [
    "import io\n",
    "\n",
    "class CPU_Unpickler(pickle.Unpickler):\n",
    "    def find_class(self, module, name):\n",
    "        if module == 'torch.storage' and name == '_load_from_bytes':\n",
    "            return lambda b: torch.load(io.BytesIO(b), map_location='cpu')\n",
    "        else:\n",
    "            return super().find_class(module, name)\n",
    "\n",
    "\n",
    "\n",
    "f = open(f\"result_exp/experiment{2}bis.pkl\",\"rb\")\n",
    "previous_exp = CPU_Unpickler(f).load()\n",
    "f.close()\n",
    "\n",
    "prev_exp_last_val_F1 = 0.5*(np.array(previous_exp[\"convergence_path\"][\"Kfold 0\"][\"val_F1\"]) + np.array(previous_exp[\"convergence_path\"][\"Kfold 1\"][\"val_F1\"]))\n",
    "exp5_last_val_F1 = 0.5*(np.array(exp5[\"convergence_path\"][\"Kfold 0\"][\"val_F1\"]) + np.array(exp5[\"convergence_path\"][\"Kfold 1\"][\"val_F1\"]))\n",
    "exp6_last_val_F1 = 0.5*(np.array(exp6[\"convergence_path\"][\"Kfold 0\"][\"val_F1\"]) + np.array(exp6[\"convergence_path\"][\"Kfold 1\"][\"val_F1\"]))\n",
    "\n",
    "best_val_F1 = 0\n",
    "\n",
    "if prev_exp_last_val_F1 > max(exp5_last_val_F1,exp6_last_val_F1):\n",
    "    use_drop = False\n",
    "    best_val_F1 = prev_exp_last_val_F1\n",
    "else:\n",
    "    use_drop = True\n",
    "    if exp5_last_val_F1>exp6_last_val_F1:\n",
    "        p = 0.2\n",
    "        best_val_F1 =  exp5_last_val_F1\n",
    "    else:\n",
    "        p = 0.5\n",
    "        best_val_F1 =  exp6_last_val_F1"
   ]
  },
  {
   "cell_type": "markdown",
   "id": "5b16a1ea",
   "metadata": {},
   "source": [
    "## Experiment 7"
   ]
  },
  {
   "cell_type": "code",
   "execution_count": null,
   "id": "97ff5d65",
   "metadata": {},
   "outputs": [],
   "source": [
    "dict_train7 ={\"save_model\": False,\n",
    "            \"cross_val\": True,\n",
    "            \"skip_connection\": True,\n",
    "            \"num_epochs\": 10,\n",
    "            \"n_splits\": 2,\n",
    "            \"batch_size\": 1,\n",
    "            \"scale_channel\": 1,\n",
    "            \"dict_double_conv\": {\"BatchNorm\": True,\n",
    "                \"activation\": nn.ELU(inplace=True),\n",
    "                \"p_dropout\": p,\n",
    "                \"use_dropout\": use_drop,\n",
    "                \"bias\": False},\n",
    "            \"dict_ups\": {\"BatchNorm\": False,\n",
    "                \"p_dropout\": 0.2,\n",
    "                \"use_dropout\": False,\n",
    "                \"bias\": False},\n",
    "            \"loss\": nn.BCEWithLogitsLoss(),\n",
    "            \"optimizer\": optim.Adam,\n",
    "            \"param_optimizer\": {\"weight_decay\": None,\n",
    "                               \"lr\": 5e-04},\n",
    "            \"use_scheduler\": True,\n",
    "            \"type_scheduler\": \"StepLR\",\n",
    "            \"scheduler\": torch.optim.lr_scheduler.StepLR,\n",
    "            \"param_scheduler\": {\"step_size\": 4,\n",
    "                               \"gamma\": 0.1},\n",
    "             \"scaler\": torch.cuda.amp.GradScaler(),\n",
    "             \"device\": DEVICE\n",
    "            }\n",
    "\n",
    "\n",
    "experiment7 = {\"param\": dict_train7}\n",
    "experiment7[\"convergence_path\"] = run_training(dict_train7) \n",
    "\n",
    "\n",
    "f = open(\"result_exp/experiment7.pkl\",\"wb\")\n",
    "pickle.dump(experiment7,f)\n",
    "f.close()"
   ]
  },
  {
   "cell_type": "markdown",
   "id": "fbeb422e",
   "metadata": {},
   "source": [
    "## Experiment 8"
   ]
  },
  {
   "cell_type": "code",
   "execution_count": null,
   "id": "2ad652d8",
   "metadata": {},
   "outputs": [],
   "source": [
    "dict_train8 ={\"save_model\": False,\n",
    "            \"cross_val\": True,\n",
    "            \"skip_connection\": True,\n",
    "            \"num_epochs\": 10,\n",
    "            \"n_splits\": 2,\n",
    "            \"batch_size\": 20,\n",
    "            \"scale_channel\": 1,\n",
    "            \"dict_double_conv\": {\"BatchNorm\": True,\n",
    "                \"activation\": nn.ELU(inplace=True),\n",
    "                \"p_dropout\": p,\n",
    "                \"use_dropout\": use_drop,\n",
    "                \"bias\": False},\n",
    "            \"dict_ups\": {\"BatchNorm\": False,\n",
    "                \"p_dropout\": 0.2,\n",
    "                \"use_dropout\": False,\n",
    "                \"bias\": False},\n",
    "            \"loss\": nn.BCEWithLogitsLoss(),\n",
    "            \"optimizer\": optim.Adam,\n",
    "            \"param_optimizer\": {\"weight_decay\": None,\n",
    "                               \"lr\": 5e-04},\n",
    "            \"use_scheduler\": True,\n",
    "            \"type_scheduler\": \"StepLR\",\n",
    "            \"scheduler\": torch.optim.lr_scheduler.StepLR,\n",
    "            \"param_scheduler\": {\"step_size\": 4,\n",
    "                               \"gamma\": 0.1},\n",
    "             \"scaler\": torch.cuda.amp.GradScaler(),\n",
    "             \"device\": DEVICE\n",
    "            }\n",
    "\n",
    "\n",
    "experiment8 = {\"param\": dict_train8}\n",
    "experiment8[\"convergence_path\"] = run_training(dict_train8) \n",
    "\n",
    "\n",
    "f = open(\"result_exp/experiment8.pkl\",\"wb\")\n",
    "pickle.dump(experiment8,f)\n",
    "f.close()"
   ]
  },
  {
   "cell_type": "code",
   "execution_count": null,
   "id": "c7c6b2c2",
   "metadata": {},
   "outputs": [],
   "source": [
    "exp7_last_val_F1 = 0.5*(np.array(exp7[\"convergence_path\"][\"Kfold 0\"][\"val_F1\"]) + np.array(exp7[\"convergence_path\"][\"Kfold 1\"][\"val_F1\"]))\n",
    "exp8_last_val_F1 = 0.5*(np.array(exp8[\"convergence_path\"][\"Kfold 0\"][\"val_F1\"]) + np.array(exp8[\"convergence_path\"][\"Kfold 1\"][\"val_F1\"]))\n",
    "\n",
    "\n",
    "if best_val_F1 > max(exp7_last_val_F1,exp6_last_val_F1):\n",
    "        new_batch_size = 10\n",
    "    best_val_F1 = best_val_F1\n",
    "elif exp7_last_val_F1>max(best_val_F1,exp8_last_val_F1):\n",
    "        new_batch_size = 1\n",
    "        best_val_F1 =  exp7_last_val_F1\n",
    "elif exp8_last_val_F1>max(best_val_F1,exp7_last_val_F1):\n",
    "        new_batch_size = 20\n",
    "        best_val_F1 =  exp8_last_val_F1"
   ]
  },
  {
   "cell_type": "markdown",
   "id": "c8c1ce24",
   "metadata": {},
   "source": [
    "## Experiment 9"
   ]
  },
  {
   "cell_type": "code",
   "execution_count": 15,
   "id": "88a6425f",
   "metadata": {},
   "outputs": [
    {
     "name": "stdout",
     "output_type": "stream",
     "text": [
      "-------------------------- 1 fold --------------------------\n"
     ]
    },
    {
     "name": "stderr",
     "output_type": "stream",
     "text": [
      "\r",
      "  0%|                                                  | 0/1100 [00:00<?, ?it/s]"
     ]
    },
    {
     "name": "stdout",
     "output_type": "stream",
     "text": [
      "(280, 280)\n"
     ]
    },
    {
     "name": "stderr",
     "output_type": "stream",
     "text": [
      "  0%|                              | 1/1100 [00:01<19:47,  1.08s/it, loss=0.901]"
     ]
    },
    {
     "name": "stdout",
     "output_type": "stream",
     "text": [
      "(280, 280)\n"
     ]
    },
    {
     "name": "stderr",
     "output_type": "stream",
     "text": [
      "  0%|                               | 2/1100 [00:01<17:51,  1.03it/s, loss=1.01]"
     ]
    },
    {
     "name": "stdout",
     "output_type": "stream",
     "text": [
      "(280, 280)\n"
     ]
    },
    {
     "name": "stderr",
     "output_type": "stream",
     "text": [
      "  0%|                              | 3/1100 [00:02<15:42,  1.16it/s, loss=0.781]"
     ]
    },
    {
     "name": "stdout",
     "output_type": "stream",
     "text": [
      "(280, 280)\n"
     ]
    },
    {
     "name": "stderr",
     "output_type": "stream",
     "text": [
      "  0%|                              | 4/1100 [00:03<14:43,  1.24it/s, loss=0.826]"
     ]
    },
    {
     "name": "stdout",
     "output_type": "stream",
     "text": [
      "(280, 280)\n"
     ]
    },
    {
     "name": "stderr",
     "output_type": "stream",
     "text": [
      "  0%|▏                             | 5/1100 [00:04<14:09,  1.29it/s, loss=0.769]"
     ]
    },
    {
     "name": "stdout",
     "output_type": "stream",
     "text": [
      "(280, 280)\n"
     ]
    },
    {
     "name": "stderr",
     "output_type": "stream",
     "text": [
      "  1%|▏                             | 6/1100 [00:04<13:48,  1.32it/s, loss=0.853]"
     ]
    },
    {
     "name": "stdout",
     "output_type": "stream",
     "text": [
      "(280, 280)\n"
     ]
    },
    {
     "name": "stderr",
     "output_type": "stream",
     "text": [
      "  1%|▏                             | 7/1100 [00:05<14:08,  1.29it/s, loss=0.777]"
     ]
    },
    {
     "name": "stdout",
     "output_type": "stream",
     "text": [
      "(280, 280)\n"
     ]
    },
    {
     "name": "stderr",
     "output_type": "stream",
     "text": [
      "  1%|▏                             | 8/1100 [00:06<14:35,  1.25it/s, loss=0.768]"
     ]
    },
    {
     "name": "stdout",
     "output_type": "stream",
     "text": [
      "(280, 280)\n"
     ]
    },
    {
     "name": "stderr",
     "output_type": "stream",
     "text": [
      "  1%|▎                              | 9/1100 [00:07<14:11,  1.28it/s, loss=0.75]"
     ]
    },
    {
     "name": "stdout",
     "output_type": "stream",
     "text": [
      "(280, 280)\n"
     ]
    },
    {
     "name": "stderr",
     "output_type": "stream",
     "text": [
      "  1%|▎                            | 10/1100 [00:08<13:54,  1.31it/s, loss=0.705]"
     ]
    },
    {
     "name": "stdout",
     "output_type": "stream",
     "text": [
      "(280, 280)\n"
     ]
    },
    {
     "name": "stderr",
     "output_type": "stream",
     "text": [
      "  1%|▎                            | 11/1100 [00:08<13:37,  1.33it/s, loss=0.912]"
     ]
    },
    {
     "name": "stdout",
     "output_type": "stream",
     "text": [
      "(280, 280)\n"
     ]
    },
    {
     "name": "stderr",
     "output_type": "stream",
     "text": [
      "  1%|▎                            | 12/1100 [00:09<14:04,  1.29it/s, loss=0.766]"
     ]
    },
    {
     "name": "stdout",
     "output_type": "stream",
     "text": [
      "(280, 280)\n"
     ]
    },
    {
     "name": "stderr",
     "output_type": "stream",
     "text": [
      "  1%|▎                            | 13/1100 [00:10<14:51,  1.22it/s, loss=0.914]"
     ]
    },
    {
     "name": "stdout",
     "output_type": "stream",
     "text": [
      "(280, 280)\n"
     ]
    },
    {
     "name": "stderr",
     "output_type": "stream",
     "text": [
      "  1%|▎                            | 14/1100 [00:11<14:22,  1.26it/s, loss=0.729]"
     ]
    },
    {
     "name": "stdout",
     "output_type": "stream",
     "text": [
      "(280, 280)\n"
     ]
    },
    {
     "name": "stderr",
     "output_type": "stream",
     "text": [
      "  1%|▍                            | 15/1100 [00:11<14:07,  1.28it/s, loss=0.754]"
     ]
    },
    {
     "name": "stdout",
     "output_type": "stream",
     "text": [
      "(280, 280)\n"
     ]
    },
    {
     "name": "stderr",
     "output_type": "stream",
     "text": [
      "  1%|▍                            | 16/1100 [00:12<13:50,  1.31it/s, loss=0.728]"
     ]
    },
    {
     "name": "stdout",
     "output_type": "stream",
     "text": [
      "(280, 280)\n"
     ]
    },
    {
     "name": "stderr",
     "output_type": "stream",
     "text": [
      "  2%|▍                            | 17/1100 [00:13<13:52,  1.30it/s, loss=0.736]"
     ]
    },
    {
     "name": "stdout",
     "output_type": "stream",
     "text": [
      "(280, 280)\n"
     ]
    },
    {
     "name": "stderr",
     "output_type": "stream",
     "text": [
      "  2%|▍                            | 18/1100 [00:14<13:51,  1.30it/s, loss=0.743]"
     ]
    },
    {
     "name": "stdout",
     "output_type": "stream",
     "text": [
      "(280, 280)\n"
     ]
    },
    {
     "name": "stderr",
     "output_type": "stream",
     "text": [
      "  2%|▌                            | 19/1100 [00:15<13:50,  1.30it/s, loss=0.757]"
     ]
    },
    {
     "name": "stdout",
     "output_type": "stream",
     "text": [
      "(280, 280)\n"
     ]
    },
    {
     "name": "stderr",
     "output_type": "stream",
     "text": [
      "  2%|▌                            | 20/1100 [00:15<13:48,  1.30it/s, loss=0.703]"
     ]
    },
    {
     "name": "stdout",
     "output_type": "stream",
     "text": [
      "(280, 280)\n"
     ]
    },
    {
     "name": "stderr",
     "output_type": "stream",
     "text": [
      "  2%|▌                            | 21/1100 [00:16<14:42,  1.22it/s, loss=0.702]"
     ]
    },
    {
     "name": "stdout",
     "output_type": "stream",
     "text": [
      "(280, 280)\n"
     ]
    },
    {
     "name": "stderr",
     "output_type": "stream",
     "text": [
      "  2%|▌                            | 22/1100 [00:17<14:31,  1.24it/s, loss=0.739]"
     ]
    },
    {
     "name": "stdout",
     "output_type": "stream",
     "text": [
      "(280, 280)\n"
     ]
    },
    {
     "name": "stderr",
     "output_type": "stream",
     "text": [
      "  2%|▌                            | 23/1100 [00:18<14:11,  1.26it/s, loss=0.715]"
     ]
    },
    {
     "name": "stdout",
     "output_type": "stream",
     "text": [
      "(280, 280)\n"
     ]
    },
    {
     "name": "stderr",
     "output_type": "stream",
     "text": [
      "  2%|▋                             | 24/1100 [00:18<13:58,  1.28it/s, loss=0.69]"
     ]
    },
    {
     "name": "stdout",
     "output_type": "stream",
     "text": [
      "(280, 280)\n"
     ]
    },
    {
     "name": "stderr",
     "output_type": "stream",
     "text": [
      "  2%|▋                            | 25/1100 [00:19<13:44,  1.30it/s, loss=0.674]"
     ]
    },
    {
     "name": "stdout",
     "output_type": "stream",
     "text": [
      "(280, 280)\n"
     ]
    },
    {
     "name": "stderr",
     "output_type": "stream",
     "text": [
      "  2%|▋                            | 26/1100 [00:20<13:34,  1.32it/s, loss=0.685]"
     ]
    },
    {
     "name": "stdout",
     "output_type": "stream",
     "text": [
      "(280, 280)\n"
     ]
    },
    {
     "name": "stderr",
     "output_type": "stream",
     "text": [
      "  2%|▋                            | 27/1100 [00:21<13:25,  1.33it/s, loss=0.717]"
     ]
    },
    {
     "name": "stdout",
     "output_type": "stream",
     "text": [
      "(280, 280)\n"
     ]
    },
    {
     "name": "stderr",
     "output_type": "stream",
     "text": [
      "  3%|▋                            | 28/1100 [00:21<13:24,  1.33it/s, loss=0.735]"
     ]
    },
    {
     "name": "stdout",
     "output_type": "stream",
     "text": [
      "(280, 280)\n"
     ]
    },
    {
     "name": "stderr",
     "output_type": "stream",
     "text": [
      "  3%|▊                            | 29/1100 [00:22<13:23,  1.33it/s, loss=0.645]"
     ]
    },
    {
     "name": "stdout",
     "output_type": "stream",
     "text": [
      "(280, 280)\n"
     ]
    },
    {
     "name": "stderr",
     "output_type": "stream",
     "text": [
      "  3%|▊                            | 30/1100 [00:23<13:32,  1.32it/s, loss=0.701]"
     ]
    },
    {
     "name": "stdout",
     "output_type": "stream",
     "text": [
      "(280, 280)\n"
     ]
    },
    {
     "name": "stderr",
     "output_type": "stream",
     "text": [
      "  3%|▊                            | 31/1100 [00:24<14:25,  1.24it/s, loss=0.689]"
     ]
    },
    {
     "name": "stdout",
     "output_type": "stream",
     "text": [
      "(280, 280)\n"
     ]
    },
    {
     "name": "stderr",
     "output_type": "stream",
     "text": [
      "  3%|▊                            | 32/1100 [00:25<15:06,  1.18it/s, loss=0.714]"
     ]
    },
    {
     "name": "stdout",
     "output_type": "stream",
     "text": [
      "(280, 280)\n"
     ]
    },
    {
     "name": "stderr",
     "output_type": "stream",
     "text": [
      "  3%|▊                            | 33/1100 [00:26<14:48,  1.20it/s, loss=0.616]"
     ]
    },
    {
     "name": "stdout",
     "output_type": "stream",
     "text": [
      "(280, 280)\n"
     ]
    },
    {
     "name": "stderr",
     "output_type": "stream",
     "text": [
      "  3%|▉                            | 34/1100 [00:26<14:30,  1.22it/s, loss=0.726]"
     ]
    },
    {
     "name": "stdout",
     "output_type": "stream",
     "text": [
      "(280, 280)\n"
     ]
    },
    {
     "name": "stderr",
     "output_type": "stream",
     "text": [
      "  3%|▉                            | 35/1100 [00:27<14:10,  1.25it/s, loss=0.623]"
     ]
    },
    {
     "name": "stdout",
     "output_type": "stream",
     "text": [
      "(280, 280)\n"
     ]
    },
    {
     "name": "stderr",
     "output_type": "stream",
     "text": [
      "  3%|▉                            | 36/1100 [00:28<13:52,  1.28it/s, loss=0.695]"
     ]
    },
    {
     "name": "stdout",
     "output_type": "stream",
     "text": [
      "(280, 280)\n"
     ]
    },
    {
     "name": "stderr",
     "output_type": "stream",
     "text": [
      "  3%|▉                            | 37/1100 [00:29<13:39,  1.30it/s, loss=0.684]"
     ]
    },
    {
     "name": "stdout",
     "output_type": "stream",
     "text": [
      "(280, 280)\n"
     ]
    },
    {
     "name": "stderr",
     "output_type": "stream",
     "text": [
      "  3%|█                            | 38/1100 [00:29<13:27,  1.32it/s, loss=0.694]"
     ]
    },
    {
     "name": "stdout",
     "output_type": "stream",
     "text": [
      "(280, 280)\n"
     ]
    },
    {
     "name": "stderr",
     "output_type": "stream",
     "text": [
      "  4%|█                            | 39/1100 [00:30<13:21,  1.32it/s, loss=0.682]"
     ]
    },
    {
     "name": "stdout",
     "output_type": "stream",
     "text": [
      "(280, 280)\n"
     ]
    },
    {
     "name": "stderr",
     "output_type": "stream",
     "text": [
      "  4%|█                            | 40/1100 [00:31<13:25,  1.32it/s, loss=0.637]"
     ]
    },
    {
     "name": "stdout",
     "output_type": "stream",
     "text": [
      "(280, 280)\n"
     ]
    },
    {
     "name": "stderr",
     "output_type": "stream",
     "text": [
      "  4%|█                            | 41/1100 [00:32<13:22,  1.32it/s, loss=0.641]"
     ]
    },
    {
     "name": "stdout",
     "output_type": "stream",
     "text": [
      "(280, 280)\n"
     ]
    },
    {
     "name": "stderr",
     "output_type": "stream",
     "text": [
      "  4%|█                            | 42/1100 [00:32<13:17,  1.33it/s, loss=0.644]"
     ]
    },
    {
     "name": "stdout",
     "output_type": "stream",
     "text": [
      "(280, 280)\n"
     ]
    },
    {
     "name": "stderr",
     "output_type": "stream",
     "text": [
      "  4%|█▏                            | 43/1100 [00:33<13:13,  1.33it/s, loss=0.66]"
     ]
    },
    {
     "name": "stdout",
     "output_type": "stream",
     "text": [
      "(280, 280)\n"
     ]
    },
    {
     "name": "stderr",
     "output_type": "stream",
     "text": [
      "  4%|█▏                           | 44/1100 [00:34<13:38,  1.29it/s, loss=0.627]"
     ]
    },
    {
     "name": "stdout",
     "output_type": "stream",
     "text": [
      "(280, 280)\n"
     ]
    },
    {
     "name": "stderr",
     "output_type": "stream",
     "text": [
      "  4%|█▏                           | 45/1100 [00:35<13:38,  1.29it/s, loss=0.644]"
     ]
    },
    {
     "name": "stdout",
     "output_type": "stream",
     "text": [
      "(280, 280)\n"
     ]
    },
    {
     "name": "stderr",
     "output_type": "stream",
     "text": [
      "  4%|█▏                           | 46/1100 [00:36<15:04,  1.17it/s, loss=0.588]"
     ]
    },
    {
     "name": "stdout",
     "output_type": "stream",
     "text": [
      "(280, 280)\n"
     ]
    },
    {
     "name": "stderr",
     "output_type": "stream",
     "text": [
      "  4%|█▏                           | 47/1100 [00:37<14:57,  1.17it/s, loss=0.593]"
     ]
    },
    {
     "name": "stdout",
     "output_type": "stream",
     "text": [
      "(280, 280)\n"
     ]
    },
    {
     "name": "stderr",
     "output_type": "stream",
     "text": [
      "  4%|█▎                           | 48/1100 [00:37<14:39,  1.20it/s, loss=0.645]"
     ]
    },
    {
     "name": "stdout",
     "output_type": "stream",
     "text": [
      "(280, 280)\n"
     ]
    },
    {
     "name": "stderr",
     "output_type": "stream",
     "text": [
      "  4%|█▎                           | 49/1100 [00:38<14:26,  1.21it/s, loss=0.657]"
     ]
    },
    {
     "name": "stdout",
     "output_type": "stream",
     "text": [
      "(280, 280)\n"
     ]
    },
    {
     "name": "stderr",
     "output_type": "stream",
     "text": [
      "  5%|█▎                            | 50/1100 [00:39<15:32,  1.13it/s, loss=0.68]"
     ]
    },
    {
     "name": "stdout",
     "output_type": "stream",
     "text": [
      "(280, 280)\n"
     ]
    },
    {
     "name": "stderr",
     "output_type": "stream",
     "text": [
      "  5%|█▎                           | 51/1100 [00:40<15:10,  1.15it/s, loss=0.682]"
     ]
    },
    {
     "name": "stdout",
     "output_type": "stream",
     "text": [
      "(280, 280)\n"
     ]
    },
    {
     "name": "stderr",
     "output_type": "stream",
     "text": [
      "  5%|█▎                           | 52/1100 [00:41<14:41,  1.19it/s, loss=0.646]"
     ]
    },
    {
     "name": "stdout",
     "output_type": "stream",
     "text": [
      "(280, 280)\n"
     ]
    },
    {
     "name": "stderr",
     "output_type": "stream",
     "text": [
      "  5%|█▍                           | 53/1100 [00:42<14:15,  1.22it/s, loss=0.617]"
     ]
    },
    {
     "name": "stdout",
     "output_type": "stream",
     "text": [
      "(280, 280)\n"
     ]
    },
    {
     "name": "stderr",
     "output_type": "stream",
     "text": [
      "  5%|█▍                           | 54/1100 [00:42<13:57,  1.25it/s, loss=0.664]"
     ]
    },
    {
     "name": "stdout",
     "output_type": "stream",
     "text": [
      "(280, 280)\n"
     ]
    },
    {
     "name": "stderr",
     "output_type": "stream",
     "text": [
      "  5%|█▍                           | 55/1100 [00:43<13:50,  1.26it/s, loss=0.616]"
     ]
    },
    {
     "name": "stdout",
     "output_type": "stream",
     "text": [
      "(280, 280)\n"
     ]
    },
    {
     "name": "stderr",
     "output_type": "stream",
     "text": [
      "  5%|█▌                             | 56/1100 [00:44<13:38,  1.28it/s, loss=0.6]"
     ]
    },
    {
     "name": "stdout",
     "output_type": "stream",
     "text": [
      "(280, 280)\n"
     ]
    },
    {
     "name": "stderr",
     "output_type": "stream",
     "text": [
      "  5%|█▌                           | 57/1100 [00:45<13:38,  1.27it/s, loss=0.582]"
     ]
    },
    {
     "name": "stdout",
     "output_type": "stream",
     "text": [
      "(280, 280)\n"
     ]
    },
    {
     "name": "stderr",
     "output_type": "stream",
     "text": [
      "  5%|█▌                           | 58/1100 [00:46<13:32,  1.28it/s, loss=0.694]"
     ]
    },
    {
     "name": "stdout",
     "output_type": "stream",
     "text": [
      "(280, 280)\n"
     ]
    },
    {
     "name": "stderr",
     "output_type": "stream",
     "text": [
      "  5%|█▌                           | 59/1100 [00:46<13:28,  1.29it/s, loss=0.623]"
     ]
    },
    {
     "name": "stdout",
     "output_type": "stream",
     "text": [
      "(280, 280)\n"
     ]
    },
    {
     "name": "stderr",
     "output_type": "stream",
     "text": [
      "  5%|█▌                           | 60/1100 [00:47<13:21,  1.30it/s, loss=0.572]"
     ]
    },
    {
     "name": "stdout",
     "output_type": "stream",
     "text": [
      "(280, 280)\n"
     ]
    },
    {
     "name": "stderr",
     "output_type": "stream",
     "text": [
      "  6%|█▌                           | 61/1100 [00:48<13:55,  1.24it/s, loss=0.598]"
     ]
    },
    {
     "name": "stdout",
     "output_type": "stream",
     "text": [
      "(280, 280)\n"
     ]
    },
    {
     "name": "stderr",
     "output_type": "stream",
     "text": [
      "  6%|█▋                           | 62/1100 [00:49<14:36,  1.18it/s, loss=0.607]"
     ]
    },
    {
     "name": "stdout",
     "output_type": "stream",
     "text": [
      "(280, 280)\n"
     ]
    },
    {
     "name": "stderr",
     "output_type": "stream",
     "text": [
      "  6%|█▋                           | 63/1100 [00:50<15:11,  1.14it/s, loss=0.636]"
     ]
    },
    {
     "name": "stdout",
     "output_type": "stream",
     "text": [
      "(280, 280)\n"
     ]
    },
    {
     "name": "stderr",
     "output_type": "stream",
     "text": [
      "  6%|█▋                           | 64/1100 [00:51<15:04,  1.15it/s, loss=0.581]"
     ]
    },
    {
     "name": "stdout",
     "output_type": "stream",
     "text": [
      "(280, 280)\n"
     ]
    },
    {
     "name": "stderr",
     "output_type": "stream",
     "text": [
      "  6%|█▋                           | 65/1100 [00:51<14:34,  1.18it/s, loss=0.581]"
     ]
    },
    {
     "name": "stdout",
     "output_type": "stream",
     "text": [
      "(280, 280)\n"
     ]
    },
    {
     "name": "stderr",
     "output_type": "stream",
     "text": [
      "  6%|█▋                           | 66/1100 [00:52<14:43,  1.17it/s, loss=0.561]"
     ]
    },
    {
     "name": "stdout",
     "output_type": "stream",
     "text": [
      "(280, 280)\n"
     ]
    },
    {
     "name": "stderr",
     "output_type": "stream",
     "text": [
      "  6%|█▊                            | 67/1100 [00:53<15:06,  1.14it/s, loss=0.61]"
     ]
    },
    {
     "name": "stdout",
     "output_type": "stream",
     "text": [
      "(280, 280)\n"
     ]
    },
    {
     "name": "stderr",
     "output_type": "stream",
     "text": [
      "  6%|█▊                            | 68/1100 [00:54<14:58,  1.15it/s, loss=0.66]"
     ]
    },
    {
     "name": "stdout",
     "output_type": "stream",
     "text": [
      "(280, 280)\n"
     ]
    },
    {
     "name": "stderr",
     "output_type": "stream",
     "text": [
      "  6%|█▊                           | 69/1100 [00:55<14:31,  1.18it/s, loss=0.551]"
     ]
    },
    {
     "name": "stdout",
     "output_type": "stream",
     "text": [
      "(280, 280)\n"
     ]
    },
    {
     "name": "stderr",
     "output_type": "stream",
     "text": [
      "  6%|█▊                           | 70/1100 [00:56<14:05,  1.22it/s, loss=0.573]"
     ]
    },
    {
     "name": "stdout",
     "output_type": "stream",
     "text": [
      "(280, 280)\n"
     ]
    },
    {
     "name": "stderr",
     "output_type": "stream",
     "text": [
      "  6%|█▊                           | 71/1100 [00:57<14:22,  1.19it/s, loss=0.561]"
     ]
    },
    {
     "name": "stdout",
     "output_type": "stream",
     "text": [
      "(280, 280)\n"
     ]
    },
    {
     "name": "stderr",
     "output_type": "stream",
     "text": [
      "  7%|█▉                           | 72/1100 [00:57<14:44,  1.16it/s, loss=0.538]"
     ]
    },
    {
     "name": "stdout",
     "output_type": "stream",
     "text": [
      "(280, 280)\n"
     ]
    },
    {
     "name": "stderr",
     "output_type": "stream",
     "text": [
      "  7%|█▉                           | 73/1100 [00:58<14:54,  1.15it/s, loss=0.649]"
     ]
    },
    {
     "name": "stdout",
     "output_type": "stream",
     "text": [
      "(280, 280)\n"
     ]
    },
    {
     "name": "stderr",
     "output_type": "stream",
     "text": [
      "  7%|█▉                           | 74/1100 [00:59<14:44,  1.16it/s, loss=0.634]"
     ]
    },
    {
     "name": "stdout",
     "output_type": "stream",
     "text": [
      "(280, 280)\n"
     ]
    },
    {
     "name": "stderr",
     "output_type": "stream",
     "text": [
      "  7%|█▉                           | 75/1100 [01:00<14:18,  1.19it/s, loss=0.562]"
     ]
    },
    {
     "name": "stdout",
     "output_type": "stream",
     "text": [
      "(280, 280)\n"
     ]
    },
    {
     "name": "stderr",
     "output_type": "stream",
     "text": [
      "  7%|██                           | 76/1100 [01:01<13:46,  1.24it/s, loss=0.552]"
     ]
    },
    {
     "name": "stdout",
     "output_type": "stream",
     "text": [
      "(280, 280)\n"
     ]
    },
    {
     "name": "stderr",
     "output_type": "stream",
     "text": [
      "  7%|██                           | 77/1100 [01:01<13:23,  1.27it/s, loss=0.636]"
     ]
    },
    {
     "name": "stdout",
     "output_type": "stream",
     "text": [
      "(280, 280)\n"
     ]
    },
    {
     "name": "stderr",
     "output_type": "stream",
     "text": [
      "  7%|██▏                           | 78/1100 [01:02<13:29,  1.26it/s, loss=0.55]"
     ]
    },
    {
     "name": "stdout",
     "output_type": "stream",
     "text": [
      "(280, 280)\n"
     ]
    },
    {
     "name": "stderr",
     "output_type": "stream",
     "text": [
      "  7%|██                           | 79/1100 [01:03<13:18,  1.28it/s, loss=0.577]"
     ]
    },
    {
     "name": "stdout",
     "output_type": "stream",
     "text": [
      "(280, 280)\n"
     ]
    },
    {
     "name": "stderr",
     "output_type": "stream",
     "text": [
      "  7%|██                           | 80/1100 [01:04<13:10,  1.29it/s, loss=0.576]"
     ]
    },
    {
     "name": "stdout",
     "output_type": "stream",
     "text": [
      "(280, 280)\n"
     ]
    },
    {
     "name": "stderr",
     "output_type": "stream",
     "text": [
      "  7%|██▏                           | 81/1100 [01:05<14:04,  1.21it/s, loss=0.59]"
     ]
    },
    {
     "name": "stdout",
     "output_type": "stream",
     "text": [
      "(280, 280)\n"
     ]
    },
    {
     "name": "stderr",
     "output_type": "stream",
     "text": [
      "  7%|██▏                           | 81/1100 [01:06<13:51,  1.23it/s, loss=0.59]\n"
     ]
    },
    {
     "ename": "KeyboardInterrupt",
     "evalue": "",
     "output_type": "error",
     "traceback": [
      "\u001b[0;31m---------------------------------------------------------------------------\u001b[0m",
      "\u001b[0;31mKeyboardInterrupt\u001b[0m                         Traceback (most recent call last)",
      "Input \u001b[0;32mIn [15]\u001b[0m, in \u001b[0;36m<cell line: 35>\u001b[0;34m()\u001b[0m\n\u001b[1;32m      4\u001b[0m dict_train9 \u001b[38;5;241m=\u001b[39m{\u001b[38;5;124m\"\u001b[39m\u001b[38;5;124msave_model\u001b[39m\u001b[38;5;124m\"\u001b[39m: \u001b[38;5;28;01mFalse\u001b[39;00m,\n\u001b[1;32m      5\u001b[0m             \u001b[38;5;124m\"\u001b[39m\u001b[38;5;124mcross_val\u001b[39m\u001b[38;5;124m\"\u001b[39m: \u001b[38;5;28;01mTrue\u001b[39;00m,\n\u001b[1;32m      6\u001b[0m             \u001b[38;5;124m\"\u001b[39m\u001b[38;5;124mskip_connection\u001b[39m\u001b[38;5;124m\"\u001b[39m: \u001b[38;5;28;01mTrue\u001b[39;00m,\n\u001b[0;32m   (...)\u001b[0m\n\u001b[1;32m     30\u001b[0m              \u001b[38;5;124m\"\u001b[39m\u001b[38;5;124mdevice\u001b[39m\u001b[38;5;124m\"\u001b[39m: DEVICE\n\u001b[1;32m     31\u001b[0m             }\n\u001b[1;32m     34\u001b[0m experiment9 \u001b[38;5;241m=\u001b[39m {\u001b[38;5;124m\"\u001b[39m\u001b[38;5;124mparam\u001b[39m\u001b[38;5;124m\"\u001b[39m: dict_train9}\n\u001b[0;32m---> 35\u001b[0m experiment9[\u001b[38;5;124m\"\u001b[39m\u001b[38;5;124mconvergence_path\u001b[39m\u001b[38;5;124m\"\u001b[39m] \u001b[38;5;241m=\u001b[39m \u001b[43mrun_training\u001b[49m\u001b[43m(\u001b[49m\u001b[43mdict_train9\u001b[49m\u001b[43m)\u001b[49m \n\u001b[1;32m     38\u001b[0m f \u001b[38;5;241m=\u001b[39m \u001b[38;5;28mopen\u001b[39m(\u001b[38;5;124m\"\u001b[39m\u001b[38;5;124mresult_exp/experiment9.pkl\u001b[39m\u001b[38;5;124m\"\u001b[39m,\u001b[38;5;124m\"\u001b[39m\u001b[38;5;124mwb\u001b[39m\u001b[38;5;124m\"\u001b[39m)\n\u001b[1;32m     39\u001b[0m pickle\u001b[38;5;241m.\u001b[39mdump(experiment9,f)\n",
      "File \u001b[0;32m~/Desktop/Project2/train_procedure.py:176\u001b[0m, in \u001b[0;36mrun_training\u001b[0;34m(dict_training)\u001b[0m\n\u001b[1;32m    172\u001b[0m \u001b[38;5;66;03m# ===== Train Model =====\u001b[39;00m\n\u001b[1;32m    174\u001b[0m \u001b[38;5;28;01mfor\u001b[39;00m epoch \u001b[38;5;129;01min\u001b[39;00m \u001b[38;5;28mrange\u001b[39m(\u001b[38;5;241m1\u001b[39m, dict_training[\u001b[38;5;124m\"\u001b[39m\u001b[38;5;124mnum_epochs\u001b[39m\u001b[38;5;124m\"\u001b[39m] \u001b[38;5;241m+\u001b[39m \u001b[38;5;241m1\u001b[39m):\n\u001b[0;32m--> 176\u001b[0m     train_acc, train_F1, train_loss  \u001b[38;5;241m=\u001b[39m \u001b[43mtrain_epoch\u001b[49m\u001b[43m(\u001b[49m\u001b[43mtrain_loader\u001b[49m\u001b[43m,\u001b[49m\u001b[43m \u001b[49m\u001b[43mmodel\u001b[49m\u001b[43m,\u001b[49m\u001b[43m \u001b[49m\u001b[43moptimizer\u001b[49m\u001b[43m,\u001b[49m\u001b[43m \u001b[49m\u001b[43mepoch\u001b[49m\u001b[43m,\u001b[49m\u001b[43m \u001b[49m\u001b[43mloss_fn\u001b[49m\u001b[43m,\u001b[49m\u001b[43m \u001b[49m\u001b[43mdict_training\u001b[49m\u001b[43m[\u001b[49m\u001b[38;5;124;43m\"\u001b[39;49m\u001b[38;5;124;43mscaler\u001b[39;49m\u001b[38;5;124;43m\"\u001b[39;49m\u001b[43m]\u001b[49m\u001b[43m,\u001b[49m\u001b[43mdevice\u001b[49m\u001b[38;5;241;43m=\u001b[39;49m\u001b[43mdict_training\u001b[49m\u001b[43m[\u001b[49m\u001b[38;5;124;43m\"\u001b[39;49m\u001b[38;5;124;43mdevice\u001b[39;49m\u001b[38;5;124;43m\"\u001b[39;49m\u001b[43m]\u001b[49m\u001b[43m)\u001b[49m\n\u001b[1;32m    177\u001b[0m     val_acc, val_F1, val_loss \u001b[38;5;241m=\u001b[39m check_F1_score(val_loader, model, epoch, loss_fn,device\u001b[38;5;241m=\u001b[39mdict_training[\u001b[38;5;124m\"\u001b[39m\u001b[38;5;124mdevice\u001b[39m\u001b[38;5;124m\"\u001b[39m])\n\u001b[1;32m    179\u001b[0m     fold_path[\u001b[38;5;124m\"\u001b[39m\u001b[38;5;124mtrain_acc\u001b[39m\u001b[38;5;124m\"\u001b[39m]\u001b[38;5;241m.\u001b[39mappend(train_acc)\n",
      "File \u001b[0;32m~/Desktop/Project2/train_procedure.py:47\u001b[0m, in \u001b[0;36mtrain_epoch\u001b[0;34m(train_loader, model, optimizer, epoch, loss_fn, scaler, device, scheduler)\u001b[0m\n\u001b[1;32m     45\u001b[0m \u001b[38;5;66;03m# backward\u001b[39;00m\n\u001b[1;32m     46\u001b[0m optimizer\u001b[38;5;241m.\u001b[39mzero_grad()\n\u001b[0;32m---> 47\u001b[0m \u001b[43mscaler\u001b[49m\u001b[38;5;241;43m.\u001b[39;49m\u001b[43mscale\u001b[49m\u001b[43m(\u001b[49m\u001b[43mloss\u001b[49m\u001b[43m)\u001b[49m\u001b[38;5;241;43m.\u001b[39;49m\u001b[43mbackward\u001b[49m\u001b[43m(\u001b[49m\u001b[43m)\u001b[49m\n\u001b[1;32m     48\u001b[0m scaler\u001b[38;5;241m.\u001b[39mstep(optimizer)\n\u001b[1;32m     49\u001b[0m scaler\u001b[38;5;241m.\u001b[39mupdate()\n",
      "File \u001b[0;32m~/opt/anaconda3/lib/python3.9/site-packages/torch/_tensor.py:487\u001b[0m, in \u001b[0;36mTensor.backward\u001b[0;34m(self, gradient, retain_graph, create_graph, inputs)\u001b[0m\n\u001b[1;32m    477\u001b[0m \u001b[38;5;28;01mif\u001b[39;00m has_torch_function_unary(\u001b[38;5;28mself\u001b[39m):\n\u001b[1;32m    478\u001b[0m     \u001b[38;5;28;01mreturn\u001b[39;00m handle_torch_function(\n\u001b[1;32m    479\u001b[0m         Tensor\u001b[38;5;241m.\u001b[39mbackward,\n\u001b[1;32m    480\u001b[0m         (\u001b[38;5;28mself\u001b[39m,),\n\u001b[0;32m   (...)\u001b[0m\n\u001b[1;32m    485\u001b[0m         inputs\u001b[38;5;241m=\u001b[39minputs,\n\u001b[1;32m    486\u001b[0m     )\n\u001b[0;32m--> 487\u001b[0m \u001b[43mtorch\u001b[49m\u001b[38;5;241;43m.\u001b[39;49m\u001b[43mautograd\u001b[49m\u001b[38;5;241;43m.\u001b[39;49m\u001b[43mbackward\u001b[49m\u001b[43m(\u001b[49m\n\u001b[1;32m    488\u001b[0m \u001b[43m    \u001b[49m\u001b[38;5;28;43mself\u001b[39;49m\u001b[43m,\u001b[49m\u001b[43m \u001b[49m\u001b[43mgradient\u001b[49m\u001b[43m,\u001b[49m\u001b[43m \u001b[49m\u001b[43mretain_graph\u001b[49m\u001b[43m,\u001b[49m\u001b[43m \u001b[49m\u001b[43mcreate_graph\u001b[49m\u001b[43m,\u001b[49m\u001b[43m \u001b[49m\u001b[43minputs\u001b[49m\u001b[38;5;241;43m=\u001b[39;49m\u001b[43minputs\u001b[49m\n\u001b[1;32m    489\u001b[0m \u001b[43m\u001b[49m\u001b[43m)\u001b[49m\n",
      "File \u001b[0;32m~/opt/anaconda3/lib/python3.9/site-packages/torch/autograd/__init__.py:197\u001b[0m, in \u001b[0;36mbackward\u001b[0;34m(tensors, grad_tensors, retain_graph, create_graph, grad_variables, inputs)\u001b[0m\n\u001b[1;32m    192\u001b[0m     retain_graph \u001b[38;5;241m=\u001b[39m create_graph\n\u001b[1;32m    194\u001b[0m \u001b[38;5;66;03m# The reason we repeat same the comment below is that\u001b[39;00m\n\u001b[1;32m    195\u001b[0m \u001b[38;5;66;03m# some Python versions print out the first line of a multi-line function\u001b[39;00m\n\u001b[1;32m    196\u001b[0m \u001b[38;5;66;03m# calls in the traceback and some print out the last line\u001b[39;00m\n\u001b[0;32m--> 197\u001b[0m \u001b[43mVariable\u001b[49m\u001b[38;5;241;43m.\u001b[39;49m\u001b[43m_execution_engine\u001b[49m\u001b[38;5;241;43m.\u001b[39;49m\u001b[43mrun_backward\u001b[49m\u001b[43m(\u001b[49m\u001b[43m  \u001b[49m\u001b[38;5;66;43;03m# Calls into the C++ engine to run the backward pass\u001b[39;49;00m\n\u001b[1;32m    198\u001b[0m \u001b[43m    \u001b[49m\u001b[43mtensors\u001b[49m\u001b[43m,\u001b[49m\u001b[43m \u001b[49m\u001b[43mgrad_tensors_\u001b[49m\u001b[43m,\u001b[49m\u001b[43m \u001b[49m\u001b[43mretain_graph\u001b[49m\u001b[43m,\u001b[49m\u001b[43m \u001b[49m\u001b[43mcreate_graph\u001b[49m\u001b[43m,\u001b[49m\u001b[43m \u001b[49m\u001b[43minputs\u001b[49m\u001b[43m,\u001b[49m\n\u001b[1;32m    199\u001b[0m \u001b[43m    \u001b[49m\u001b[43mallow_unreachable\u001b[49m\u001b[38;5;241;43m=\u001b[39;49m\u001b[38;5;28;43;01mTrue\u001b[39;49;00m\u001b[43m,\u001b[49m\u001b[43m \u001b[49m\u001b[43maccumulate_grad\u001b[49m\u001b[38;5;241;43m=\u001b[39;49m\u001b[38;5;28;43;01mTrue\u001b[39;49;00m\u001b[43m)\u001b[49m\n",
      "\u001b[0;31mKeyboardInterrupt\u001b[0m: "
     ]
    }
   ],
   "source": [
    "dict_train9 ={\"save_model\": False,\n",
    "            \"cross_val\": True,\n",
    "            \"skip_connection\": True,\n",
    "            \"num_epochs\": 10,\n",
    "            \"n_splits\": 2,\n",
    "            \"batch_size\": new_batch_size,\n",
    "            \"scale_channel\": 1,\n",
    "            \"dict_double_conv\": {\"BatchNorm\": True,\n",
    "                \"activation\": nn.ELU(inplace=True),\n",
    "                \"p_dropout\": p,\n",
    "                \"use_dropout\": use_drop,\n",
    "                \"bias\": False},\n",
    "            \"dict_ups\": {\"BatchNorm\": False,\n",
    "                \"p_dropout\": 0.2,\n",
    "                \"use_dropout\": False,\n",
    "                \"bias\": False},\n",
    "            \"loss\": nn.BCEWithLogitsLoss(),\n",
    "            \"optimizer\": optim.Adam,\n",
    "            \"param_optimizer\": {\"weight_decay\": 1e-04,\n",
    "                               \"lr\": 5e-04},\n",
    "            \"use_scheduler\": True,\n",
    "            \"type_scheduler\": \"StepLR\",\n",
    "            \"scheduler\": torch.optim.lr_scheduler.StepLR,\n",
    "            \"param_scheduler\": {\"step_size\": 4,\n",
    "                               \"gamma\": 0.1},\n",
    "             \"scaler\": torch.cuda.amp.GradScaler(),\n",
    "             \"device\": DEVICE\n",
    "            }\n",
    "\n",
    "\n",
    "experiment9 = {\"param\": dict_train9}\n",
    "experiment9[\"convergence_path\"] = run_training(dict_train9) \n",
    "\n",
    "\n",
    "f = open(\"result_exp/experiment9.pkl\",\"wb\")\n",
    "pickle.dump(experiment9,f)\n",
    "f.close()"
   ]
  },
  {
   "cell_type": "markdown",
   "id": "6152c573",
   "metadata": {},
   "source": [
    "## Experiment 10"
   ]
  },
  {
   "cell_type": "code",
   "execution_count": null,
   "id": "2a0837c3",
   "metadata": {},
   "outputs": [],
   "source": [
    "dict_train10 ={\"save_model\": False,\n",
    "            \"cross_val\": True,\n",
    "            \"skip_connection\": True,\n",
    "            \"num_epochs\": 10,\n",
    "            \"n_splits\": 2,\n",
    "            \"batch_size\": new_batch_size,\n",
    "            \"scale_channel\": 1,\n",
    "            \"dict_double_conv\": {\"BatchNorm\": True,\n",
    "                \"activation\": nn.ELU(inplace=True),\n",
    "                \"p_dropout\": p,\n",
    "                \"use_dropout\": use_drop,\n",
    "                \"bias\": False},\n",
    "            \"dict_ups\": {\"BatchNorm\": False,\n",
    "                \"p_dropout\": 0.2,\n",
    "                \"use_dropout\": False,\n",
    "                \"bias\": False},\n",
    "            \"loss\": nn.BCEWithLogitsLoss(),\n",
    "            \"optimizer\": optim.Adam,\n",
    "            \"param_optimizer\": {\"weight_decay\": 1e-02,\n",
    "                               \"lr\": 5e-04},\n",
    "            \"use_scheduler\": True,\n",
    "            \"type_scheduler\": \"StepLR\",\n",
    "            \"scheduler\": torch.optim.lr_scheduler.StepLR,\n",
    "            \"param_scheduler\": {\"step_size\": 4,\n",
    "                               \"gamma\": 0.1},\n",
    "             \"scaler\": torch.cuda.amp.GradScaler(),\n",
    "             \"device\": DEVICE\n",
    "            }\n",
    "\n",
    "\n",
    "experiment10 = {\"param\": dict_train10}\n",
    "experiment10[\"convergence_path\"] = run_training(dict_train10) \n",
    "\n",
    "\n",
    "f = open(\"result_exp/experiment10.pkl\",\"wb\")\n",
    "pickle.dump(experiment10,f)\n",
    "f.close()"
   ]
  },
  {
   "cell_type": "code",
   "execution_count": 28,
   "id": "d8e6e771",
   "metadata": {},
   "outputs": [
    {
     "data": {
      "image/png": "[encoded data removed]",
      "text/plain": [
       "<Figure size 600x800 with 2 Axes>"
      ]
     },
     "metadata": {},
     "output_type": "display_data"
    }
   ],
   "source": [
    "import io\n",
    "\n",
    "class CPU_Unpickler(pickle.Unpickler):\n",
    "    def find_class(self, module, name):\n",
    "        if module == 'torch.storage' and name == '_load_from_bytes':\n",
    "            return lambda b: torch.load(io.BytesIO(b), map_location='cpu')\n",
    "        else:\n",
    "            return super().find_class(module, name)\n",
    "\n",
    "exp = {}\n",
    "\n",
    "for i in range(5,11):\n",
    "    f = open(f\"result_exp/experiment{i}.pkl\",\"rb\")\n",
    "    exp[f\"exp{i}\"] = CPU_Unpickler(f).load()\n",
    "    f.close()\n",
    "\n",
    "f = open(f\"result_exp/experiment2bis.pkl\",\"rb\")\n",
    "exp_4_ = CPU_Unpickler(f).load()\n",
    "f.close()\n",
    "\n",
    "\n",
    "fig, (ax1,ax2) = plt.subplots(2,1,figsize=(6,8))\n",
    "\n",
    "y = 0.5*(np.array(exp_4_[\"convergence_path\"][\"Kfold 0\"][\"val_F1\"]) + np.array(exp_4_[\"convergence_path\"][\"Kfold 1\"][\"val_F1\"]))\n",
    "ax1.plot(np.arange(1,len(y)+1),y,label=r\"p=0, $n_{batch} = 10$, $\\lambda=0$\")\n",
    "y = 0.5*(np.array(exp_4_[\"convergence_path\"][\"Kfold 0\"][\"val_acc\"]) + np.array(exp_4_[\"convergence_path\"][\"Kfold 1\"][\"val_acc\"]))\n",
    "ax2.plot(np.arange(1,len(y)+1),y,'-',label=r\"p=0, $n_{batch} = 10$, $\\lambda=0$\")\n",
    "    \n",
    "label = [\"p=0.2\",'p=0.5',r'p=0, $n_{batch}=1$',r'p=0, $n_{batch}=20$',r'p=0, $n_{batch} = 10$, $\\lambda = 1e-04$',r'p=0, $n_{batch} = 10$, $\\lambda = 1e-02$']\n",
    "for i in range(5,5+len(exp)):\n",
    "    y = 0.5*(np.array(exp[f\"exp{i}\"][\"convergence_path\"][\"Kfold 0\"][\"val_F1\"]) + np.array(exp[f\"exp{i}\"][\"convergence_path\"][\"Kfold 1\"][\"val_F1\"]))\n",
    "    ax1.plot(np.arange(1,len(y)+1),y,label=label[i-5])\n",
    "    y = 0.5*(np.array(exp[f\"exp{i}\"][\"convergence_path\"][\"Kfold 0\"][\"val_acc\"]) + np.array(exp[f\"exp{i}\"][\"convergence_path\"][\"Kfold 1\"][\"val_acc\"]))\n",
    "    ax2.plot(np.arange(1,len(y)+1),y,'-',label=label[i-5])\n",
    "ax2.legend()\n",
    "ax1.legend()\n",
    "ax1.set_title('Validation F1 score')\n",
    "ax2.set_title('Validation Accuracy')\n",
    "fig.supxlabel('epoch',y=0.05)\n",
    "plt.savefig('Figure/val_acc_3.pdf', dpi=300, bbox_inches='tight')\n",
    "plt.show()"
   ]
  },
  {
   "cell_type": "code",
   "execution_count": null,
   "id": "7614c1e9",
   "metadata": {},
   "outputs": [],
   "source": []
  }
 ],
 "metadata": {
  "kernelspec": {
   "display_name": "Python 3 (ipykernel)",
   "language": "python",
   "name": "python3"
  },
  "language_info": {
   "codemirror_mode": {
    "name": "ipython",
    "version": 3
   },
   "file_extension": ".py",
   "mimetype": "text/x-python",
   "name": "python",
   "nbconvert_exporter": "python",
   "pygments_lexer": "ipython3",
   "version": "3.9.15"
  }
 },
 "nbformat": 4,
 "nbformat_minor": 5
}
