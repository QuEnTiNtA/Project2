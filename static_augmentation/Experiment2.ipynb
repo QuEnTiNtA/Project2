{
 "cells": [
  {
   "cell_type": "code",
   "execution_count": 1,
   "id": "db1a0b3e",
   "metadata": {},
   "outputs": [],
   "source": [
    "import os\n",
    "from PIL import Image\n",
    "from torch.utils.data import Dataset, DataLoader\n",
    "import numpy as np\n",
    "import torch\n",
    "import torchvision\n",
    "import torch.nn as nn\n",
    "import torchvision.transforms.functional as TF\n",
    "from tqdm import tqdm\n",
    "import torch.optim as optim\n",
    "from sklearn.model_selection import KFold\n",
    "from torch.utils.data import SubsetRandomSampler\n",
    "from collections import OrderedDict\n",
    "import matplotlib.pyplot as plt\n",
    "from Network import *\n",
    "from DataSet import *\n",
    "from train_procedure import *\n",
    "from Aug import *\n",
    "from torchvision import transforms\n",
    "import pickle\n",
    "\n",
    "%load_ext autoreload\n",
    "%autoreload 2"
   ]
  },
  {
   "cell_type": "code",
   "execution_count": 2,
   "id": "8abfe79b",
   "metadata": {},
   "outputs": [
    {
     "name": "stderr",
     "output_type": "stream",
     "text": [
      "satImage_100.png: 100%|███████████████████████████████████████████████████████████| 100/100 [00:57<00:00,  1.74image/s]\n"
     ]
    }
   ],
   "source": [
    "# Create the augmented dataset\n",
    "create_augmented_dataset(True)"
   ]
  },
  {
   "cell_type": "code",
   "execution_count": 3,
   "id": "1a159af0",
   "metadata": {},
   "outputs": [],
   "source": [
    "DEVICE = \"cuda\" if torch.cuda.is_available() else \"cpu\""
   ]
  },
  {
   "cell_type": "markdown",
   "id": "71a493e4",
   "metadata": {},
   "source": [
    "## Test on one epoch"
   ]
  },
  {
   "cell_type": "code",
   "execution_count": 6,
   "id": "200ef00c",
   "metadata": {},
   "outputs": [
    {
     "name": "stdout",
     "output_type": "stream",
     "text": [
      "-------------------------- 1 fold --------------------------\n"
     ]
    },
    {
     "ename": "KeyError",
     "evalue": "'scale_channel'",
     "output_type": "error",
     "traceback": [
      "\u001b[1;31m---------------------------------------------------------------------------\u001b[0m",
      "\u001b[1;31mKeyError\u001b[0m                                  Traceback (most recent call last)",
      "Cell \u001b[1;32mIn[6], line 31\u001b[0m\n\u001b[0;32m      1\u001b[0m dict_train \u001b[38;5;241m=\u001b[39m{\u001b[38;5;124m\"\u001b[39m\u001b[38;5;124msave_model\u001b[39m\u001b[38;5;124m\"\u001b[39m: \u001b[38;5;28;01mFalse\u001b[39;00m,\n\u001b[0;32m      2\u001b[0m             \u001b[38;5;124m\"\u001b[39m\u001b[38;5;124mcross_val\u001b[39m\u001b[38;5;124m\"\u001b[39m: \u001b[38;5;28;01mTrue\u001b[39;00m,\n\u001b[0;32m      3\u001b[0m             \u001b[38;5;124m\"\u001b[39m\u001b[38;5;124mskip_connection\u001b[39m\u001b[38;5;124m\"\u001b[39m: \u001b[38;5;28;01mTrue\u001b[39;00m,\n\u001b[1;32m   (...)\u001b[0m\n\u001b[0;32m     26\u001b[0m              \u001b[38;5;124m\"\u001b[39m\u001b[38;5;124mdevice\u001b[39m\u001b[38;5;124m\"\u001b[39m: DEVICE\n\u001b[0;32m     27\u001b[0m             }\n\u001b[0;32m     30\u001b[0m experiment \u001b[38;5;241m=\u001b[39m {\u001b[38;5;124m\"\u001b[39m\u001b[38;5;124mparam\u001b[39m\u001b[38;5;124m\"\u001b[39m: dict_train}\n\u001b[1;32m---> 31\u001b[0m experiment[\u001b[38;5;124m\"\u001b[39m\u001b[38;5;124mconvergence_path\u001b[39m\u001b[38;5;124m\"\u001b[39m] \u001b[38;5;241m=\u001b[39m \u001b[43mrun_training\u001b[49m\u001b[43m(\u001b[49m\u001b[43mdict_train\u001b[49m\u001b[43m)\u001b[49m \n",
      "File \u001b[1;32mD:\\Users\\Mathieu\\Documents\\EPFL\\Master\\ML\\Project2\\train_procedure.py:147\u001b[0m, in \u001b[0;36mrun_training\u001b[1;34m(dict_training)\u001b[0m\n\u001b[0;32m    143\u001b[0m \u001b[38;5;66;03m# ===== Model, Optimizer and Loss function =====   \u001b[39;00m\n\u001b[0;32m    145\u001b[0m \u001b[38;5;28;01mif\u001b[39;00m dict_training[\u001b[38;5;124m\"\u001b[39m\u001b[38;5;124mskip_connection\u001b[39m\u001b[38;5;124m\"\u001b[39m]:\n\u001b[0;32m    146\u001b[0m     model \u001b[38;5;241m=\u001b[39m UNET(dict_training[\u001b[38;5;124m\"\u001b[39m\u001b[38;5;124mdict_double_conv\u001b[39m\u001b[38;5;124m\"\u001b[39m], dict_training[\u001b[38;5;124m\"\u001b[39m\u001b[38;5;124mdict_ups\u001b[39m\u001b[38;5;124m\"\u001b[39m],in_channels\u001b[38;5;241m=\u001b[39m\u001b[38;5;241m3\u001b[39m, out_channels\u001b[38;5;241m=\u001b[39m\u001b[38;5;241m1\u001b[39m,init\u001b[38;5;241m=\u001b[39m\u001b[38;5;28;01mTrue\u001b[39;00m,\n\u001b[1;32m--> 147\u001b[0m                  scale_channel\u001b[38;5;241m=\u001b[39m\u001b[43mdict_training\u001b[49m\u001b[43m[\u001b[49m\u001b[38;5;124;43m\"\u001b[39;49m\u001b[38;5;124;43mscale_channel\u001b[39;49m\u001b[38;5;124;43m\"\u001b[39;49m\u001b[43m]\u001b[49m)\u001b[38;5;241m.\u001b[39mto(dict_training[\u001b[38;5;124m\"\u001b[39m\u001b[38;5;124mdevice\u001b[39m\u001b[38;5;124m\"\u001b[39m])\n\u001b[0;32m    148\u001b[0m \u001b[38;5;28;01melse\u001b[39;00m:\n\u001b[0;32m    149\u001b[0m     model \u001b[38;5;241m=\u001b[39m UNET_no_skip_connection(dict_training[\u001b[38;5;124m\"\u001b[39m\u001b[38;5;124mdict_double_conv\u001b[39m\u001b[38;5;124m\"\u001b[39m],in_channels\u001b[38;5;241m=\u001b[39m\u001b[38;5;241m3\u001b[39m, out_channels\u001b[38;5;241m=\u001b[39m\u001b[38;5;241m1\u001b[39m,\n\u001b[0;32m    150\u001b[0m                                     init\u001b[38;5;241m=\u001b[39m\u001b[38;5;28;01mTrue\u001b[39;00m,scale_channel\u001b[38;5;241m=\u001b[39mdict_training[\u001b[38;5;124m\"\u001b[39m\u001b[38;5;124mscale_channel\u001b[39m\u001b[38;5;124m\"\u001b[39m])\u001b[38;5;241m.\u001b[39mto(dict_training[\u001b[38;5;124m\"\u001b[39m\u001b[38;5;124mdevice\u001b[39m\u001b[38;5;124m\"\u001b[39m])\n",
      "\u001b[1;31mKeyError\u001b[0m: 'scale_channel'"
     ]
    }
   ],
   "source": [
    "dict_train ={\"save_model\": False,\n",
    "            \"cross_val\": True,\n",
    "            \"skip_connection\": True,\n",
    "            \"num_epochs\": 1,\n",
    "            \"n_splits\": 2,\n",
    "            \"batch_size\": 10,\n",
    "            \"dict_double_conv\": {\"BatchNorm\": True,\n",
    "                \"activation\": nn.ReLU(inplace=True),\n",
    "                \"p_dropout\": 0.2,\n",
    "                \"use_dropout\": False,\n",
    "                \"bias\": False},\n",
    "            \"dict_ups\": {\"BatchNorm\": False,\n",
    "                \"p_dropout\": 0.2,\n",
    "                \"use_dropout\": False,\n",
    "                \"bias\": False},\n",
    "            \"loss\": nn.BCEWithLogitsLoss(),\n",
    "            \"optimizer\": optim.Adam,\n",
    "            \"param_optimizer\": {\"weight_decay\": None,\n",
    "                               \"lr\": 1e-04},\n",
    "            \"use_scheduler\": True,\n",
    "            \"type_scheduler\": \"StepLR\",\n",
    "            \"scheduler\": torch.optim.lr_scheduler.StepLR,\n",
    "            \"param_scheduler\": {\"step_size\": 4,\n",
    "                               \"gamma\": 0.1},\n",
    "             \"scaler\": torch.cuda.amp.GradScaler(),\n",
    "             \"device\": DEVICE\n",
    "            }\n",
    "\n",
    "\n",
    "experiment = {\"param\": dict_train}\n",
    "experiment[\"convergence_path\"] = run_training(dict_train) "
   ]
  },
  {
   "cell_type": "code",
   "execution_count": 7,
   "id": "25576c76",
   "metadata": {},
   "outputs": [],
   "source": [
    "f = open(\"result_exp/test.pkl\",\"wb\")\n",
    "pickle.dump(experiment,f)\n",
    "f.close()"
   ]
  },
  {
   "cell_type": "markdown",
   "id": "c879cec9",
   "metadata": {},
   "source": [
    "## Experiment 1 Bis"
   ]
  },
  {
   "cell_type": "code",
   "execution_count": 8,
   "id": "7eae6747",
   "metadata": {},
   "outputs": [
    {
     "name": "stdout",
     "output_type": "stream",
     "text": [
      "-------------------------- 1 fold --------------------------\n"
     ]
    },
    {
     "name": "stderr",
     "output_type": "stream",
     "text": [
      "100%|█████████████████████████████████████████████████████████████████████| 110/110 [01:37<00:00,  1.12it/s, loss=0.44]\n"
     ]
    },
    {
     "name": "stdout",
     "output_type": "stream",
     "text": [
      "Training set: epoch-1 got 67295216/86240000 with acc 78.03%, F1-score 0.52 and loss 0.4898020029067993 \n",
      "Validation set: epoch-1 got 70306260/86240000 with acc 81.52% , F1-score 0.46 and validation loss 0.4312519432432641\n"
     ]
    },
    {
     "name": "stderr",
     "output_type": "stream",
     "text": [
      "100%|████████████████████████████████████████████████████████████████████| 110/110 [01:24<00:00,  1.30it/s, loss=0.308]\n"
     ]
    },
    {
     "name": "stdout",
     "output_type": "stream",
     "text": [
      "Training set: epoch-2 got 73065796/86240000 with acc 84.72%, F1-score 0.61 and loss 0.3558947443962097 \n",
      "Validation set: epoch-2 got 72330916/86240000 with acc 83.87% , F1-score 0.59 and validation loss 0.3989018167938913\n"
     ]
    },
    {
     "name": "stderr",
     "output_type": "stream",
     "text": [
      "100%|█████████████████████████████████████████████████████████████████████| 110/110 [01:30<00:00,  1.22it/s, loss=0.26]\n"
     ]
    },
    {
     "name": "stdout",
     "output_type": "stream",
     "text": [
      "Training set: epoch-3 got 75330774/86240000 with acc 87.35%, F1-score 0.67 and loss 0.29296618700027466 \n",
      "Validation set: epoch-3 got 67881636/86240000 with acc 78.71% , F1-score 0.03 and validation loss 0.542205957778428\n"
     ]
    },
    {
     "name": "stderr",
     "output_type": "stream",
     "text": [
      "100%|████████████████████████████████████████████████████████████████████| 110/110 [01:25<00:00,  1.29it/s, loss=0.251]\n"
     ]
    },
    {
     "name": "stdout",
     "output_type": "stream",
     "text": [
      "Training set: epoch-4 got 76365395/86240000 with acc 88.55%, F1-score 0.70 and loss 0.2662825584411621 \n",
      "Validation set: epoch-4 got 70219104/86240000 with acc 81.42% , F1-score 0.20 and validation loss 0.4384279095289821\n"
     ]
    },
    {
     "name": "stderr",
     "output_type": "stream",
     "text": [
      "100%|████████████████████████████████████████████████████████████████████| 110/110 [01:25<00:00,  1.29it/s, loss=0.192]\n"
     ]
    },
    {
     "name": "stdout",
     "output_type": "stream",
     "text": [
      "Training set: epoch-5 got 77920091/86240000 with acc 90.35%, F1-score 0.75 and loss 0.22784477472305298 \n",
      "Validation set: epoch-5 got 72634139/86240000 with acc 84.22% , F1-score 0.42 and validation loss 0.3820228537944741\n"
     ]
    },
    {
     "name": "stderr",
     "output_type": "stream",
     "text": [
      "100%|████████████████████████████████████████████████████████████████████| 110/110 [01:25<00:00,  1.29it/s, loss=0.232]\n"
     ]
    },
    {
     "name": "stdout",
     "output_type": "stream",
     "text": [
      "Training set: epoch-6 got 78478362/86240000 with acc 91.00%, F1-score 0.77 and loss 0.21480117738246918 \n",
      "Validation set: epoch-6 got 73050788/86240000 with acc 84.71% , F1-score 0.44 and validation loss 0.3748160667405919\n"
     ]
    },
    {
     "name": "stderr",
     "output_type": "stream",
     "text": [
      "100%|████████████████████████████████████████████████████████████████████| 110/110 [01:24<00:00,  1.30it/s, loss=0.207]\n"
     ]
    },
    {
     "name": "stdout",
     "output_type": "stream",
     "text": [
      "Training set: epoch-7 got 78668421/86240000 with acc 91.22%, F1-score 0.78 and loss 0.21025437116622925 \n",
      "Validation set: epoch-7 got 72428915/86240000 with acc 83.99% , F1-score 0.39 and validation loss 0.389691564002349\n"
     ]
    },
    {
     "name": "stderr",
     "output_type": "stream",
     "text": [
      "100%|████████████████████████████████████████████████████████████████████| 110/110 [01:24<00:00,  1.30it/s, loss=0.243]\n"
     ]
    },
    {
     "name": "stdout",
     "output_type": "stream",
     "text": [
      "Training set: epoch-8 got 78945234/86240000 with acc 91.54%, F1-score 0.79 and loss 0.20353545248508453 \n",
      "Validation set: epoch-8 got 73051458/86240000 with acc 84.71% , F1-score 0.44 and validation loss 0.398284048793793\n"
     ]
    },
    {
     "name": "stderr",
     "output_type": "stream",
     "text": [
      "100%|████████████████████████████████████████████████████████████████████| 110/110 [01:25<00:00,  1.28it/s, loss=0.204]\n"
     ]
    },
    {
     "name": "stdout",
     "output_type": "stream",
     "text": [
      "Training set: epoch-9 got 79141031/86240000 with acc 91.77%, F1-score 0.79 and loss 0.19779542088508606 \n",
      "Validation set: epoch-9 got 73128678/86240000 with acc 84.80% , F1-score 0.44 and validation loss 0.38661266026932023\n"
     ]
    },
    {
     "name": "stderr",
     "output_type": "stream",
     "text": [
      "100%|████████████████████████████████████████████████████████████████████| 110/110 [01:24<00:00,  1.30it/s, loss=0.207]\n"
     ]
    },
    {
     "name": "stdout",
     "output_type": "stream",
     "text": [
      "Training set: epoch-10 got 79197748/86240000 with acc 91.83%, F1-score 0.79 and loss 0.19589565694332123 \n",
      "Validation set: epoch-10 got 73555869/86240000 with acc 85.29% , F1-score 0.48 and validation loss 0.37596394843745556\n",
      "-------------------------- 2 fold --------------------------\n"
     ]
    },
    {
     "name": "stderr",
     "output_type": "stream",
     "text": [
      "100%|████████████████████████████████████████████████████████████████████| 110/110 [01:24<00:00,  1.30it/s, loss=0.352]\n"
     ]
    },
    {
     "name": "stdout",
     "output_type": "stream",
     "text": [
      "Training set: epoch-1 got 63551889/86240000 with acc 73.69%, F1-score 0.49 and loss 0.5445088148117065 \n",
      "Validation set: epoch-1 got 70949558/86240000 with acc 82.27% , F1-score 0.50 and validation loss 0.39573096376710726\n"
     ]
    },
    {
     "name": "stderr",
     "output_type": "stream",
     "text": [
      "100%|████████████████████████████████████████████████████████████████████| 110/110 [01:24<00:00,  1.30it/s, loss=0.288]\n"
     ]
    },
    {
     "name": "stdout",
     "output_type": "stream",
     "text": [
      "Training set: epoch-2 got 73665062/86240000 with acc 85.42%, F1-score 0.63 and loss 0.34648582339286804 \n",
      "Validation set: epoch-2 got 70611421/86240000 with acc 81.88% , F1-score 0.51 and validation loss 0.3952429130111207\n"
     ]
    },
    {
     "name": "stderr",
     "output_type": "stream",
     "text": [
      "100%|████████████████████████████████████████████████████████████████████| 110/110 [01:24<00:00,  1.30it/s, loss=0.229]\n"
     ]
    },
    {
     "name": "stdout",
     "output_type": "stream",
     "text": [
      "Training set: epoch-3 got 75798523/86240000 with acc 87.89%, F1-score 0.68 and loss 0.2847352623939514 \n",
      "Validation set: epoch-3 got 71650327/86240000 with acc 83.08% , F1-score 0.63 and validation loss 0.39290964388840194\n"
     ]
    },
    {
     "name": "stderr",
     "output_type": "stream",
     "text": [
      "100%|████████████████████████████████████████████████████████████████████| 110/110 [01:24<00:00,  1.30it/s, loss=0.227]\n"
     ]
    },
    {
     "name": "stdout",
     "output_type": "stream",
     "text": [
      "Training set: epoch-4 got 77114297/86240000 with acc 89.42%, F1-score 0.72 and loss 0.24916857481002808 \n",
      "Validation set: epoch-4 got 70523831/86240000 with acc 81.78% , F1-score 0.65 and validation loss 0.38496496340743963\n"
     ]
    },
    {
     "name": "stderr",
     "output_type": "stream",
     "text": [
      "100%|████████████████████████████████████████████████████████████████████| 110/110 [01:24<00:00,  1.30it/s, loss=0.194]\n"
     ]
    },
    {
     "name": "stdout",
     "output_type": "stream",
     "text": [
      "Training set: epoch-5 got 78679339/86240000 with acc 91.23%, F1-score 0.78 and loss 0.21057532727718353 \n",
      "Validation set: epoch-5 got 75627373/86240000 with acc 87.69% , F1-score 0.66 and validation loss 0.28281575872108833\n"
     ]
    },
    {
     "name": "stderr",
     "output_type": "stream",
     "text": [
      "100%|████████████████████████████████████████████████████████████████████| 110/110 [01:24<00:00,  1.30it/s, loss=0.201]\n"
     ]
    },
    {
     "name": "stdout",
     "output_type": "stream",
     "text": [
      "Training set: epoch-6 got 79106650/86240000 with acc 91.73%, F1-score 0.79 and loss 0.19999653100967407 \n",
      "Validation set: epoch-6 got 75109910/86240000 with acc 87.09% , F1-score 0.71 and validation loss 0.29823872777787336\n"
     ]
    },
    {
     "name": "stderr",
     "output_type": "stream",
     "text": [
      "100%|████████████████████████████████████████████████████████████████████| 110/110 [01:24<00:00,  1.30it/s, loss=0.231]\n"
     ]
    },
    {
     "name": "stdout",
     "output_type": "stream",
     "text": [
      "Training set: epoch-7 got 79330496/86240000 with acc 91.99%, F1-score 0.80 and loss 0.19432304799556732 \n",
      "Validation set: epoch-7 got 75531426/86240000 with acc 87.58% , F1-score 0.70 and validation loss 0.2901704261878676\n"
     ]
    },
    {
     "name": "stderr",
     "output_type": "stream",
     "text": [
      "100%|████████████████████████████████████████████████████████████████████| 110/110 [01:24<00:00,  1.30it/s, loss=0.178]\n"
     ]
    },
    {
     "name": "stdout",
     "output_type": "stream",
     "text": [
      "Training set: epoch-8 got 79519492/86240000 with acc 92.21%, F1-score 0.80 and loss 0.1892370879650116 \n",
      "Validation set: epoch-8 got 76177191/86240000 with acc 88.33% , F1-score 0.69 and validation loss 0.270274881829656\n"
     ]
    },
    {
     "name": "stderr",
     "output_type": "stream",
     "text": [
      "100%|█████████████████████████████████████████████████████████████████████| 110/110 [01:24<00:00,  1.30it/s, loss=0.14]\n"
     ]
    },
    {
     "name": "stdout",
     "output_type": "stream",
     "text": [
      "Training set: epoch-9 got 79770589/86240000 with acc 92.50%, F1-score 0.81 and loss 0.18284834921360016 \n",
      "Validation set: epoch-9 got 75866211/86240000 with acc 87.97% , F1-score 0.70 and validation loss 0.2797065741199769\n"
     ]
    },
    {
     "name": "stderr",
     "output_type": "stream",
     "text": [
      "100%|█████████████████████████████████████████████████████████████████████| 110/110 [01:24<00:00,  1.30it/s, loss=0.18]\n"
     ]
    },
    {
     "name": "stdout",
     "output_type": "stream",
     "text": [
      "Training set: epoch-10 got 79781198/86240000 with acc 92.51%, F1-score 0.81 and loss 0.1823093742132187 \n",
      "Validation set: epoch-10 got 75664889/86240000 with acc 87.74% , F1-score 0.70 and validation loss 0.2861699562607764\n"
     ]
    }
   ],
   "source": [
    "dict_train1bis ={\"save_model\": False,\n",
    "            \"cross_val\": True,\n",
    "            \"skip_connection\": True,\n",
    "            \"num_epochs\": 10,\n",
    "            \"n_splits\": 2,\n",
    "            \"batch_size\": 10,\n",
    "            \"scale_channel\": 2,\n",
    "            \"dict_double_conv\": {\"BatchNorm\": True,\n",
    "                \"activation\": nn.ELU(inplace=True),\n",
    "                \"p_dropout\": 0.2,\n",
    "                \"use_dropout\": False,\n",
    "                \"bias\": True},\n",
    "            \"dict_ups\": {\"BatchNorm\": False,\n",
    "                \"p_dropout\": 0.2,\n",
    "                \"use_dropout\": False,\n",
    "                \"bias\": False},\n",
    "            \"loss\": nn.BCEWithLogitsLoss(),\n",
    "            \"optimizer\": optim.Adam,\n",
    "            \"param_optimizer\": {\"weight_decay\": None,\n",
    "                               \"lr\": 5e-04},\n",
    "            \"use_scheduler\": True,\n",
    "            \"type_scheduler\": \"StepLR\",\n",
    "            \"scheduler\": torch.optim.lr_scheduler.StepLR,\n",
    "            \"param_scheduler\": {\"step_size\": 4,\n",
    "                               \"gamma\": 0.1},\n",
    "             \"scaler\": torch.cuda.amp.GradScaler(),\n",
    "             \"device\": DEVICE\n",
    "            }\n",
    "\n",
    "\n",
    "experiment1bis = {\"param\": dict_train1bis}\n",
    "experiment1bis[\"convergence_path\"] = run_training(dict_train1bis) \n",
    "\n",
    "\n",
    "f = open(\"result_exp/experiment1bis.pkl\",\"wb\")\n",
    "pickle.dump(experiment1bis,f)\n",
    "f.close()"
   ]
  },
  {
   "cell_type": "markdown",
   "id": "c7dcfb5e",
   "metadata": {},
   "source": [
    "## Experiment 2 Bis"
   ]
  },
  {
   "cell_type": "code",
   "execution_count": 9,
   "id": "12e41f5c",
   "metadata": {},
   "outputs": [
    {
     "name": "stdout",
     "output_type": "stream",
     "text": [
      "-------------------------- 1 fold --------------------------\n"
     ]
    },
    {
     "name": "stderr",
     "output_type": "stream",
     "text": [
      "100%|████████████████████████████████████████████████████████████████████| 110/110 [00:30<00:00,  3.65it/s, loss=0.369]\n"
     ]
    },
    {
     "name": "stdout",
     "output_type": "stream",
     "text": [
      "Training set: epoch-1 got 67386610/86240000 with acc 78.14%, F1-score 0.52 and loss 0.5188770890235901 \n",
      "Validation set: epoch-1 got 68890948/86240000 with acc 79.88% , F1-score 0.58 and validation loss 0.4925806600426642\n"
     ]
    },
    {
     "name": "stderr",
     "output_type": "stream",
     "text": [
      "100%|████████████████████████████████████████████████████████████████████| 110/110 [00:30<00:00,  3.65it/s, loss=0.297]\n"
     ]
    },
    {
     "name": "stdout",
     "output_type": "stream",
     "text": [
      "Training set: epoch-2 got 75399558/86240000 with acc 87.43%, F1-score 0.67 and loss 0.31971362233161926 \n",
      "Validation set: epoch-2 got 74650486/86240000 with acc 86.56% , F1-score 0.68 and validation loss 0.31570611716620617\n"
     ]
    },
    {
     "name": "stderr",
     "output_type": "stream",
     "text": [
      "100%|████████████████████████████████████████████████████████████████████| 110/110 [00:30<00:00,  3.64it/s, loss=0.409]\n"
     ]
    },
    {
     "name": "stdout",
     "output_type": "stream",
     "text": [
      "Training set: epoch-3 got 77265120/86240000 with acc 89.59%, F1-score 0.74 and loss 0.2594798803329468 \n",
      "Validation set: epoch-3 got 74736682/86240000 with acc 86.66% , F1-score 0.63 and validation loss 0.3143432709154686\n"
     ]
    },
    {
     "name": "stderr",
     "output_type": "stream",
     "text": [
      "100%|████████████████████████████████████████████████████████████████████| 110/110 [00:30<00:00,  3.64it/s, loss=0.243]\n"
     ]
    },
    {
     "name": "stdout",
     "output_type": "stream",
     "text": [
      "Training set: epoch-4 got 77725297/86240000 with acc 90.13%, F1-score 0.75 and loss 0.24029996991157532 \n",
      "Validation set: epoch-4 got 73477729/86240000 with acc 85.20% , F1-score 0.71 and validation loss 0.3286071639353665\n"
     ]
    },
    {
     "name": "stderr",
     "output_type": "stream",
     "text": [
      "100%|████████████████████████████████████████████████████████████████████| 110/110 [00:30<00:00,  3.66it/s, loss=0.181]\n"
     ]
    },
    {
     "name": "stdout",
     "output_type": "stream",
     "text": [
      "Training set: epoch-5 got 78994724/86240000 with acc 91.60%, F1-score 0.79 and loss 0.20551250874996185 \n",
      "Validation set: epoch-5 got 77936124/86240000 with acc 90.37% , F1-score 0.76 and validation loss 0.23350493419183896\n"
     ]
    },
    {
     "name": "stderr",
     "output_type": "stream",
     "text": [
      "100%|████████████████████████████████████████████████████████████████████| 110/110 [00:30<00:00,  3.66it/s, loss=0.213]\n"
     ]
    },
    {
     "name": "stdout",
     "output_type": "stream",
     "text": [
      "Training set: epoch-6 got 79359565/86240000 with acc 92.02%, F1-score 0.80 and loss 0.19669829308986664 \n",
      "Validation set: epoch-6 got 78364513/86240000 with acc 90.87% , F1-score 0.76 and validation loss 0.21612870031613646\n"
     ]
    },
    {
     "name": "stderr",
     "output_type": "stream",
     "text": [
      "100%|████████████████████████████████████████████████████████████████████| 110/110 [00:30<00:00,  3.64it/s, loss=0.181]\n"
     ]
    },
    {
     "name": "stdout",
     "output_type": "stream",
     "text": [
      "Training set: epoch-7 got 79582780/86240000 with acc 92.28%, F1-score 0.81 and loss 0.19047635793685913 \n",
      "Validation set: epoch-7 got 78232534/86240000 with acc 90.71% , F1-score 0.77 and validation loss 0.22421016737919602\n"
     ]
    },
    {
     "name": "stderr",
     "output_type": "stream",
     "text": [
      "100%|████████████████████████████████████████████████████████████████████| 110/110 [00:30<00:00,  3.64it/s, loss=0.169]\n"
     ]
    },
    {
     "name": "stdout",
     "output_type": "stream",
     "text": [
      "Training set: epoch-8 got 79735540/86240000 with acc 92.46%, F1-score 0.81 and loss 0.18575167655944824 \n",
      "Validation set: epoch-8 got 78558045/86240000 with acc 91.09% , F1-score 0.78 and validation loss 0.21431607321627463\n"
     ]
    },
    {
     "name": "stderr",
     "output_type": "stream",
     "text": [
      "100%|████████████████████████████████████████████████████████████████████| 110/110 [00:30<00:00,  3.65it/s, loss=0.192]\n"
     ]
    },
    {
     "name": "stdout",
     "output_type": "stream",
     "text": [
      "Training set: epoch-9 got 79884706/86240000 with acc 92.63%, F1-score 0.82 and loss 0.1820145845413208 \n",
      "Validation set: epoch-9 got 78365570/86240000 with acc 90.87% , F1-score 0.79 and validation loss 0.21565740684855925\n"
     ]
    },
    {
     "name": "stderr",
     "output_type": "stream",
     "text": [
      "100%|████████████████████████████████████████████████████████████████████| 110/110 [00:30<00:00,  3.64it/s, loss=0.189]\n"
     ]
    },
    {
     "name": "stdout",
     "output_type": "stream",
     "text": [
      "Training set: epoch-10 got 79966750/86240000 with acc 92.73%, F1-score 0.82 and loss 0.17985974252223969 \n",
      "Validation set: epoch-10 got 78361848/86240000 with acc 90.86% , F1-score 0.79 and validation loss 0.21663065813784368\n",
      "-------------------------- 2 fold --------------------------\n"
     ]
    },
    {
     "name": "stderr",
     "output_type": "stream",
     "text": [
      "100%|████████████████████████████████████████████████████████████████████| 110/110 [00:30<00:00,  3.65it/s, loss=0.404]\n"
     ]
    },
    {
     "name": "stdout",
     "output_type": "stream",
     "text": [
      "Training set: epoch-1 got 67067064/86240000 with acc 77.77%, F1-score 0.50 and loss 0.5402615666389465 \n",
      "Validation set: epoch-1 got 70169165/86240000 with acc 81.36% , F1-score 0.45 and validation loss 0.4244539629816619\n"
     ]
    },
    {
     "name": "stderr",
     "output_type": "stream",
     "text": [
      "100%|████████████████████████████████████████████████████████████████████| 110/110 [00:30<00:00,  3.65it/s, loss=0.257]\n"
     ]
    },
    {
     "name": "stdout",
     "output_type": "stream",
     "text": [
      "Training set: epoch-2 got 74308205/86240000 with acc 86.16%, F1-score 0.64 and loss 0.345124751329422 \n",
      "Validation set: epoch-2 got 73060571/86240000 with acc 84.72% , F1-score 0.48 and validation loss 0.3396980345308583\n"
     ]
    },
    {
     "name": "stderr",
     "output_type": "stream",
     "text": [
      "100%|████████████████████████████████████████████████████████████████████| 110/110 [00:30<00:00,  3.63it/s, loss=0.247]\n"
     ]
    },
    {
     "name": "stdout",
     "output_type": "stream",
     "text": [
      "Training set: epoch-3 got 76346943/86240000 with acc 88.53%, F1-score 0.71 and loss 0.28015565872192383 \n",
      "Validation set: epoch-3 got 73110890/86240000 with acc 84.78% , F1-score 0.70 and validation loss 0.33845209623390554\n"
     ]
    },
    {
     "name": "stderr",
     "output_type": "stream",
     "text": [
      "100%|████████████████████████████████████████████████████████████████████| 110/110 [00:30<00:00,  3.63it/s, loss=0.275]\n"
     ]
    },
    {
     "name": "stdout",
     "output_type": "stream",
     "text": [
      "Training set: epoch-4 got 77316118/86240000 with acc 89.65%, F1-score 0.74 and loss 0.2503293454647064 \n",
      "Validation set: epoch-4 got 74750975/86240000 with acc 86.68% , F1-score 0.66 and validation loss 0.326497401169799\n"
     ]
    },
    {
     "name": "stderr",
     "output_type": "stream",
     "text": [
      "100%|████████████████████████████████████████████████████████████████████| 110/110 [00:30<00:00,  3.65it/s, loss=0.178]\n"
     ]
    },
    {
     "name": "stdout",
     "output_type": "stream",
     "text": [
      "Training set: epoch-5 got 78315342/86240000 with acc 90.81%, F1-score 0.77 and loss 0.22290629148483276 \n",
      "Validation set: epoch-5 got 76396646/86240000 with acc 88.59% , F1-score 0.75 and validation loss 0.2731922383241517\n"
     ]
    },
    {
     "name": "stderr",
     "output_type": "stream",
     "text": [
      "100%|████████████████████████████████████████████████████████████████████| 110/110 [00:30<00:00,  3.66it/s, loss=0.238]\n"
     ]
    },
    {
     "name": "stdout",
     "output_type": "stream",
     "text": [
      "Training set: epoch-6 got 78911261/86240000 with acc 91.50%, F1-score 0.79 and loss 0.20700977742671967 \n",
      "Validation set: epoch-6 got 77085607/86240000 with acc 89.38% , F1-score 0.77 and validation loss 0.25483913805513947\n"
     ]
    },
    {
     "name": "stderr",
     "output_type": "stream",
     "text": [
      "100%|████████████████████████████████████████████████████████████████████| 110/110 [00:30<00:00,  3.65it/s, loss=0.187]\n"
     ]
    },
    {
     "name": "stdout",
     "output_type": "stream",
     "text": [
      "Training set: epoch-7 got 79193076/86240000 with acc 91.83%, F1-score 0.80 and loss 0.19971279799938202 \n",
      "Validation set: epoch-7 got 77216241/86240000 with acc 89.54% , F1-score 0.77 and validation loss 0.24611854482727166\n"
     ]
    },
    {
     "name": "stderr",
     "output_type": "stream",
     "text": [
      "100%|████████████████████████████████████████████████████████████████████| 110/110 [00:30<00:00,  3.65it/s, loss=0.175]\n"
     ]
    },
    {
     "name": "stdout",
     "output_type": "stream",
     "text": [
      "Training set: epoch-8 got 79359892/86240000 with acc 92.02%, F1-score 0.80 and loss 0.19536417722702026 \n",
      "Validation set: epoch-8 got 77887828/86240000 with acc 90.32% , F1-score 0.77 and validation loss 0.23307821427838654\n"
     ]
    },
    {
     "name": "stderr",
     "output_type": "stream",
     "text": [
      "100%|████████████████████████████████████████████████████████████████████| 110/110 [00:30<00:00,  3.64it/s, loss=0.189]\n"
     ]
    },
    {
     "name": "stdout",
     "output_type": "stream",
     "text": [
      "Training set: epoch-9 got 79507309/86240000 with acc 92.19%, F1-score 0.80 and loss 0.1915777325630188 \n",
      "Validation set: epoch-9 got 77776183/86240000 with acc 90.19% , F1-score 0.78 and validation loss 0.2331628028994717\n"
     ]
    },
    {
     "name": "stderr",
     "output_type": "stream",
     "text": [
      "100%|████████████████████████████████████████████████████████████████████| 110/110 [00:30<00:00,  3.65it/s, loss=0.148]\n"
     ]
    },
    {
     "name": "stdout",
     "output_type": "stream",
     "text": [
      "Training set: epoch-10 got 79623039/86240000 with acc 92.33%, F1-score 0.81 and loss 0.18831443786621094 \n",
      "Validation set: epoch-10 got 77558907/86240000 with acc 89.93% , F1-score 0.77 and validation loss 0.2371431082278633\n"
     ]
    }
   ],
   "source": [
    "dict_train2bis ={\"save_model\": False,\n",
    "            \"cross_val\": True,\n",
    "            \"skip_connection\": True,\n",
    "            \"num_epochs\": 10,\n",
    "            \"n_splits\": 2,\n",
    "            \"batch_size\": 10,\n",
    "            \"scale_channel\": 1,\n",
    "            \"dict_double_conv\": {\"BatchNorm\": True,\n",
    "                \"activation\": nn.ELU(inplace=True),\n",
    "                \"p_dropout\": 0.2,\n",
    "                \"use_dropout\": False,\n",
    "                \"bias\": True},\n",
    "            \"dict_ups\": {\"BatchNorm\": False,\n",
    "                \"p_dropout\": 0.2,\n",
    "                \"use_dropout\": False,\n",
    "                \"bias\": False},\n",
    "            \"loss\": nn.BCEWithLogitsLoss(),\n",
    "            \"optimizer\": optim.Adam,\n",
    "            \"param_optimizer\": {\"weight_decay\": None,\n",
    "                               \"lr\": 5e-04},\n",
    "            \"use_scheduler\": True,\n",
    "            \"type_scheduler\": \"StepLR\",\n",
    "            \"scheduler\": torch.optim.lr_scheduler.StepLR,\n",
    "            \"param_scheduler\": {\"step_size\": 4,\n",
    "                               \"gamma\": 0.1},\n",
    "             \"scaler\": torch.cuda.amp.GradScaler(),\n",
    "             \"device\": DEVICE\n",
    "            }\n",
    "\n",
    "\n",
    "experiment2bis = {\"param\": dict_train2bis}\n",
    "experiment2bis[\"convergence_path\"] = run_training(dict_train2bis) \n",
    "\n",
    "\n",
    "f = open(\"result_exp/experiment2bis.pkl\",\"wb\")\n",
    "pickle.dump(experiment2bis,f)\n",
    "f.close()"
   ]
  },
  {
   "cell_type": "markdown",
   "id": "c35a3352",
   "metadata": {},
   "source": [
    "## Experiment 3 Bis"
   ]
  },
  {
   "cell_type": "code",
   "execution_count": 12,
   "id": "31b18049",
   "metadata": {},
   "outputs": [
    {
     "name": "stdout",
     "output_type": "stream",
     "text": [
      "-------------------------- 1 fold --------------------------\n"
     ]
    },
    {
     "name": "stderr",
     "output_type": "stream",
     "text": [
      "100%|████████████████████████████████████████████████████████████████████| 110/110 [01:08<00:00,  1.61it/s, loss=0.415]\n"
     ]
    },
    {
     "name": "stdout",
     "output_type": "stream",
     "text": [
      "Training set: epoch-1 got 66008529/86240000 with acc 76.54%, F1-score 0.52 and loss 0.5053698420524597 \n",
      "Validation set: epoch-1 got 70829109/86240000 with acc 82.13% , F1-score 0.55 and validation loss 0.4137656640656117\n"
     ]
    },
    {
     "name": "stderr",
     "output_type": "stream",
     "text": [
      "100%|████████████████████████████████████████████████████████████████████| 110/110 [00:20<00:00,  5.30it/s, loss=0.255]\n"
     ]
    },
    {
     "name": "stdout",
     "output_type": "stream",
     "text": [
      "Training set: epoch-2 got 75358463/86240000 with acc 87.38%, F1-score 0.69 and loss 0.33409568667411804 \n",
      "Validation set: epoch-2 got 72900569/86240000 with acc 84.53% , F1-score 0.44 and validation loss 0.3748932588079257\n"
     ]
    },
    {
     "name": "stderr",
     "output_type": "stream",
     "text": [
      "100%|████████████████████████████████████████████████████████████████████| 110/110 [00:20<00:00,  5.30it/s, loss=0.228]\n"
     ]
    },
    {
     "name": "stdout",
     "output_type": "stream",
     "text": [
      "Training set: epoch-3 got 77632953/86240000 with acc 90.02%, F1-score 0.75 and loss 0.26222851872444153 \n",
      "Validation set: epoch-3 got 76488715/86240000 with acc 88.69% , F1-score 0.73 and validation loss 0.2714620629081775\n"
     ]
    },
    {
     "name": "stderr",
     "output_type": "stream",
     "text": [
      "100%|█████████████████████████████████████████████████████████████████████| 110/110 [00:20<00:00,  5.29it/s, loss=0.27]\n"
     ]
    },
    {
     "name": "stdout",
     "output_type": "stream",
     "text": [
      "Training set: epoch-4 got 78411664/86240000 with acc 90.92%, F1-score 0.77 and loss 0.23347149789333344 \n",
      "Validation set: epoch-4 got 75545471/86240000 with acc 87.60% , F1-score 0.73 and validation loss 0.30914618849227266\n"
     ]
    },
    {
     "name": "stderr",
     "output_type": "stream",
     "text": [
      "100%|████████████████████████████████████████████████████████████████████| 110/110 [00:20<00:00,  5.29it/s, loss=0.197]\n"
     ]
    },
    {
     "name": "stdout",
     "output_type": "stream",
     "text": [
      "Training set: epoch-5 got 79493447/86240000 with acc 92.18%, F1-score 0.80 and loss 0.20306727290153503 \n",
      "Validation set: epoch-5 got 77335952/86240000 with acc 89.68% , F1-score 0.77 and validation loss 0.249884892849506\n"
     ]
    },
    {
     "name": "stderr",
     "output_type": "stream",
     "text": [
      "100%|████████████████████████████████████████████████████████████████████| 110/110 [00:20<00:00,  5.27it/s, loss=0.162]\n"
     ]
    },
    {
     "name": "stdout",
     "output_type": "stream",
     "text": [
      "Training set: epoch-6 got 79807757/86240000 with acc 92.54%, F1-score 0.81 and loss 0.1943732053041458 \n",
      "Validation set: epoch-6 got 77412366/86240000 with acc 89.76% , F1-score 0.77 and validation loss 0.24998087962154783\n"
     ]
    },
    {
     "name": "stderr",
     "output_type": "stream",
     "text": [
      "100%|████████████████████████████████████████████████████████████████████| 110/110 [00:20<00:00,  5.24it/s, loss=0.174]\n"
     ]
    },
    {
     "name": "stdout",
     "output_type": "stream",
     "text": [
      "Training set: epoch-7 got 79917612/86240000 with acc 92.67%, F1-score 0.82 and loss 0.19061581790447235 \n",
      "Validation set: epoch-7 got 77523919/86240000 with acc 89.89% , F1-score 0.77 and validation loss 0.24843785070696559\n"
     ]
    },
    {
     "name": "stderr",
     "output_type": "stream",
     "text": [
      "100%|████████████████████████████████████████████████████████████████████| 110/110 [00:20<00:00,  5.31it/s, loss=0.202]\n"
     ]
    },
    {
     "name": "stdout",
     "output_type": "stream",
     "text": [
      "Training set: epoch-8 got 79993269/86240000 with acc 92.76%, F1-score 0.82 and loss 0.1879340410232544 \n",
      "Validation set: epoch-8 got 78445199/86240000 with acc 90.96% , F1-score 0.79 and validation loss 0.2225053340581062\n"
     ]
    },
    {
     "name": "stderr",
     "output_type": "stream",
     "text": [
      "100%|████████████████████████████████████████████████████████████████████| 110/110 [00:20<00:00,  5.31it/s, loss=0.227]\n"
     ]
    },
    {
     "name": "stdout",
     "output_type": "stream",
     "text": [
      "Training set: epoch-9 got 80072831/86240000 with acc 92.85%, F1-score 0.82 and loss 0.1854344606399536 \n",
      "Validation set: epoch-9 got 78202057/86240000 with acc 90.68% , F1-score 0.79 and validation loss 0.2296912443359427\n"
     ]
    },
    {
     "name": "stderr",
     "output_type": "stream",
     "text": [
      "100%|████████████████████████████████████████████████████████████████████| 110/110 [00:20<00:00,  5.28it/s, loss=0.153]\n"
     ]
    },
    {
     "name": "stdout",
     "output_type": "stream",
     "text": [
      "Training set: epoch-10 got 80172242/86240000 with acc 92.96%, F1-score 0.82 and loss 0.18326494097709656 \n",
      "Validation set: epoch-10 got 78142737/86240000 with acc 90.61% , F1-score 0.79 and validation loss 0.23070693086645191\n",
      "-------------------------- 2 fold --------------------------\n"
     ]
    },
    {
     "name": "stderr",
     "output_type": "stream",
     "text": [
      "100%|████████████████████████████████████████████████████████████████████| 110/110 [00:21<00:00,  5.23it/s, loss=0.493]\n"
     ]
    },
    {
     "name": "stdout",
     "output_type": "stream",
     "text": [
      "Training set: epoch-1 got 61861205/86240000 with acc 71.73%, F1-score 0.50 and loss 0.6050620079040527 \n",
      "Validation set: epoch-1 got 69196662/86240000 with acc 80.24% , F1-score 0.44 and validation loss 0.48524797576327927\n"
     ]
    },
    {
     "name": "stderr",
     "output_type": "stream",
     "text": [
      "100%|████████████████████████████████████████████████████████████████████| 110/110 [00:20<00:00,  5.30it/s, loss=0.296]\n"
     ]
    },
    {
     "name": "stdout",
     "output_type": "stream",
     "text": [
      "Training set: epoch-2 got 74865336/86240000 with acc 86.81%, F1-score 0.69 and loss 0.38245490193367004 \n",
      "Validation set: epoch-2 got 72837545/86240000 with acc 84.46% , F1-score 0.58 and validation loss 0.3679713108379665\n"
     ]
    },
    {
     "name": "stderr",
     "output_type": "stream",
     "text": [
      "100%|█████████████████████████████████████████████████████████████████████| 110/110 [00:20<00:00,  5.28it/s, loss=0.24]\n"
     ]
    },
    {
     "name": "stdout",
     "output_type": "stream",
     "text": [
      "Training set: epoch-3 got 77309100/86240000 with acc 89.64%, F1-score 0.74 and loss 0.2870115637779236 \n",
      "Validation set: epoch-3 got 74419989/86240000 with acc 86.29% , F1-score 0.57 and validation loss 0.32902434853633056\n"
     ]
    },
    {
     "name": "stderr",
     "output_type": "stream",
     "text": [
      "100%|████████████████████████████████████████████████████████████████████| 110/110 [00:20<00:00,  5.30it/s, loss=0.222]\n"
     ]
    },
    {
     "name": "stdout",
     "output_type": "stream",
     "text": [
      "Training set: epoch-4 got 78292107/86240000 with acc 90.78%, F1-score 0.77 and loss 0.24647486209869385 \n",
      "Validation set: epoch-4 got 76312108/86240000 with acc 88.49% , F1-score 0.72 and validation loss 0.289588917280815\n"
     ]
    },
    {
     "name": "stderr",
     "output_type": "stream",
     "text": [
      "100%|████████████████████████████████████████████████████████████████████| 110/110 [00:20<00:00,  5.30it/s, loss=0.236]\n"
     ]
    },
    {
     "name": "stdout",
     "output_type": "stream",
     "text": [
      "Training set: epoch-5 got 79336846/86240000 with acc 92.00%, F1-score 0.80 and loss 0.2147558629512787 \n",
      "Validation set: epoch-5 got 76997737/86240000 with acc 89.28% , F1-score 0.75 and validation loss 0.2690468635968851\n"
     ]
    },
    {
     "name": "stderr",
     "output_type": "stream",
     "text": [
      "100%|████████████████████████████████████████████████████████████████████| 110/110 [00:20<00:00,  5.29it/s, loss=0.194]\n"
     ]
    },
    {
     "name": "stdout",
     "output_type": "stream",
     "text": [
      "Training set: epoch-6 got 79607065/86240000 with acc 92.31%, F1-score 0.81 and loss 0.206960991024971 \n",
      "Validation set: epoch-6 got 77115758/86240000 with acc 89.42% , F1-score 0.76 and validation loss 0.2677129562940927\n"
     ]
    },
    {
     "name": "stderr",
     "output_type": "stream",
     "text": [
      "100%|████████████████████████████████████████████████████████████████████| 110/110 [00:20<00:00,  5.30it/s, loss=0.259]\n"
     ]
    },
    {
     "name": "stdout",
     "output_type": "stream",
     "text": [
      "Training set: epoch-7 got 79769819/86240000 with acc 92.50%, F1-score 0.81 and loss 0.20248033106327057 \n",
      "Validation set: epoch-7 got 76856764/86240000 with acc 89.12% , F1-score 0.76 and validation loss 0.273163020730454\n"
     ]
    },
    {
     "name": "stderr",
     "output_type": "stream",
     "text": [
      "100%|████████████████████████████████████████████████████████████████████| 110/110 [00:21<00:00,  5.24it/s, loss=0.193]\n"
     ]
    },
    {
     "name": "stdout",
     "output_type": "stream",
     "text": [
      "Training set: epoch-8 got 79857097/86240000 with acc 92.60%, F1-score 0.82 and loss 0.19900864362716675 \n",
      "Validation set: epoch-8 got 75734321/86240000 with acc 87.82% , F1-score 0.74 and validation loss 0.29487189717044826\n"
     ]
    },
    {
     "name": "stderr",
     "output_type": "stream",
     "text": [
      "100%|████████████████████████████████████████████████████████████████████| 110/110 [00:21<00:00,  5.08it/s, loss=0.172]\n"
     ]
    },
    {
     "name": "stdout",
     "output_type": "stream",
     "text": [
      "Training set: epoch-9 got 80066046/86240000 with acc 92.84%, F1-score 0.82 and loss 0.19317227602005005 \n",
      "Validation set: epoch-9 got 76363853/86240000 with acc 88.55% , F1-score 0.75 and validation loss 0.28141468537508724\n"
     ]
    },
    {
     "name": "stderr",
     "output_type": "stream",
     "text": [
      "100%|████████████████████████████████████████████████████████████████████| 110/110 [00:21<00:00,  5.06it/s, loss=0.193]\n"
     ]
    },
    {
     "name": "stdout",
     "output_type": "stream",
     "text": [
      "Training set: epoch-10 got 80109798/86240000 with acc 92.89%, F1-score 0.82 and loss 0.19218505918979645 \n",
      "Validation set: epoch-10 got 76487427/86240000 with acc 88.69% , F1-score 0.76 and validation loss 0.27853192688010264\n"
     ]
    }
   ],
   "source": [
    "dict_train3bis ={\"save_model\": False,\n",
    "            \"cross_val\": True,\n",
    "            \"skip_connection\": True,\n",
    "            \"num_epochs\": 10,\n",
    "            \"n_splits\": 2,\n",
    "            \"batch_size\": 10,\n",
    "            \"scale_channel\": 0.5,\n",
    "            \"dict_double_conv\": {\"BatchNorm\": True,\n",
    "                \"activation\": nn.ELU(inplace=True),\n",
    "                \"p_dropout\": 0.2,\n",
    "                \"use_dropout\": False,\n",
    "                \"bias\": True},\n",
    "            \"dict_ups\": {\"BatchNorm\": False,\n",
    "                \"p_dropout\": 0.2,\n",
    "                \"use_dropout\": False,\n",
    "                \"bias\": False},\n",
    "            \"loss\": nn.BCEWithLogitsLoss(),\n",
    "            \"optimizer\": optim.Adam,\n",
    "            \"param_optimizer\": {\"weight_decay\": None,\n",
    "                               \"lr\": 5e-04},\n",
    "            \"use_scheduler\": True,\n",
    "            \"type_scheduler\": \"StepLR\",\n",
    "            \"scheduler\": torch.optim.lr_scheduler.StepLR,\n",
    "            \"param_scheduler\": {\"step_size\": 4,\n",
    "                               \"gamma\": 0.1},\n",
    "             \"scaler\": torch.cuda.amp.GradScaler(),\n",
    "             \"device\": DEVICE\n",
    "            }\n",
    "\n",
    "\n",
    "experiment3bis = {\"param\": dict_train3bis}\n",
    "experiment3bis[\"convergence_path\"] = run_training(dict_train3bis) \n",
    "\n",
    "\n",
    "f = open(\"result_exp/experiment3bis.pkl\",\"wb\")\n",
    "pickle.dump(experiment3bis,f)\n",
    "f.close()"
   ]
  },
  {
   "cell_type": "markdown",
   "id": "96a9855b",
   "metadata": {},
   "source": [
    "## Experiment 4 Bis"
   ]
  },
  {
   "cell_type": "code",
   "execution_count": 11,
   "id": "1dd0bb48",
   "metadata": {},
   "outputs": [
    {
     "name": "stdout",
     "output_type": "stream",
     "text": [
      "-------------------------- 1 fold --------------------------\n"
     ]
    },
    {
     "name": "stderr",
     "output_type": "stream",
     "text": [
      "100%|████████████████████████████████████████████████████████████████████| 110/110 [00:17<00:00,  6.15it/s, loss=0.422]\n"
     ]
    },
    {
     "name": "stdout",
     "output_type": "stream",
     "text": [
      "Training set: epoch-1 got 62703525/86240000 with acc 72.71%, F1-score 0.51 and loss 0.5799912214279175 \n",
      "Validation set: epoch-1 got 71940812/86240000 with acc 83.42% , F1-score 0.60 and validation loss 0.47076091765545375\n"
     ]
    },
    {
     "name": "stderr",
     "output_type": "stream",
     "text": [
      "100%|████████████████████████████████████████████████████████████████████| 110/110 [00:18<00:00,  5.94it/s, loss=0.316]\n"
     ]
    },
    {
     "name": "stdout",
     "output_type": "stream",
     "text": [
      "Training set: epoch-2 got 74428402/86240000 with acc 86.30%, F1-score 0.67 and loss 0.3751053214073181 \n",
      "Validation set: epoch-2 got 71377043/86240000 with acc 82.77% , F1-score 0.66 and validation loss 0.386380387161375\n"
     ]
    },
    {
     "name": "stderr",
     "output_type": "stream",
     "text": [
      "100%|████████████████████████████████████████████████████████████████████| 110/110 [00:19<00:00,  5.70it/s, loss=0.281]\n"
     ]
    },
    {
     "name": "stdout",
     "output_type": "stream",
     "text": [
      "Training set: epoch-3 got 76540466/86240000 with acc 88.75%, F1-score 0.72 and loss 0.2939181625843048 \n",
      "Validation set: epoch-3 got 72063556/86240000 with acc 83.56% , F1-score 0.67 and validation loss 0.3906484943605947\n"
     ]
    },
    {
     "name": "stderr",
     "output_type": "stream",
     "text": [
      "100%|████████████████████████████████████████████████████████████████████| 110/110 [00:19<00:00,  5.72it/s, loss=0.254]\n"
     ]
    },
    {
     "name": "stdout",
     "output_type": "stream",
     "text": [
      "Training set: epoch-4 got 77294682/86240000 with acc 89.63%, F1-score 0.74 and loss 0.26356041431427 \n",
      "Validation set: epoch-4 got 73454501/86240000 with acc 85.17% , F1-score 0.71 and validation loss 0.3366929440082486\n"
     ]
    },
    {
     "name": "stderr",
     "output_type": "stream",
     "text": [
      "100%|████████████████████████████████████████████████████████████████████| 110/110 [00:19<00:00,  5.69it/s, loss=0.175]\n"
     ]
    },
    {
     "name": "stdout",
     "output_type": "stream",
     "text": [
      "Training set: epoch-5 got 78587413/86240000 with acc 91.13%, F1-score 0.78 and loss 0.22415243089199066 \n",
      "Validation set: epoch-5 got 75010106/86240000 with acc 86.98% , F1-score 0.73 and validation loss 0.3012547252230022\n"
     ]
    },
    {
     "name": "stderr",
     "output_type": "stream",
     "text": [
      "100%|████████████████████████████████████████████████████████████████████| 110/110 [00:19<00:00,  5.68it/s, loss=0.232]\n"
     ]
    },
    {
     "name": "stdout",
     "output_type": "stream",
     "text": [
      "Training set: epoch-6 got 78842496/86240000 with acc 91.42%, F1-score 0.79 and loss 0.21738074719905853 \n",
      "Validation set: epoch-6 got 75728444/86240000 with acc 87.81% , F1-score 0.74 and validation loss 0.28360339102763643\n"
     ]
    },
    {
     "name": "stderr",
     "output_type": "stream",
     "text": [
      "100%|████████████████████████████████████████████████████████████████████| 110/110 [00:19<00:00,  5.69it/s, loss=0.194]\n"
     ]
    },
    {
     "name": "stdout",
     "output_type": "stream",
     "text": [
      "Training set: epoch-7 got 79004997/86240000 with acc 91.61%, F1-score 0.79 and loss 0.21293051540851593 \n",
      "Validation set: epoch-7 got 74937542/86240000 with acc 86.89% , F1-score 0.73 and validation loss 0.30317684417683693\n"
     ]
    },
    {
     "name": "stderr",
     "output_type": "stream",
     "text": [
      "100%|████████████████████████████████████████████████████████████████████| 110/110 [00:19<00:00,  5.70it/s, loss=0.193]\n"
     ]
    },
    {
     "name": "stdout",
     "output_type": "stream",
     "text": [
      "Training set: epoch-8 got 79169465/86240000 with acc 91.80%, F1-score 0.80 and loss 0.2082342803478241 \n",
      "Validation set: epoch-8 got 75639570/86240000 with acc 87.71% , F1-score 0.74 and validation loss 0.28632920301487674\n"
     ]
    },
    {
     "name": "stderr",
     "output_type": "stream",
     "text": [
      "100%|████████████████████████████████████████████████████████████████████| 110/110 [00:19<00:00,  5.64it/s, loss=0.186]\n"
     ]
    },
    {
     "name": "stdout",
     "output_type": "stream",
     "text": [
      "Training set: epoch-9 got 79355466/86240000 with acc 92.02%, F1-score 0.80 and loss 0.2042076587677002 \n",
      "Validation set: epoch-9 got 75178504/86240000 with acc 87.17% , F1-score 0.74 and validation loss 0.2951547440207926\n"
     ]
    },
    {
     "name": "stderr",
     "output_type": "stream",
     "text": [
      "100%|████████████████████████████████████████████████████████████████████| 110/110 [00:19<00:00,  5.70it/s, loss=0.177]\n"
     ]
    },
    {
     "name": "stdout",
     "output_type": "stream",
     "text": [
      "Training set: epoch-10 got 79348739/86240000 with acc 92.01%, F1-score 0.80 and loss 0.20363971590995789 \n",
      "Validation set: epoch-10 got 74631603/86240000 with acc 86.54% , F1-score 0.73 and validation loss 0.3082501178665873\n",
      "-------------------------- 2 fold --------------------------\n"
     ]
    },
    {
     "name": "stderr",
     "output_type": "stream",
     "text": [
      "100%|████████████████████████████████████████████████████████████████████| 110/110 [00:19<00:00,  5.70it/s, loss=0.415]\n"
     ]
    },
    {
     "name": "stdout",
     "output_type": "stream",
     "text": [
      "Training set: epoch-1 got 66651168/86240000 with acc 77.29%, F1-score 0.54 and loss 0.5385973453521729 \n",
      "Validation set: epoch-1 got 73504297/86240000 with acc 85.23% , F1-score 0.58 and validation loss 0.47347917954758684\n"
     ]
    },
    {
     "name": "stderr",
     "output_type": "stream",
     "text": [
      "100%|████████████████████████████████████████████████████████████████████| 110/110 [00:19<00:00,  5.72it/s, loss=0.294]\n"
     ]
    },
    {
     "name": "stdout",
     "output_type": "stream",
     "text": [
      "Training set: epoch-2 got 74996693/86240000 with acc 86.96%, F1-score 0.68 and loss 0.36658966541290283 \n",
      "Validation set: epoch-2 got 74538104/86240000 with acc 86.43% , F1-score 0.66 and validation loss 0.3803842521506172\n"
     ]
    },
    {
     "name": "stderr",
     "output_type": "stream",
     "text": [
      "100%|█████████████████████████████████████████████████████████████████████| 110/110 [00:19<00:00,  5.68it/s, loss=0.27]\n"
     ]
    },
    {
     "name": "stdout",
     "output_type": "stream",
     "text": [
      "Training set: epoch-3 got 76256383/86240000 with acc 88.42%, F1-score 0.71 and loss 0.30861395597457886 \n",
      "Validation set: epoch-3 got 63255147/86240000 with acc 73.35% , F1-score 0.58 and validation loss 0.5420279701490962\n"
     ]
    },
    {
     "name": "stderr",
     "output_type": "stream",
     "text": [
      "100%|████████████████████████████████████████████████████████████████████| 110/110 [00:19<00:00,  5.69it/s, loss=0.266]\n"
     ]
    },
    {
     "name": "stdout",
     "output_type": "stream",
     "text": [
      "Training set: epoch-4 got 77473625/86240000 with acc 89.83%, F1-score 0.75 and loss 0.2615646421909332 \n",
      "Validation set: epoch-4 got 67232602/86240000 with acc 77.96% , F1-score 0.64 and validation loss 0.4747996418068503\n"
     ]
    },
    {
     "name": "stderr",
     "output_type": "stream",
     "text": [
      "100%|██████████████████████████████████████████████████████████████████████| 110/110 [00:19<00:00,  5.61it/s, loss=0.2]\n"
     ]
    },
    {
     "name": "stdout",
     "output_type": "stream",
     "text": [
      "Training set: epoch-5 got 78643162/86240000 with acc 91.19%, F1-score 0.78 and loss 0.22846239805221558 \n",
      "Validation set: epoch-5 got 68988385/86240000 with acc 80.00% , F1-score 0.66 and validation loss 0.4223777299087447\n"
     ]
    },
    {
     "name": "stderr",
     "output_type": "stream",
     "text": [
      "100%|████████████████████████████████████████████████████████████████████| 110/110 [00:19<00:00,  5.59it/s, loss=0.216]\n"
     ]
    },
    {
     "name": "stdout",
     "output_type": "stream",
     "text": [
      "Training set: epoch-6 got 78904606/86240000 with acc 91.49%, F1-score 0.79 and loss 0.22030916810035706 \n",
      "Validation set: epoch-6 got 74257041/86240000 with acc 86.11% , F1-score 0.73 and validation loss 0.3206287048538813\n"
     ]
    },
    {
     "name": "stderr",
     "output_type": "stream",
     "text": [
      "100%|████████████████████████████████████████████████████████████████████| 110/110 [00:19<00:00,  5.62it/s, loss=0.183]\n"
     ]
    },
    {
     "name": "stdout",
     "output_type": "stream",
     "text": [
      "Training set: epoch-7 got 79052998/86240000 with acc 91.67%, F1-score 0.79 and loss 0.21534128487110138 \n",
      "Validation set: epoch-7 got 72236903/86240000 with acc 83.76% , F1-score 0.70 and validation loss 0.3529465011179381\n"
     ]
    },
    {
     "name": "stderr",
     "output_type": "stream",
     "text": [
      "100%|████████████████████████████████████████████████████████████████████| 110/110 [00:19<00:00,  5.69it/s, loss=0.223]\n"
     ]
    },
    {
     "name": "stdout",
     "output_type": "stream",
     "text": [
      "Training set: epoch-8 got 79245202/86240000 with acc 91.89%, F1-score 0.80 and loss 0.21037229895591736 \n",
      "Validation set: epoch-8 got 72132613/86240000 with acc 83.64% , F1-score 0.70 and validation loss 0.3595542837810704\n"
     ]
    },
    {
     "name": "stderr",
     "output_type": "stream",
     "text": [
      "100%|████████████████████████████████████████████████████████████████████| 110/110 [00:19<00:00,  5.70it/s, loss=0.184]\n"
     ]
    },
    {
     "name": "stdout",
     "output_type": "stream",
     "text": [
      "Training set: epoch-9 got 79336864/86240000 with acc 92.00%, F1-score 0.80 and loss 0.20706258714199066 \n",
      "Validation set: epoch-9 got 69988262/86240000 with acc 81.16% , F1-score 0.67 and validation loss 0.4074612536286941\n"
     ]
    },
    {
     "name": "stderr",
     "output_type": "stream",
     "text": [
      "100%|████████████████████████████████████████████████████████████████████| 110/110 [00:19<00:00,  5.69it/s, loss=0.184]\n"
     ]
    },
    {
     "name": "stdout",
     "output_type": "stream",
     "text": [
      "Training set: epoch-10 got 79383110/86240000 with acc 92.05%, F1-score 0.80 and loss 0.20612388849258423 \n",
      "Validation set: epoch-10 got 69458603/86240000 with acc 80.54% , F1-score 0.67 and validation loss 0.4162825049875025\n"
     ]
    }
   ],
   "source": [
    "dict_train4bis ={\"save_model\": False,\n",
    "            \"cross_val\": True,\n",
    "            \"skip_connection\": False,\n",
    "            \"num_epochs\": 10,\n",
    "            \"n_splits\": 2,\n",
    "            \"batch_size\": 10,\n",
    "            \"scale_channel\": 0.5,\n",
    "            \"dict_double_conv\": {\"BatchNorm\": True,\n",
    "                \"activation\": nn.ELU(inplace=True),\n",
    "                \"p_dropout\": 0.2,\n",
    "                \"use_dropout\": False,\n",
    "                \"bias\": True},\n",
    "            \"dict_ups\": {\"BatchNorm\": False,\n",
    "                \"p_dropout\": 0.2,\n",
    "                \"use_dropout\": False,\n",
    "                \"bias\": False},\n",
    "            \"loss\": nn.BCEWithLogitsLoss(),\n",
    "            \"optimizer\": optim.Adam,\n",
    "            \"param_optimizer\": {\"weight_decay\": None,\n",
    "                               \"lr\": 5e-04},\n",
    "            \"use_scheduler\": True,\n",
    "            \"type_scheduler\": \"StepLR\",\n",
    "            \"scheduler\": torch.optim.lr_scheduler.StepLR,\n",
    "            \"param_scheduler\": {\"step_size\": 4,\n",
    "                               \"gamma\": 0.1},\n",
    "             \"scaler\": torch.cuda.amp.GradScaler(),\n",
    "             \"device\": DEVICE\n",
    "            }\n",
    "\n",
    "\n",
    "experiment4bis = {\"param\": dict_train4bis}\n",
    "experiment4bis[\"convergence_path\"] = run_training(dict_train4bis) \n",
    "\n",
    "\n",
    "f = open(\"result_exp/experiment4bis.pkl\",\"wb\")\n",
    "pickle.dump(experiment4bis,f)\n",
    "f.close()"
   ]
  },
  {
   "cell_type": "code",
   "execution_count": 3,
   "id": "f605bf2f",
   "metadata": {},
   "outputs": [],
   "source": [
    "import io\n",
    "\n",
    "class CPU_Unpickler(pickle.Unpickler):\n",
    "    def find_class(self, module, name):\n",
    "        if module == 'torch.storage' and name == '_load_from_bytes':\n",
    "            return lambda b: torch.load(io.BytesIO(b), map_location='cpu')\n",
    "        else:\n",
    "            return super().find_class(module, name)\n",
    "\n",
    "\n",
    "    \n",
    "exp_bis = {}\n",
    "\n",
    "for i in range(1,3):\n",
    "    f = open(f\"result_exp/experiment{i}bis.pkl\",\"rb\")\n",
    "    exp_bis[f\"exp{i}\"] = CPU_Unpickler(f).load()\n",
    "    f.close()"
   ]
  },
  {
   "cell_type": "code",
   "execution_count": 6,
   "id": "c279a2f9",
   "metadata": {},
   "outputs": [
    {
     "data": {
      "image/png": "[encoded data removed]",
      "text/plain": [
       "<Figure size 1000x600 with 1 Axes>"
      ]
     },
     "metadata": {},
     "output_type": "display_data"
    }
   ],
   "source": [
    "fig = plt.figure(figsize=(10,6))\n",
    "label = [f\"exp{i+1}\" for i in range(3)]\n",
    "for i in range(1,1+len(exp_bis)):\n",
    "    y = 0.5*(np.array(exp_bis[f\"exp{i}\"][\"convergence_path\"][\"Kfold 0\"][\"val_F1\"]) + np.array(exp_bis[f\"exp{i}\"][\"convergence_path\"][\"Kfold 1\"][\"val_F1\"]))\n",
    "    plt.plot(np.arange(1,len(y)+1),y,label=label[i-1])\n",
    "plt.legend()\n",
    "plt.show()"
   ]
  },
  {
   "cell_type": "code",
   "execution_count": 13,
   "id": "428e024f",
   "metadata": {},
   "outputs": [
    {
     "data": {
      "image/png": "[encoded data removed]",
      "text/plain": [
       "<Figure size 600x800 with 2 Axes>"
      ]
     },
     "metadata": {},
     "output_type": "display_data"
    }
   ],
   "source": [
    "import io\n",
    "\n",
    "class CPU_Unpickler(pickle.Unpickler):\n",
    "    def find_class(self, module, name):\n",
    "        if module == 'torch.storage' and name == '_load_from_bytes':\n",
    "            return lambda b: torch.load(io.BytesIO(b), map_location='cpu')\n",
    "        else:\n",
    "            return super().find_class(module, name)\n",
    "\n",
    "exp = {}\n",
    "\n",
    "for i in range(1,4):\n",
    "    f = open(f\"result_exp/experiment{i}bis.pkl\",\"rb\")\n",
    "    exp[f\"exp{i}\"] = CPU_Unpickler(f).load()\n",
    "    f.close()\n",
    "\n",
    "\n",
    "fig, (ax1,ax2) = plt.subplots(2,1,figsize=(6,8))\n",
    "label = ['max channel size: 1024','max channel size: 512','max channel size: 256']\n",
    "for i in range(1,1+len(exp)):\n",
    "    y = 0.5*(np.array(exp[f\"exp{i}\"][\"convergence_path\"][\"Kfold 0\"][\"val_F1\"]) + np.array(exp[f\"exp{i}\"][\"convergence_path\"][\"Kfold 1\"][\"val_F1\"]))\n",
    "    ax1.plot(np.arange(1,len(y)+1),y,label=label[i-1])\n",
    "    y = 0.5*(np.array(exp[f\"exp{i}\"][\"convergence_path\"][\"Kfold 0\"][\"val_acc\"]) + np.array(exp[f\"exp{i}\"][\"convergence_path\"][\"Kfold 1\"][\"val_acc\"]))\n",
    "    ax2.plot(np.arange(1,len(y)+1),y,'-',label=label[i-1])\n",
    "ax2.legend()\n",
    "ax1.legend()\n",
    "ax1.set_title('Validation F1 score')\n",
    "ax2.set_title('Validation Accuracy')\n",
    "fig.supxlabel('epoch',y=0.05)\n",
    "plt.savefig('Figure/val_acc_2.pdf', dpi=300, bbox_inches='tight')\n",
    "plt.show()"
   ]
  },
  {
   "cell_type": "code",
   "execution_count": null,
   "id": "4c2925e7",
   "metadata": {},
   "outputs": [],
   "source": []
  }
 ],
 "metadata": {
  "kernelspec": {
   "display_name": "Python 3 (ipykernel)",
   "language": "python",
   "name": "python3"
  },
  "language_info": {
   "codemirror_mode": {
    "name": "ipython",
    "version": 3
   },
   "file_extension": ".py",
   "mimetype": "text/x-python",
   "name": "python",
   "nbconvert_exporter": "python",
   "pygments_lexer": "ipython3",
   "version": "3.9.12"
  }
 },
 "nbformat": 4,
 "nbformat_minor": 5
}
