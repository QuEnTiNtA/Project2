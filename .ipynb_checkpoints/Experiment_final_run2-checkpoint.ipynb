{
 "cells": [
  {
   "cell_type": "code",
   "execution_count": 1,
   "id": "3f7ea0af",
   "metadata": {},
   "outputs": [],
   "source": [
    "import os\n",
    "from PIL import Image\n",
    "from torch.utils.data import Dataset, DataLoader\n",
    "import numpy as np\n",
    "import torch\n",
    "import torchvision\n",
    "import torch.nn as nn\n",
    "import torchvision.transforms.functional as TF\n",
    "from tqdm import tqdm\n",
    "import torch.optim as optim\n",
    "from sklearn.model_selection import KFold\n",
    "from torch.utils.data import SubsetRandomSampler\n",
    "from collections import OrderedDict\n",
    "import matplotlib.pyplot as plt\n",
    "from Network import *\n",
    "from DataSet import *\n",
    "from train_procedure import *\n",
    "from Aug import *\n",
    "from torchvision import transforms\n",
    "import pickle\n",
    "\n",
    "%load_ext autoreload\n",
    "%autoreload 2"
   ]
  },
  {
   "cell_type": "code",
   "execution_count": 2,
   "id": "ac9ed076",
   "metadata": {},
   "outputs": [
    {
     "name": "stderr",
     "output_type": "stream",
     "text": [
      "satImage_100.png: 100%|███████████████████████████████████████████████████████████| 100/100 [01:21<00:00,  1.23image/s]\n"
     ]
    }
   ],
   "source": [
    "# Create the augmented dataset\n",
    "create_augmented_dataset(True)"
   ]
  },
  {
   "cell_type": "code",
   "execution_count": 3,
   "id": "0ec76645",
   "metadata": {},
   "outputs": [],
   "source": [
    "DEVICE = \"cuda\" if torch.cuda.is_available() else \"cpu\""
   ]
  },
  {
   "cell_type": "code",
   "execution_count": 4,
   "id": "bbe6b75c",
   "metadata": {},
   "outputs": [
    {
     "name": "stderr",
     "output_type": "stream",
     "text": [
      "100%|████████████████████████████████████████████████████████████████████| 220/220 [03:00<00:00,  1.22it/s, loss=0.448]\n"
     ]
    },
    {
     "name": "stdout",
     "output_type": "stream",
     "text": [
      "Training set: epoch-1 got 128906846/172480000 with acc 74.74%, F1-score 0.39 and loss 0.5443196296691895 \n"
     ]
    },
    {
     "name": "stderr",
     "output_type": "stream",
     "text": [
      "100%|████████████████████████████████████████████████████████████████████| 220/220 [02:41<00:00,  1.36it/s, loss=0.497]\n"
     ]
    },
    {
     "name": "stdout",
     "output_type": "stream",
     "text": [
      "Training set: epoch-2 got 138846670/172480000 with acc 80.50%, F1-score 0.41 and loss 0.43201109766960144 \n"
     ]
    },
    {
     "name": "stderr",
     "output_type": "stream",
     "text": [
      "100%|████████████████████████████████████████████████████████████████████| 220/220 [02:50<00:00,  1.29it/s, loss=0.497]\n"
     ]
    },
    {
     "name": "stdout",
     "output_type": "stream",
     "text": [
      "Training set: epoch-3 got 140469325/172480000 with acc 81.44%, F1-score 0.45 and loss 0.40267428755760193 \n"
     ]
    },
    {
     "name": "stderr",
     "output_type": "stream",
     "text": [
      "100%|████████████████████████████████████████████████████████████████████| 220/220 [02:46<00:00,  1.32it/s, loss=0.513]\n"
     ]
    },
    {
     "name": "stdout",
     "output_type": "stream",
     "text": [
      "Training set: epoch-4 got 140951223/172480000 with acc 81.72%, F1-score 0.46 and loss 0.398801326751709 \n"
     ]
    },
    {
     "name": "stderr",
     "output_type": "stream",
     "text": [
      "100%|████████████████████████████████████████████████████████████████████| 220/220 [02:40<00:00,  1.37it/s, loss=0.537]\n"
     ]
    },
    {
     "name": "stdout",
     "output_type": "stream",
     "text": [
      "Training set: epoch-5 got 141834202/172480000 with acc 82.23%, F1-score 0.49 and loss 0.38691577315330505 \n"
     ]
    },
    {
     "name": "stderr",
     "output_type": "stream",
     "text": [
      "100%|████████████████████████████████████████████████████████████████████| 220/220 [02:40<00:00,  1.37it/s, loss=0.521]\n"
     ]
    },
    {
     "name": "stdout",
     "output_type": "stream",
     "text": [
      "Training set: epoch-6 got 142104213/172480000 with acc 82.39%, F1-score 0.49 and loss 0.3818760812282562 \n"
     ]
    },
    {
     "name": "stderr",
     "output_type": "stream",
     "text": [
      "100%|████████████████████████████████████████████████████████████████████| 220/220 [02:40<00:00,  1.37it/s, loss=0.525]\n"
     ]
    },
    {
     "name": "stdout",
     "output_type": "stream",
     "text": [
      "Training set: epoch-7 got 143281320/172480000 with acc 83.07%, F1-score 0.53 and loss 0.370866984128952 \n"
     ]
    },
    {
     "name": "stderr",
     "output_type": "stream",
     "text": [
      "100%|████████████████████████████████████████████████████████████████████| 220/220 [02:40<00:00,  1.37it/s, loss=0.521]\n"
     ]
    },
    {
     "name": "stdout",
     "output_type": "stream",
     "text": [
      "Training set: epoch-8 got 144036169/172480000 with acc 83.51%, F1-score 0.54 and loss 0.36308547854423523 \n"
     ]
    },
    {
     "name": "stderr",
     "output_type": "stream",
     "text": [
      "100%|████████████████████████████████████████████████████████████████████| 220/220 [02:40<00:00,  1.37it/s, loss=0.532]\n"
     ]
    },
    {
     "name": "stdout",
     "output_type": "stream",
     "text": [
      "Training set: epoch-9 got 143497028/172480000 with acc 83.20%, F1-score 0.52 and loss 0.3677373230457306 \n"
     ]
    },
    {
     "name": "stderr",
     "output_type": "stream",
     "text": [
      "100%|████████████████████████████████████████████████████████████████████| 220/220 [02:40<00:00,  1.37it/s, loss=0.512]\n"
     ]
    },
    {
     "name": "stdout",
     "output_type": "stream",
     "text": [
      "Training set: epoch-10 got 143972808/172480000 with acc 83.47%, F1-score 0.54 and loss 0.36100903153419495 \n"
     ]
    },
    {
     "name": "stderr",
     "output_type": "stream",
     "text": [
      "100%|████████████████████████████████████████████████████████████████████| 220/220 [02:40<00:00,  1.37it/s, loss=0.544]\n"
     ]
    },
    {
     "name": "stdout",
     "output_type": "stream",
     "text": [
      "Training set: epoch-11 got 145579438/172480000 with acc 84.40%, F1-score 0.58 and loss 0.3474520742893219 \n"
     ]
    },
    {
     "name": "stderr",
     "output_type": "stream",
     "text": [
      "100%|████████████████████████████████████████████████████████████████████| 220/220 [02:40<00:00,  1.37it/s, loss=0.528]\n"
     ]
    },
    {
     "name": "stdout",
     "output_type": "stream",
     "text": [
      "Training set: epoch-12 got 146087146/172480000 with acc 84.70%, F1-score 0.59 and loss 0.34150758385658264 \n"
     ]
    },
    {
     "name": "stderr",
     "output_type": "stream",
     "text": [
      "100%|████████████████████████████████████████████████████████████████████| 220/220 [02:40<00:00,  1.37it/s, loss=0.514]\n"
     ]
    },
    {
     "name": "stdout",
     "output_type": "stream",
     "text": [
      "Training set: epoch-13 got 146952992/172480000 with acc 85.20%, F1-score 0.60 and loss 0.3350985646247864 \n"
     ]
    },
    {
     "name": "stderr",
     "output_type": "stream",
     "text": [
      "100%|████████████████████████████████████████████████████████████████████| 220/220 [02:40<00:00,  1.37it/s, loss=0.528]\n"
     ]
    },
    {
     "name": "stdout",
     "output_type": "stream",
     "text": [
      "Training set: epoch-14 got 147724703/172480000 with acc 85.65%, F1-score 0.61 and loss 0.32625100016593933 \n"
     ]
    },
    {
     "name": "stderr",
     "output_type": "stream",
     "text": [
      "100%|████████████████████████████████████████████████████████████████████| 220/220 [02:40<00:00,  1.37it/s, loss=0.527]\n"
     ]
    },
    {
     "name": "stdout",
     "output_type": "stream",
     "text": [
      "Training set: epoch-15 got 148542888/172480000 with acc 86.12%, F1-score 0.63 and loss 0.3170861005783081 \n"
     ]
    },
    {
     "name": "stderr",
     "output_type": "stream",
     "text": [
      "100%|████████████████████████████████████████████████████████████████████| 220/220 [02:40<00:00,  1.37it/s, loss=0.509]\n"
     ]
    },
    {
     "name": "stdout",
     "output_type": "stream",
     "text": [
      "Training set: epoch-16 got 149641514/172480000 with acc 86.76%, F1-score 0.65 and loss 0.30594342947006226 \n"
     ]
    },
    {
     "name": "stderr",
     "output_type": "stream",
     "text": [
      "100%|████████████████████████████████████████████████████████████████████| 220/220 [02:40<00:00,  1.37it/s, loss=0.477]\n"
     ]
    },
    {
     "name": "stdout",
     "output_type": "stream",
     "text": [
      "Training set: epoch-17 got 150403375/172480000 with acc 87.20%, F1-score 0.66 and loss 0.2977427542209625 \n"
     ]
    },
    {
     "name": "stderr",
     "output_type": "stream",
     "text": [
      "100%|████████████████████████████████████████████████████████████████████| 220/220 [02:40<00:00,  1.37it/s, loss=0.462]\n"
     ]
    },
    {
     "name": "stdout",
     "output_type": "stream",
     "text": [
      "Training set: epoch-18 got 151177118/172480000 with acc 87.65%, F1-score 0.68 and loss 0.2902114689350128 \n"
     ]
    },
    {
     "name": "stderr",
     "output_type": "stream",
     "text": [
      "100%|████████████████████████████████████████████████████████████████████| 220/220 [02:40<00:00,  1.37it/s, loss=0.451]\n"
     ]
    },
    {
     "name": "stdout",
     "output_type": "stream",
     "text": [
      "Training set: epoch-19 got 151678870/172480000 with acc 87.94%, F1-score 0.68 and loss 0.28455600142478943 \n"
     ]
    },
    {
     "name": "stderr",
     "output_type": "stream",
     "text": [
      "100%|████████████████████████████████████████████████████████████████████| 220/220 [02:40<00:00,  1.37it/s, loss=0.441]\n"
     ]
    },
    {
     "name": "stdout",
     "output_type": "stream",
     "text": [
      "Training set: epoch-20 got 152356393/172480000 with acc 88.33%, F1-score 0.70 and loss 0.2773030698299408 \n"
     ]
    },
    {
     "name": "stderr",
     "output_type": "stream",
     "text": [
      "100%|████████████████████████████████████████████████████████████████████| 220/220 [02:40<00:00,  1.37it/s, loss=0.415]\n"
     ]
    },
    {
     "name": "stdout",
     "output_type": "stream",
     "text": [
      "Training set: epoch-21 got 152920091/172480000 with acc 88.66%, F1-score 0.71 and loss 0.270473837852478 \n"
     ]
    },
    {
     "name": "stderr",
     "output_type": "stream",
     "text": [
      "100%|████████████████████████████████████████████████████████████████████| 220/220 [02:40<00:00,  1.37it/s, loss=0.431]\n"
     ]
    },
    {
     "name": "stdout",
     "output_type": "stream",
     "text": [
      "Training set: epoch-22 got 153180141/172480000 with acc 88.81%, F1-score 0.71 and loss 0.2672571837902069 \n"
     ]
    },
    {
     "name": "stderr",
     "output_type": "stream",
     "text": [
      "100%|████████████████████████████████████████████████████████████████████| 220/220 [02:41<00:00,  1.37it/s, loss=0.387]\n"
     ]
    },
    {
     "name": "stdout",
     "output_type": "stream",
     "text": [
      "Training set: epoch-23 got 153556378/172480000 with acc 89.03%, F1-score 0.72 and loss 0.261996328830719 \n"
     ]
    },
    {
     "name": "stderr",
     "output_type": "stream",
     "text": [
      "100%|████████████████████████████████████████████████████████████████████| 220/220 [02:40<00:00,  1.37it/s, loss=0.374]\n"
     ]
    },
    {
     "name": "stdout",
     "output_type": "stream",
     "text": [
      "Training set: epoch-24 got 154009643/172480000 with acc 89.29%, F1-score 0.72 and loss 0.2563779056072235 \n"
     ]
    },
    {
     "name": "stderr",
     "output_type": "stream",
     "text": [
      "100%|████████████████████████████████████████████████████████████████████| 220/220 [02:40<00:00,  1.37it/s, loss=0.387]\n"
     ]
    },
    {
     "name": "stdout",
     "output_type": "stream",
     "text": [
      "Training set: epoch-25 got 154306294/172480000 with acc 89.46%, F1-score 0.73 and loss 0.25234439969062805 \n"
     ]
    },
    {
     "name": "stderr",
     "output_type": "stream",
     "text": [
      "100%|████████████████████████████████████████████████████████████████████| 220/220 [02:40<00:00,  1.37it/s, loss=0.383]\n"
     ]
    },
    {
     "name": "stdout",
     "output_type": "stream",
     "text": [
      "Training set: epoch-26 got 154804738/172480000 with acc 89.75%, F1-score 0.74 and loss 0.24561257660388947 \n"
     ]
    },
    {
     "name": "stderr",
     "output_type": "stream",
     "text": [
      "100%|█████████████████████████████████████████████████████████████████████| 220/220 [02:40<00:00,  1.37it/s, loss=0.41]\n"
     ]
    },
    {
     "name": "stdout",
     "output_type": "stream",
     "text": [
      "Training set: epoch-27 got 154875475/172480000 with acc 89.79%, F1-score 0.74 and loss 0.24451708793640137 \n"
     ]
    },
    {
     "name": "stderr",
     "output_type": "stream",
     "text": [
      "100%|████████████████████████████████████████████████████████████████████| 220/220 [02:40<00:00,  1.37it/s, loss=0.372]\n"
     ]
    },
    {
     "name": "stdout",
     "output_type": "stream",
     "text": [
      "Training set: epoch-28 got 155279826/172480000 with acc 90.03%, F1-score 0.75 and loss 0.2399280071258545 \n"
     ]
    },
    {
     "name": "stderr",
     "output_type": "stream",
     "text": [
      "100%|█████████████████████████████████████████████████████████████████████| 220/220 [02:41<00:00,  1.37it/s, loss=0.37]\n"
     ]
    },
    {
     "name": "stdout",
     "output_type": "stream",
     "text": [
      "Training set: epoch-29 got 155614506/172480000 with acc 90.22%, F1-score 0.75 and loss 0.23464851081371307 \n"
     ]
    },
    {
     "name": "stderr",
     "output_type": "stream",
     "text": [
      "100%|████████████████████████████████████████████████████████████████████| 220/220 [02:41<00:00,  1.37it/s, loss=0.367]\n"
     ]
    },
    {
     "name": "stdout",
     "output_type": "stream",
     "text": [
      "Training set: epoch-30 got 155798057/172480000 with acc 90.33%, F1-score 0.75 and loss 0.2321932166814804 \n"
     ]
    },
    {
     "name": "stderr",
     "output_type": "stream",
     "text": [
      "100%|████████████████████████████████████████████████████████████████████| 220/220 [02:41<00:00,  1.37it/s, loss=0.339]\n"
     ]
    },
    {
     "name": "stdout",
     "output_type": "stream",
     "text": [
      "Training set: epoch-31 got 156230861/172480000 with acc 90.58%, F1-score 0.76 and loss 0.22742584347724915 \n"
     ]
    },
    {
     "name": "stderr",
     "output_type": "stream",
     "text": [
      "100%|████████████████████████████████████████████████████████████████████| 220/220 [02:40<00:00,  1.37it/s, loss=0.339]\n"
     ]
    },
    {
     "name": "stdout",
     "output_type": "stream",
     "text": [
      "Training set: epoch-32 got 156217417/172480000 with acc 90.57%, F1-score 0.76 and loss 0.227207750082016 \n"
     ]
    },
    {
     "name": "stderr",
     "output_type": "stream",
     "text": [
      "100%|████████████████████████████████████████████████████████████████████| 220/220 [02:41<00:00,  1.37it/s, loss=0.328]\n"
     ]
    },
    {
     "name": "stdout",
     "output_type": "stream",
     "text": [
      "Training set: epoch-33 got 156631215/172480000 with acc 90.81%, F1-score 0.77 and loss 0.22174200415611267 \n"
     ]
    },
    {
     "name": "stderr",
     "output_type": "stream",
     "text": [
      "100%|████████████████████████████████████████████████████████████████████| 220/220 [02:40<00:00,  1.37it/s, loss=0.322]\n"
     ]
    },
    {
     "name": "stdout",
     "output_type": "stream",
     "text": [
      "Training set: epoch-34 got 157137682/172480000 with acc 91.10%, F1-score 0.78 and loss 0.21607860922813416 \n"
     ]
    },
    {
     "name": "stderr",
     "output_type": "stream",
     "text": [
      "100%|████████████████████████████████████████████████████████████████████| 220/220 [02:41<00:00,  1.37it/s, loss=0.318]\n"
     ]
    },
    {
     "name": "stdout",
     "output_type": "stream",
     "text": [
      "Training set: epoch-35 got 157404890/172480000 with acc 91.26%, F1-score 0.78 and loss 0.21216027438640594 \n"
     ]
    },
    {
     "name": "stderr",
     "output_type": "stream",
     "text": [
      "100%|████████████████████████████████████████████████████████████████████| 220/220 [02:41<00:00,  1.37it/s, loss=0.309]\n"
     ]
    },
    {
     "name": "stdout",
     "output_type": "stream",
     "text": [
      "Training set: epoch-36 got 157637144/172480000 with acc 91.39%, F1-score 0.78 and loss 0.2085716426372528 \n"
     ]
    },
    {
     "name": "stderr",
     "output_type": "stream",
     "text": [
      "100%|██████████████████████████████████████████████████████████████████████| 220/220 [02:41<00:00,  1.37it/s, loss=0.3]\n"
     ]
    },
    {
     "name": "stdout",
     "output_type": "stream",
     "text": [
      "Training set: epoch-37 got 157904453/172480000 with acc 91.55%, F1-score 0.79 and loss 0.20561102032661438 \n"
     ]
    },
    {
     "name": "stderr",
     "output_type": "stream",
     "text": [
      "100%|████████████████████████████████████████████████████████████████████| 220/220 [02:41<00:00,  1.36it/s, loss=0.292]\n"
     ]
    },
    {
     "name": "stdout",
     "output_type": "stream",
     "text": [
      "Training set: epoch-38 got 158135122/172480000 with acc 91.68%, F1-score 0.79 and loss 0.20248132944107056 \n"
     ]
    },
    {
     "name": "stderr",
     "output_type": "stream",
     "text": [
      "100%|████████████████████████████████████████████████████████████████████| 220/220 [02:41<00:00,  1.37it/s, loss=0.291]\n"
     ]
    },
    {
     "name": "stdout",
     "output_type": "stream",
     "text": [
      "Training set: epoch-39 got 158231554/172480000 with acc 91.74%, F1-score 0.79 and loss 0.2013201266527176 \n"
     ]
    },
    {
     "name": "stderr",
     "output_type": "stream",
     "text": [
      "100%|█████████████████████████████████████████████████████████████████████| 220/220 [02:40<00:00,  1.37it/s, loss=0.28]\n"
     ]
    },
    {
     "name": "stdout",
     "output_type": "stream",
     "text": [
      "Training set: epoch-40 got 158459788/172480000 with acc 91.87%, F1-score 0.80 and loss 0.1983097642660141 \n"
     ]
    },
    {
     "name": "stderr",
     "output_type": "stream",
     "text": [
      "100%|█████████████████████████████████████████████████████████████████████| 220/220 [02:40<00:00,  1.37it/s, loss=0.28]\n"
     ]
    },
    {
     "name": "stdout",
     "output_type": "stream",
     "text": [
      "Training set: epoch-41 got 158749802/172480000 with acc 92.04%, F1-score 0.80 and loss 0.19447465240955353 \n"
     ]
    },
    {
     "name": "stderr",
     "output_type": "stream",
     "text": [
      "100%|████████████████████████████████████████████████████████████████████| 220/220 [02:41<00:00,  1.37it/s, loss=0.276]\n"
     ]
    },
    {
     "name": "stdout",
     "output_type": "stream",
     "text": [
      "Training set: epoch-42 got 159044705/172480000 with acc 92.21%, F1-score 0.81 and loss 0.19095897674560547 \n"
     ]
    },
    {
     "name": "stderr",
     "output_type": "stream",
     "text": [
      "100%|████████████████████████████████████████████████████████████████████| 220/220 [02:40<00:00,  1.37it/s, loss=0.276]\n"
     ]
    },
    {
     "name": "stdout",
     "output_type": "stream",
     "text": [
      "Training set: epoch-43 got 159403637/172480000 with acc 92.42%, F1-score 0.81 and loss 0.1859975904226303 \n"
     ]
    },
    {
     "name": "stderr",
     "output_type": "stream",
     "text": [
      "100%|████████████████████████████████████████████████████████████████████| 220/220 [02:40<00:00,  1.37it/s, loss=0.261]\n"
     ]
    },
    {
     "name": "stdout",
     "output_type": "stream",
     "text": [
      "Training set: epoch-44 got 159571963/172480000 with acc 92.52%, F1-score 0.81 and loss 0.18327777087688446 \n"
     ]
    },
    {
     "name": "stderr",
     "output_type": "stream",
     "text": [
      "100%|████████████████████████████████████████████████████████████████████| 220/220 [02:41<00:00,  1.37it/s, loss=0.263]\n"
     ]
    },
    {
     "name": "stdout",
     "output_type": "stream",
     "text": [
      "Training set: epoch-45 got 159649246/172480000 with acc 92.56%, F1-score 0.82 and loss 0.18281784653663635 \n"
     ]
    },
    {
     "name": "stderr",
     "output_type": "stream",
     "text": [
      "100%|████████████████████████████████████████████████████████████████████| 220/220 [02:41<00:00,  1.36it/s, loss=0.255]\n"
     ]
    },
    {
     "name": "stdout",
     "output_type": "stream",
     "text": [
      "Training set: epoch-46 got 159955598/172480000 with acc 92.74%, F1-score 0.82 and loss 0.17880696058273315 \n"
     ]
    },
    {
     "name": "stderr",
     "output_type": "stream",
     "text": [
      "100%|████████████████████████████████████████████████████████████████████| 220/220 [02:41<00:00,  1.37it/s, loss=0.249]\n"
     ]
    },
    {
     "name": "stdout",
     "output_type": "stream",
     "text": [
      "Training set: epoch-47 got 160129898/172480000 with acc 92.84%, F1-score 0.82 and loss 0.17648455500602722 \n"
     ]
    },
    {
     "name": "stderr",
     "output_type": "stream",
     "text": [
      "100%|████████████████████████████████████████████████████████████████████| 220/220 [02:41<00:00,  1.37it/s, loss=0.235]\n"
     ]
    },
    {
     "name": "stdout",
     "output_type": "stream",
     "text": [
      "Training set: epoch-48 got 160363106/172480000 with acc 92.97%, F1-score 0.83 and loss 0.17292332649230957 \n"
     ]
    },
    {
     "name": "stderr",
     "output_type": "stream",
     "text": [
      "100%|████████████████████████████████████████████████████████████████████| 220/220 [02:40<00:00,  1.37it/s, loss=0.234]\n"
     ]
    },
    {
     "name": "stdout",
     "output_type": "stream",
     "text": [
      "Training set: epoch-49 got 160501941/172480000 with acc 93.06%, F1-score 0.83 and loss 0.170634925365448 \n"
     ]
    },
    {
     "name": "stderr",
     "output_type": "stream",
     "text": [
      "100%|█████████████████████████████████████████████████████████████████████| 220/220 [02:41<00:00,  1.36it/s, loss=0.22]\n"
     ]
    },
    {
     "name": "stdout",
     "output_type": "stream",
     "text": [
      "Training set: epoch-50 got 160978978/172480000 with acc 93.33%, F1-score 0.84 and loss 0.16438913345336914 \n"
     ]
    },
    {
     "name": "stderr",
     "output_type": "stream",
     "text": [
      "100%|████████████████████████████████████████████████████████████████████| 220/220 [02:41<00:00,  1.36it/s, loss=0.214]\n"
     ]
    },
    {
     "name": "stdout",
     "output_type": "stream",
     "text": [
      "Training set: epoch-51 got 161235107/172480000 with acc 93.48%, F1-score 0.84 and loss 0.16068962216377258 \n"
     ]
    },
    {
     "name": "stderr",
     "output_type": "stream",
     "text": [
      "100%|████████████████████████████████████████████████████████████████████| 220/220 [02:41<00:00,  1.37it/s, loss=0.214]\n"
     ]
    },
    {
     "name": "stdout",
     "output_type": "stream",
     "text": [
      "Training set: epoch-52 got 161408904/172480000 with acc 93.58%, F1-score 0.84 and loss 0.15826046466827393 \n"
     ]
    },
    {
     "name": "stderr",
     "output_type": "stream",
     "text": [
      "100%|████████████████████████████████████████████████████████████████████| 220/220 [02:41<00:00,  1.37it/s, loss=0.233]\n"
     ]
    },
    {
     "name": "stdout",
     "output_type": "stream",
     "text": [
      "Training set: epoch-53 got 161066787/172480000 with acc 93.38%, F1-score 0.84 and loss 0.16313408315181732 \n"
     ]
    },
    {
     "name": "stderr",
     "output_type": "stream",
     "text": [
      "100%|████████████████████████████████████████████████████████████████████| 220/220 [02:40<00:00,  1.37it/s, loss=0.213]\n"
     ]
    },
    {
     "name": "stdout",
     "output_type": "stream",
     "text": [
      "Training set: epoch-54 got 161768296/172480000 with acc 93.79%, F1-score 0.85 and loss 0.1544990986585617 \n"
     ]
    },
    {
     "name": "stderr",
     "output_type": "stream",
     "text": [
      "100%|█████████████████████████████████████████████████████████████████████| 220/220 [02:41<00:00,  1.37it/s, loss=0.23]\n"
     ]
    },
    {
     "name": "stdout",
     "output_type": "stream",
     "text": [
      "Training set: epoch-55 got 161842408/172480000 with acc 93.83%, F1-score 0.85 and loss 0.15338675677776337 \n"
     ]
    },
    {
     "name": "stderr",
     "output_type": "stream",
     "text": [
      "100%|████████████████████████████████████████████████████████████████████| 220/220 [02:41<00:00,  1.37it/s, loss=0.223]\n"
     ]
    },
    {
     "name": "stdout",
     "output_type": "stream",
     "text": [
      "Training set: epoch-56 got 161757664/172480000 with acc 93.78%, F1-score 0.85 and loss 0.15507565438747406 \n"
     ]
    },
    {
     "name": "stderr",
     "output_type": "stream",
     "text": [
      "100%|████████████████████████████████████████████████████████████████████| 220/220 [02:41<00:00,  1.37it/s, loss=0.212]\n"
     ]
    },
    {
     "name": "stdout",
     "output_type": "stream",
     "text": [
      "Training set: epoch-57 got 162371912/172480000 with acc 94.14%, F1-score 0.86 and loss 0.14515796303749084 \n"
     ]
    },
    {
     "name": "stderr",
     "output_type": "stream",
     "text": [
      "100%|████████████████████████████████████████████████████████████████████| 220/220 [02:41<00:00,  1.37it/s, loss=0.239]\n"
     ]
    },
    {
     "name": "stdout",
     "output_type": "stream",
     "text": [
      "Training set: epoch-58 got 161782525/172480000 with acc 93.80%, F1-score 0.85 and loss 0.15445967018604279 \n"
     ]
    },
    {
     "name": "stderr",
     "output_type": "stream",
     "text": [
      "100%|█████████████████████████████████████████████████████████████████████| 220/220 [02:41<00:00,  1.37it/s, loss=0.21]\n"
     ]
    },
    {
     "name": "stdout",
     "output_type": "stream",
     "text": [
      "Training set: epoch-59 got 161285284/172480000 with acc 93.51%, F1-score 0.84 and loss 0.16045241057872772 \n"
     ]
    },
    {
     "name": "stderr",
     "output_type": "stream",
     "text": [
      "100%|████████████████████████████████████████████████████████████████████| 220/220 [02:40<00:00,  1.37it/s, loss=0.201]\n"
     ]
    },
    {
     "name": "stdout",
     "output_type": "stream",
     "text": [
      "Training set: epoch-60 got 162261961/172480000 with acc 94.08%, F1-score 0.86 and loss 0.1474679857492447 \n",
      "Epoch 00060: reducing learning rate of group 0 to 1.5811e-04.\n"
     ]
    },
    {
     "name": "stderr",
     "output_type": "stream",
     "text": [
      "100%|████████████████████████████████████████████████████████████████████| 220/220 [02:41<00:00,  1.37it/s, loss=0.209]\n"
     ]
    },
    {
     "name": "stdout",
     "output_type": "stream",
     "text": [
      "Training set: epoch-61 got 162711253/172480000 with acc 94.34%, F1-score 0.86 and loss 0.14183057844638824 \n"
     ]
    },
    {
     "name": "stderr",
     "output_type": "stream",
     "text": [
      "100%|████████████████████████████████████████████████████████████████████| 220/220 [02:41<00:00,  1.37it/s, loss=0.197]\n"
     ]
    },
    {
     "name": "stdout",
     "output_type": "stream",
     "text": [
      "Training set: epoch-62 got 163373933/172480000 with acc 94.72%, F1-score 0.87 and loss 0.13319334387779236 \n"
     ]
    },
    {
     "name": "stderr",
     "output_type": "stream",
     "text": [
      "100%|████████████████████████████████████████████████████████████████████| 220/220 [02:40<00:00,  1.37it/s, loss=0.189]\n"
     ]
    },
    {
     "name": "stdout",
     "output_type": "stream",
     "text": [
      "Training set: epoch-63 got 163783259/172480000 with acc 94.96%, F1-score 0.88 and loss 0.12718163430690765 \n"
     ]
    },
    {
     "name": "stderr",
     "output_type": "stream",
     "text": [
      "100%|████████████████████████████████████████████████████████████████████| 220/220 [02:40<00:00,  1.37it/s, loss=0.182]\n"
     ]
    },
    {
     "name": "stdout",
     "output_type": "stream",
     "text": [
      "Training set: epoch-64 got 164083744/172480000 with acc 95.13%, F1-score 0.88 and loss 0.12287323921918869 \n"
     ]
    },
    {
     "name": "stderr",
     "output_type": "stream",
     "text": [
      "100%|████████████████████████████████████████████████████████████████████| 220/220 [02:41<00:00,  1.37it/s, loss=0.176]\n"
     ]
    },
    {
     "name": "stdout",
     "output_type": "stream",
     "text": [
      "Training set: epoch-65 got 164333145/172480000 with acc 95.28%, F1-score 0.89 and loss 0.11916572600603104 \n"
     ]
    },
    {
     "name": "stderr",
     "output_type": "stream",
     "text": [
      "100%|█████████████████████████████████████████████████████████████████████| 220/220 [02:41<00:00,  1.37it/s, loss=0.17]\n"
     ]
    },
    {
     "name": "stdout",
     "output_type": "stream",
     "text": [
      "Training set: epoch-66 got 164565907/172480000 with acc 95.41%, F1-score 0.89 and loss 0.11568493396043777 \n"
     ]
    },
    {
     "name": "stderr",
     "output_type": "stream",
     "text": [
      "100%|████████████████████████████████████████████████████████████████████| 220/220 [02:40<00:00,  1.37it/s, loss=0.165]\n"
     ]
    },
    {
     "name": "stdout",
     "output_type": "stream",
     "text": [
      "Training set: epoch-67 got 164788248/172480000 with acc 95.54%, F1-score 0.89 and loss 0.1123814731836319 \n"
     ]
    },
    {
     "name": "stderr",
     "output_type": "stream",
     "text": [
      "100%|████████████████████████████████████████████████████████████████████| 220/220 [02:41<00:00,  1.37it/s, loss=0.159]\n"
     ]
    },
    {
     "name": "stdout",
     "output_type": "stream",
     "text": [
      "Training set: epoch-68 got 165003314/172480000 with acc 95.67%, F1-score 0.89 and loss 0.10922396928071976 \n"
     ]
    },
    {
     "name": "stderr",
     "output_type": "stream",
     "text": [
      "100%|████████████████████████████████████████████████████████████████████| 220/220 [02:41<00:00,  1.36it/s, loss=0.153]\n"
     ]
    },
    {
     "name": "stdout",
     "output_type": "stream",
     "text": [
      "Training set: epoch-69 got 165211916/172480000 with acc 95.79%, F1-score 0.90 and loss 0.10615188628435135 \n"
     ]
    },
    {
     "name": "stderr",
     "output_type": "stream",
     "text": [
      "100%|████████████████████████████████████████████████████████████████████| 220/220 [02:40<00:00,  1.37it/s, loss=0.148]\n"
     ]
    },
    {
     "name": "stdout",
     "output_type": "stream",
     "text": [
      "Training set: epoch-70 got 165416514/172480000 with acc 95.90%, F1-score 0.90 and loss 0.10312368720769882 \n"
     ]
    },
    {
     "name": "stderr",
     "output_type": "stream",
     "text": [
      "100%|████████████████████████████████████████████████████████████████████| 220/220 [02:41<00:00,  1.36it/s, loss=0.142]\n"
     ]
    },
    {
     "name": "stdout",
     "output_type": "stream",
     "text": [
      "Training set: epoch-71 got 165617602/172480000 with acc 96.02%, F1-score 0.90 and loss 0.10016994923353195 \n"
     ]
    },
    {
     "name": "stderr",
     "output_type": "stream",
     "text": [
      "100%|████████████████████████████████████████████████████████████████████| 220/220 [02:41<00:00,  1.36it/s, loss=0.136]\n"
     ]
    },
    {
     "name": "stdout",
     "output_type": "stream",
     "text": [
      "Training set: epoch-72 got 165811280/172480000 with acc 96.13%, F1-score 0.91 and loss 0.09727796167135239 \n"
     ]
    },
    {
     "name": "stderr",
     "output_type": "stream",
     "text": [
      "100%|████████████████████████████████████████████████████████████████████| 220/220 [02:41<00:00,  1.37it/s, loss=0.131]\n"
     ]
    },
    {
     "name": "stdout",
     "output_type": "stream",
     "text": [
      "Training set: epoch-73 got 165999153/172480000 with acc 96.24%, F1-score 0.91 and loss 0.09443637728691101 \n"
     ]
    },
    {
     "name": "stderr",
     "output_type": "stream",
     "text": [
      "100%|████████████████████████████████████████████████████████████████████| 220/220 [02:41<00:00,  1.37it/s, loss=0.125]\n"
     ]
    },
    {
     "name": "stdout",
     "output_type": "stream",
     "text": [
      "Training set: epoch-74 got 166183668/172480000 with acc 96.35%, F1-score 0.91 and loss 0.09166809916496277 \n"
     ]
    },
    {
     "name": "stderr",
     "output_type": "stream",
     "text": [
      "100%|█████████████████████████████████████████████████████████████████████| 220/220 [02:41<00:00,  1.36it/s, loss=0.12]\n"
     ]
    },
    {
     "name": "stdout",
     "output_type": "stream",
     "text": [
      "Training set: epoch-75 got 166362745/172480000 with acc 96.45%, F1-score 0.91 and loss 0.08895011991262436 \n"
     ]
    },
    {
     "name": "stderr",
     "output_type": "stream",
     "text": [
      "100%|████████████████████████████████████████████████████████████████████| 220/220 [02:41<00:00,  1.36it/s, loss=0.114]\n"
     ]
    },
    {
     "name": "stdout",
     "output_type": "stream",
     "text": [
      "Training set: epoch-76 got 166539417/172480000 with acc 96.56%, F1-score 0.92 and loss 0.08627834171056747 \n"
     ]
    },
    {
     "name": "stderr",
     "output_type": "stream",
     "text": [
      "100%|█████████████████████████████████████████████████████████████████████| 220/220 [02:40<00:00,  1.37it/s, loss=0.11]\n"
     ]
    },
    {
     "name": "stdout",
     "output_type": "stream",
     "text": [
      "Training set: epoch-77 got 166712366/172480000 with acc 96.66%, F1-score 0.92 and loss 0.08362152427434921 \n"
     ]
    },
    {
     "name": "stderr",
     "output_type": "stream",
     "text": [
      "100%|████████████████████████████████████████████████████████████████████| 220/220 [02:40<00:00,  1.37it/s, loss=0.104]\n"
     ]
    },
    {
     "name": "stdout",
     "output_type": "stream",
     "text": [
      "Training set: epoch-78 got 166888167/172480000 with acc 96.76%, F1-score 0.92 and loss 0.0809427872300148 \n"
     ]
    },
    {
     "name": "stderr",
     "output_type": "stream",
     "text": [
      "100%|██████████████████████████████████████████████████████████████████████| 220/220 [02:40<00:00,  1.37it/s, loss=0.1]\n"
     ]
    },
    {
     "name": "stdout",
     "output_type": "stream",
     "text": [
      "Training set: epoch-79 got 167034353/172480000 with acc 96.84%, F1-score 0.92 and loss 0.07864775508642197 \n"
     ]
    },
    {
     "name": "stderr",
     "output_type": "stream",
     "text": [
      "100%|███████████████████████████████████████████████████████████████████| 220/220 [02:40<00:00,  1.37it/s, loss=0.0986]\n"
     ]
    },
    {
     "name": "stdout",
     "output_type": "stream",
     "text": [
      "Training set: epoch-80 got 167144795/172480000 with acc 96.91%, F1-score 0.93 and loss 0.07688993215560913 \n"
     ]
    },
    {
     "name": "stderr",
     "output_type": "stream",
     "text": [
      "100%|███████████████████████████████████████████████████████████████████| 220/220 [02:40<00:00,  1.37it/s, loss=0.0951]\n"
     ]
    },
    {
     "name": "stdout",
     "output_type": "stream",
     "text": [
      "Training set: epoch-81 got 167215266/172480000 with acc 96.95%, F1-score 0.93 and loss 0.07556845992803574 \n"
     ]
    },
    {
     "name": "stderr",
     "output_type": "stream",
     "text": [
      "100%|███████████████████████████████████████████████████████████████████| 220/220 [02:41<00:00,  1.37it/s, loss=0.0952]\n"
     ]
    },
    {
     "name": "stdout",
     "output_type": "stream",
     "text": [
      "Training set: epoch-82 got 167301830/172480000 with acc 97.00%, F1-score 0.93 and loss 0.0741555392742157 \n"
     ]
    },
    {
     "name": "stderr",
     "output_type": "stream",
     "text": [
      "100%|███████████████████████████████████████████████████████████████████| 220/220 [02:42<00:00,  1.36it/s, loss=0.0925]\n"
     ]
    },
    {
     "name": "stdout",
     "output_type": "stream",
     "text": [
      "Training set: epoch-83 got 167401849/172480000 with acc 97.06%, F1-score 0.93 and loss 0.07249332219362259 \n"
     ]
    },
    {
     "name": "stderr",
     "output_type": "stream",
     "text": [
      "100%|████████████████████████████████████████████████████████████████████| 220/220 [02:41<00:00,  1.36it/s, loss=0.093]\n"
     ]
    },
    {
     "name": "stdout",
     "output_type": "stream",
     "text": [
      "Training set: epoch-84 got 167541800/172480000 with acc 97.14%, F1-score 0.93 and loss 0.07050210982561111 \n"
     ]
    },
    {
     "name": "stderr",
     "output_type": "stream",
     "text": [
      "100%|███████████████████████████████████████████████████████████████████| 220/220 [02:41<00:00,  1.36it/s, loss=0.0895]\n"
     ]
    },
    {
     "name": "stdout",
     "output_type": "stream",
     "text": [
      "Training set: epoch-85 got 167329116/172480000 with acc 97.01%, F1-score 0.93 and loss 0.07333506643772125 \n"
     ]
    },
    {
     "name": "stderr",
     "output_type": "stream",
     "text": [
      "100%|███████████████████████████████████████████████████████████████████| 220/220 [02:41<00:00,  1.36it/s, loss=0.0921]\n"
     ]
    },
    {
     "name": "stdout",
     "output_type": "stream",
     "text": [
      "Training set: epoch-86 got 167386943/172480000 with acc 97.05%, F1-score 0.93 and loss 0.07257146388292313 \n"
     ]
    },
    {
     "name": "stderr",
     "output_type": "stream",
     "text": [
      "100%|███████████████████████████████████████████████████████████████████| 220/220 [02:41<00:00,  1.36it/s, loss=0.0852]\n"
     ]
    },
    {
     "name": "stdout",
     "output_type": "stream",
     "text": [
      "Training set: epoch-87 got 167719956/172480000 with acc 97.24%, F1-score 0.93 and loss 0.06766684353351593 \n"
     ]
    },
    {
     "name": "stderr",
     "output_type": "stream",
     "text": [
      "100%|███████████████████████████████████████████████████████████████████| 220/220 [02:41<00:00,  1.36it/s, loss=0.0819]\n"
     ]
    },
    {
     "name": "stdout",
     "output_type": "stream",
     "text": [
      "Training set: epoch-88 got 167912929/172480000 with acc 97.35%, F1-score 0.94 and loss 0.06488962471485138 \n"
     ]
    },
    {
     "name": "stderr",
     "output_type": "stream",
     "text": [
      "100%|███████████████████████████████████████████████████████████████████| 220/220 [02:41<00:00,  1.36it/s, loss=0.0818]\n"
     ]
    },
    {
     "name": "stdout",
     "output_type": "stream",
     "text": [
      "Training set: epoch-89 got 167949909/172480000 with acc 97.37%, F1-score 0.94 and loss 0.06427744030952454 \n"
     ]
    },
    {
     "name": "stderr",
     "output_type": "stream",
     "text": [
      "100%|███████████████████████████████████████████████████████████████████| 220/220 [02:41<00:00,  1.36it/s, loss=0.0783]\n"
     ]
    },
    {
     "name": "stdout",
     "output_type": "stream",
     "text": [
      "Training set: epoch-90 got 168131610/172480000 with acc 97.48%, F1-score 0.94 and loss 0.061699435114860535 \n"
     ]
    },
    {
     "name": "stderr",
     "output_type": "stream",
     "text": [
      "100%|███████████████████████████████████████████████████████████████████| 220/220 [02:41<00:00,  1.36it/s, loss=0.0783]\n"
     ]
    },
    {
     "name": "stdout",
     "output_type": "stream",
     "text": [
      "Training set: epoch-91 got 168187115/172480000 with acc 97.51%, F1-score 0.94 and loss 0.060711588710546494 \n"
     ]
    },
    {
     "name": "stderr",
     "output_type": "stream",
     "text": [
      "100%|████████████████████████████████████████████████████████████████████| 220/220 [02:41<00:00,  1.36it/s, loss=0.078]\n"
     ]
    },
    {
     "name": "stdout",
     "output_type": "stream",
     "text": [
      "Training set: epoch-92 got 168191036/172480000 with acc 97.51%, F1-score 0.94 and loss 0.06058498099446297 \n"
     ]
    },
    {
     "name": "stderr",
     "output_type": "stream",
     "text": [
      "100%|███████████████████████████████████████████████████████████████████| 220/220 [02:41<00:00,  1.37it/s, loss=0.0749]\n"
     ]
    },
    {
     "name": "stdout",
     "output_type": "stream",
     "text": [
      "Training set: epoch-93 got 168198968/172480000 with acc 97.52%, F1-score 0.94 and loss 0.06050960719585419 \n"
     ]
    },
    {
     "name": "stderr",
     "output_type": "stream",
     "text": [
      "100%|████████████████████████████████████████████████████████████████████| 220/220 [02:41<00:00,  1.37it/s, loss=0.079]\n"
     ]
    },
    {
     "name": "stdout",
     "output_type": "stream",
     "text": [
      "Training set: epoch-94 got 167894135/172480000 with acc 97.34%, F1-score 0.94 and loss 0.06471482664346695 \n"
     ]
    },
    {
     "name": "stderr",
     "output_type": "stream",
     "text": [
      "100%|███████████████████████████████████████████████████████████████████| 220/220 [02:41<00:00,  1.36it/s, loss=0.0739]\n"
     ]
    },
    {
     "name": "stdout",
     "output_type": "stream",
     "text": [
      "Training set: epoch-95 got 168233618/172480000 with acc 97.54%, F1-score 0.94 and loss 0.05996912717819214 \n"
     ]
    },
    {
     "name": "stderr",
     "output_type": "stream",
     "text": [
      "100%|███████████████████████████████████████████████████████████████████| 220/220 [02:41<00:00,  1.36it/s, loss=0.0765]\n"
     ]
    },
    {
     "name": "stdout",
     "output_type": "stream",
     "text": [
      "Training set: epoch-96 got 168453243/172480000 with acc 97.67%, F1-score 0.94 and loss 0.05693488195538521 \n"
     ]
    },
    {
     "name": "stderr",
     "output_type": "stream",
     "text": [
      "100%|███████████████████████████████████████████████████████████████████| 220/220 [02:41<00:00,  1.36it/s, loss=0.0754]\n"
     ]
    },
    {
     "name": "stdout",
     "output_type": "stream",
     "text": [
      "Training set: epoch-97 got 168385136/172480000 with acc 97.63%, F1-score 0.94 and loss 0.05771535262465477 \n"
     ]
    },
    {
     "name": "stderr",
     "output_type": "stream",
     "text": [
      "100%|███████████████████████████████████████████████████████████████████| 220/220 [02:41<00:00,  1.36it/s, loss=0.0676]\n"
     ]
    },
    {
     "name": "stdout",
     "output_type": "stream",
     "text": [
      "Training set: epoch-98 got 168622133/172480000 with acc 97.76%, F1-score 0.95 and loss 0.054479021579027176 \n"
     ]
    },
    {
     "name": "stderr",
     "output_type": "stream",
     "text": [
      "100%|███████████████████████████████████████████████████████████████████| 220/220 [02:41<00:00,  1.36it/s, loss=0.0646]\n"
     ]
    },
    {
     "name": "stdout",
     "output_type": "stream",
     "text": [
      "Training set: epoch-99 got 168782065/172480000 with acc 97.86%, F1-score 0.95 and loss 0.052213672548532486 \n"
     ]
    },
    {
     "name": "stderr",
     "output_type": "stream",
     "text": [
      "100%|███████████████████████████████████████████████████████████████████| 220/220 [02:41<00:00,  1.36it/s, loss=0.0648]\n"
     ]
    },
    {
     "name": "stdout",
     "output_type": "stream",
     "text": [
      "Training set: epoch-100 got 168869846/172480000 with acc 97.91%, F1-score 0.95 and loss 0.05088606849312782 \n"
     ]
    },
    {
     "name": "stderr",
     "output_type": "stream",
     "text": [
      "100%|███████████████████████████████████████████████████████████████████| 220/220 [02:41<00:00,  1.36it/s, loss=0.0699]\n"
     ]
    },
    {
     "name": "stdout",
     "output_type": "stream",
     "text": [
      "Training set: epoch-101 got 168561276/172480000 with acc 97.73%, F1-score 0.95 and loss 0.05511864647269249 \n"
     ]
    },
    {
     "name": "stderr",
     "output_type": "stream",
     "text": [
      "100%|███████████████████████████████████████████████████████████████████| 220/220 [02:41<00:00,  1.36it/s, loss=0.0722]\n"
     ]
    },
    {
     "name": "stdout",
     "output_type": "stream",
     "text": [
      "Training set: epoch-102 got 168365781/172480000 with acc 97.61%, F1-score 0.94 and loss 0.05775044858455658 \n"
     ]
    },
    {
     "name": "stderr",
     "output_type": "stream",
     "text": [
      "100%|███████████████████████████████████████████████████████████████████| 220/220 [02:41<00:00,  1.36it/s, loss=0.0675]\n"
     ]
    },
    {
     "name": "stdout",
     "output_type": "stream",
     "text": [
      "Training set: epoch-103 got 168416313/172480000 with acc 97.64%, F1-score 0.94 and loss 0.05710865184664726 \n",
      "Epoch 00103: reducing learning rate of group 0 to 5.0000e-05.\n"
     ]
    },
    {
     "name": "stderr",
     "output_type": "stream",
     "text": [
      "100%|███████████████████████████████████████████████████████████████████| 220/220 [02:41<00:00,  1.36it/s, loss=0.0842]\n"
     ]
    },
    {
     "name": "stdout",
     "output_type": "stream",
     "text": [
      "Training set: epoch-104 got 168155335/172480000 with acc 97.49%, F1-score 0.94 and loss 0.06034548208117485 \n"
     ]
    },
    {
     "name": "stderr",
     "output_type": "stream",
     "text": [
      "100%|████████████████████████████████████████████████████████████████████| 220/220 [02:41<00:00,  1.36it/s, loss=0.079]\n"
     ]
    },
    {
     "name": "stdout",
     "output_type": "stream",
     "text": [
      "Training set: epoch-105 got 168440430/172480000 with acc 97.66%, F1-score 0.94 and loss 0.05626174062490463 \n"
     ]
    },
    {
     "name": "stderr",
     "output_type": "stream",
     "text": [
      "100%|███████████████████████████████████████████████████████████████████| 220/220 [02:41<00:00,  1.36it/s, loss=0.0732]\n"
     ]
    },
    {
     "name": "stdout",
     "output_type": "stream",
     "text": [
      "Training set: epoch-106 got 168671668/172480000 with acc 97.79%, F1-score 0.95 and loss 0.05315195396542549 \n",
      "Epoch 00106: reducing learning rate of group 0 to 1.5811e-05.\n"
     ]
    },
    {
     "name": "stderr",
     "output_type": "stream",
     "text": [
      "100%|███████████████████████████████████████████████████████████████████| 220/220 [02:41<00:00,  1.36it/s, loss=0.0643]\n"
     ]
    },
    {
     "name": "stdout",
     "output_type": "stream",
     "text": [
      "Training set: epoch-107 got 168584523/172480000 with acc 97.74%, F1-score 0.95 and loss 0.05389906093478203 \n"
     ]
    },
    {
     "name": "stderr",
     "output_type": "stream",
     "text": [
      "100%|███████████████████████████████████████████████████████████████████| 220/220 [02:41<00:00,  1.36it/s, loss=0.0606]\n"
     ]
    },
    {
     "name": "stdout",
     "output_type": "stream",
     "text": [
      "Training set: epoch-108 got 168827137/172480000 with acc 97.88%, F1-score 0.95 and loss 0.05054348707199097 \n"
     ]
    },
    {
     "name": "stderr",
     "output_type": "stream",
     "text": [
      "100%|███████████████████████████████████████████████████████████████████| 220/220 [02:41<00:00,  1.36it/s, loss=0.0591]\n"
     ]
    },
    {
     "name": "stdout",
     "output_type": "stream",
     "text": [
      "Training set: epoch-109 got 168941130/172480000 with acc 97.95%, F1-score 0.95 and loss 0.04905413091182709 \n"
     ]
    },
    {
     "name": "stderr",
     "output_type": "stream",
     "text": [
      "100%|███████████████████████████████████████████████████████████████████| 220/220 [02:41<00:00,  1.36it/s, loss=0.0581]\n"
     ]
    },
    {
     "name": "stdout",
     "output_type": "stream",
     "text": [
      "Training set: epoch-110 got 169020980/172480000 with acc 97.99%, F1-score 0.95 and loss 0.04801560938358307 \n"
     ]
    },
    {
     "name": "stderr",
     "output_type": "stream",
     "text": [
      "100%|███████████████████████████████████████████████████████████████████| 220/220 [02:41<00:00,  1.36it/s, loss=0.0572]\n"
     ]
    },
    {
     "name": "stdout",
     "output_type": "stream",
     "text": [
      "Training set: epoch-111 got 169085018/172480000 with acc 98.03%, F1-score 0.95 and loss 0.04717094078660011 \n"
     ]
    },
    {
     "name": "stderr",
     "output_type": "stream",
     "text": [
      "100%|███████████████████████████████████████████████████████████████████| 220/220 [02:41<00:00,  1.36it/s, loss=0.0564]\n"
     ]
    },
    {
     "name": "stdout",
     "output_type": "stream",
     "text": [
      "Training set: epoch-112 got 169141007/172480000 with acc 98.06%, F1-score 0.95 and loss 0.04643284156918526 \n"
     ]
    },
    {
     "name": "stderr",
     "output_type": "stream",
     "text": [
      "100%|███████████████████████████████████████████████████████████████████| 220/220 [02:41<00:00,  1.36it/s, loss=0.0556]\n"
     ]
    },
    {
     "name": "stdout",
     "output_type": "stream",
     "text": [
      "Training set: epoch-113 got 169191845/172480000 with acc 98.09%, F1-score 0.95 and loss 0.04576292261481285 \n"
     ]
    },
    {
     "name": "stderr",
     "output_type": "stream",
     "text": [
      "100%|███████████████████████████████████████████████████████████████████| 220/220 [02:41<00:00,  1.36it/s, loss=0.0549]\n"
     ]
    },
    {
     "name": "stdout",
     "output_type": "stream",
     "text": [
      "Training set: epoch-114 got 169239774/172480000 with acc 98.12%, F1-score 0.95 and loss 0.04514066502451897 \n"
     ]
    },
    {
     "name": "stderr",
     "output_type": "stream",
     "text": [
      "100%|███████████████████████████████████████████████████████████████████| 220/220 [02:41<00:00,  1.36it/s, loss=0.0542]\n"
     ]
    },
    {
     "name": "stdout",
     "output_type": "stream",
     "text": [
      "Training set: epoch-115 got 169283503/172480000 with acc 98.15%, F1-score 0.96 and loss 0.04455336183309555 \n"
     ]
    },
    {
     "name": "stderr",
     "output_type": "stream",
     "text": [
      "100%|███████████████████████████████████████████████████████████████████| 220/220 [02:41<00:00,  1.36it/s, loss=0.0535]\n"
     ]
    },
    {
     "name": "stdout",
     "output_type": "stream",
     "text": [
      "Training set: epoch-116 got 169325733/172480000 with acc 98.17%, F1-score 0.96 and loss 0.04399534687399864 \n"
     ]
    },
    {
     "name": "stderr",
     "output_type": "stream",
     "text": [
      "100%|███████████████████████████████████████████████████████████████████| 220/220 [02:41<00:00,  1.36it/s, loss=0.0529]\n"
     ]
    },
    {
     "name": "stdout",
     "output_type": "stream",
     "text": [
      "Training set: epoch-117 got 169365874/172480000 with acc 98.19%, F1-score 0.96 and loss 0.04346040263772011 \n"
     ]
    },
    {
     "name": "stderr",
     "output_type": "stream",
     "text": [
      "100%|███████████████████████████████████████████████████████████████████| 220/220 [02:41<00:00,  1.36it/s, loss=0.0522]\n"
     ]
    },
    {
     "name": "stdout",
     "output_type": "stream",
     "text": [
      "Training set: epoch-118 got 169404870/172480000 with acc 98.22%, F1-score 0.96 and loss 0.04294393211603165 \n"
     ]
    },
    {
     "name": "stderr",
     "output_type": "stream",
     "text": [
      "100%|███████████████████████████████████████████████████████████████████| 220/220 [02:41<00:00,  1.36it/s, loss=0.0516]\n"
     ]
    },
    {
     "name": "stdout",
     "output_type": "stream",
     "text": [
      "Training set: epoch-119 got 169442614/172480000 with acc 98.24%, F1-score 0.96 and loss 0.04244305193424225 \n"
     ]
    },
    {
     "name": "stderr",
     "output_type": "stream",
     "text": [
      "100%|████████████████████████████████████████████████████████████████████| 220/220 [02:41<00:00,  1.36it/s, loss=0.051]\n"
     ]
    },
    {
     "name": "stdout",
     "output_type": "stream",
     "text": [
      "Training set: epoch-120 got 169478895/172480000 with acc 98.26%, F1-score 0.96 and loss 0.04195743054151535 \n"
     ]
    },
    {
     "name": "stderr",
     "output_type": "stream",
     "text": [
      "100%|███████████████████████████████████████████████████████████████████| 220/220 [02:41<00:00,  1.36it/s, loss=0.0504]\n"
     ]
    },
    {
     "name": "stdout",
     "output_type": "stream",
     "text": [
      "Training set: epoch-121 got 169514345/172480000 with acc 98.28%, F1-score 0.96 and loss 0.04148406162858009 \n"
     ]
    },
    {
     "name": "stderr",
     "output_type": "stream",
     "text": [
      "100%|███████████████████████████████████████████████████████████████████| 220/220 [02:41<00:00,  1.36it/s, loss=0.0498]\n"
     ]
    },
    {
     "name": "stdout",
     "output_type": "stream",
     "text": [
      "Training set: epoch-122 got 169548454/172480000 with acc 98.30%, F1-score 0.96 and loss 0.04102305695414543 \n"
     ]
    },
    {
     "name": "stderr",
     "output_type": "stream",
     "text": [
      "100%|███████████████████████████████████████████████████████████████████| 220/220 [02:41<00:00,  1.36it/s, loss=0.0493]\n"
     ]
    },
    {
     "name": "stdout",
     "output_type": "stream",
     "text": [
      "Training set: epoch-123 got 169581658/172480000 with acc 98.32%, F1-score 0.96 and loss 0.040572766214609146 \n"
     ]
    },
    {
     "name": "stderr",
     "output_type": "stream",
     "text": [
      "100%|███████████████████████████████████████████████████████████████████| 220/220 [02:41<00:00,  1.36it/s, loss=0.0487]\n"
     ]
    },
    {
     "name": "stdout",
     "output_type": "stream",
     "text": [
      "Training set: epoch-124 got 169613970/172480000 with acc 98.34%, F1-score 0.96 and loss 0.04013276845216751 \n"
     ]
    },
    {
     "name": "stderr",
     "output_type": "stream",
     "text": [
      "100%|███████████████████████████████████████████████████████████████████| 220/220 [02:41<00:00,  1.36it/s, loss=0.0482]\n"
     ]
    },
    {
     "name": "stdout",
     "output_type": "stream",
     "text": [
      "Training set: epoch-125 got 169645986/172480000 with acc 98.36%, F1-score 0.96 and loss 0.03970010206103325 \n"
     ]
    },
    {
     "name": "stderr",
     "output_type": "stream",
     "text": [
      "100%|███████████████████████████████████████████████████████████████████| 220/220 [02:42<00:00,  1.36it/s, loss=0.0476]\n"
     ]
    },
    {
     "name": "stdout",
     "output_type": "stream",
     "text": [
      "Training set: epoch-126 got 169677402/172480000 with acc 98.38%, F1-score 0.96 and loss 0.03927598148584366 \n"
     ]
    },
    {
     "name": "stderr",
     "output_type": "stream",
     "text": [
      "100%|███████████████████████████████████████████████████████████████████| 220/220 [02:41<00:00,  1.36it/s, loss=0.0471]\n"
     ]
    },
    {
     "name": "stdout",
     "output_type": "stream",
     "text": [
      "Training set: epoch-127 got 169708152/172480000 with acc 98.39%, F1-score 0.96 and loss 0.03885961323976517 \n"
     ]
    },
    {
     "name": "stderr",
     "output_type": "stream",
     "text": [
      "100%|███████████████████████████████████████████████████████████████████| 220/220 [02:41<00:00,  1.36it/s, loss=0.0466]\n"
     ]
    },
    {
     "name": "stdout",
     "output_type": "stream",
     "text": [
      "Training set: epoch-128 got 169737793/172480000 with acc 98.41%, F1-score 0.96 and loss 0.03844982385635376 \n"
     ]
    },
    {
     "name": "stderr",
     "output_type": "stream",
     "text": [
      "100%|███████████████████████████████████████████████████████████████████| 220/220 [02:41<00:00,  1.36it/s, loss=0.0461]\n"
     ]
    },
    {
     "name": "stdout",
     "output_type": "stream",
     "text": [
      "Training set: epoch-129 got 169767507/172480000 with acc 98.43%, F1-score 0.96 and loss 0.03804647922515869 \n"
     ]
    },
    {
     "name": "stderr",
     "output_type": "stream",
     "text": [
      "100%|███████████████████████████████████████████████████████████████████| 220/220 [02:41<00:00,  1.36it/s, loss=0.0456]\n"
     ]
    },
    {
     "name": "stdout",
     "output_type": "stream",
     "text": [
      "Training set: epoch-130 got 169794938/172480000 with acc 98.44%, F1-score 0.96 and loss 0.037665922194719315 \n"
     ]
    },
    {
     "name": "stderr",
     "output_type": "stream",
     "text": [
      "100%|███████████████████████████████████████████████████████████████████| 220/220 [02:41<00:00,  1.36it/s, loss=0.0451]\n"
     ]
    },
    {
     "name": "stdout",
     "output_type": "stream",
     "text": [
      "Training set: epoch-131 got 169824755/172480000 with acc 98.46%, F1-score 0.96 and loss 0.03725791350007057 \n"
     ]
    },
    {
     "name": "stderr",
     "output_type": "stream",
     "text": [
      "100%|███████████████████████████████████████████████████████████████████| 220/220 [02:41<00:00,  1.36it/s, loss=0.0446]\n"
     ]
    },
    {
     "name": "stdout",
     "output_type": "stream",
     "text": [
      "Training set: epoch-132 got 169853162/172480000 with acc 98.48%, F1-score 0.96 and loss 0.03687237575650215 \n"
     ]
    },
    {
     "name": "stderr",
     "output_type": "stream",
     "text": [
      "100%|███████████████████████████████████████████████████████████████████| 220/220 [02:41<00:00,  1.36it/s, loss=0.0441]\n"
     ]
    },
    {
     "name": "stdout",
     "output_type": "stream",
     "text": [
      "Training set: epoch-133 got 169881370/172480000 with acc 98.49%, F1-score 0.96 and loss 0.036490943282842636 \n"
     ]
    },
    {
     "name": "stderr",
     "output_type": "stream",
     "text": [
      "100%|███████████████████████████████████████████████████████████████████| 220/220 [02:41<00:00,  1.36it/s, loss=0.0436]\n"
     ]
    },
    {
     "name": "stdout",
     "output_type": "stream",
     "text": [
      "Training set: epoch-134 got 169908814/172480000 with acc 98.51%, F1-score 0.96 and loss 0.03611379116773605 \n"
     ]
    },
    {
     "name": "stderr",
     "output_type": "stream",
     "text": [
      "100%|███████████████████████████████████████████████████████████████████| 220/220 [02:41<00:00,  1.36it/s, loss=0.0431]\n"
     ]
    },
    {
     "name": "stdout",
     "output_type": "stream",
     "text": [
      "Training set: epoch-135 got 169936486/172480000 with acc 98.53%, F1-score 0.96 and loss 0.03574150428175926 \n"
     ]
    },
    {
     "name": "stderr",
     "output_type": "stream",
     "text": [
      "100%|███████████████████████████████████████████████████████████████████| 220/220 [02:41<00:00,  1.36it/s, loss=0.0427]\n"
     ]
    },
    {
     "name": "stdout",
     "output_type": "stream",
     "text": [
      "Training set: epoch-136 got 169963595/172480000 with acc 98.54%, F1-score 0.96 and loss 0.03537248075008392 \n"
     ]
    },
    {
     "name": "stderr",
     "output_type": "stream",
     "text": [
      "100%|███████████████████████████████████████████████████████████████████| 220/220 [02:41<00:00,  1.36it/s, loss=0.0422]\n"
     ]
    },
    {
     "name": "stdout",
     "output_type": "stream",
     "text": [
      "Training set: epoch-137 got 169990128/172480000 with acc 98.56%, F1-score 0.97 and loss 0.03500814735889435 \n"
     ]
    },
    {
     "name": "stderr",
     "output_type": "stream",
     "text": [
      "100%|███████████████████████████████████████████████████████████████████| 220/220 [02:41<00:00,  1.36it/s, loss=0.0417]\n"
     ]
    },
    {
     "name": "stdout",
     "output_type": "stream",
     "text": [
      "Training set: epoch-138 got 170016466/172480000 with acc 98.57%, F1-score 0.97 and loss 0.03464800864458084 \n"
     ]
    },
    {
     "name": "stderr",
     "output_type": "stream",
     "text": [
      "100%|███████████████████████████████████████████████████████████████████| 220/220 [02:42<00:00,  1.36it/s, loss=0.0413]\n"
     ]
    },
    {
     "name": "stdout",
     "output_type": "stream",
     "text": [
      "Training set: epoch-139 got 170042993/172480000 with acc 98.59%, F1-score 0.97 and loss 0.034290459007024765 \n"
     ]
    },
    {
     "name": "stderr",
     "output_type": "stream",
     "text": [
      "100%|███████████████████████████████████████████████████████████████████| 220/220 [02:42<00:00,  1.36it/s, loss=0.0408]\n"
     ]
    },
    {
     "name": "stdout",
     "output_type": "stream",
     "text": [
      "Training set: epoch-140 got 170065457/172480000 with acc 98.60%, F1-score 0.97 and loss 0.0339798629283905 \n"
     ]
    },
    {
     "name": "stderr",
     "output_type": "stream",
     "text": [
      "100%|███████████████████████████████████████████████████████████████████| 220/220 [02:41<00:00,  1.36it/s, loss=0.0404]\n"
     ]
    },
    {
     "name": "stdout",
     "output_type": "stream",
     "text": [
      "Training set: epoch-141 got 170094517/172480000 with acc 98.62%, F1-score 0.97 and loss 0.03358742594718933 \n"
     ]
    },
    {
     "name": "stderr",
     "output_type": "stream",
     "text": [
      "100%|███████████████████████████████████████████████████████████████████| 220/220 [02:41<00:00,  1.36it/s, loss=0.0399]\n"
     ]
    },
    {
     "name": "stdout",
     "output_type": "stream",
     "text": [
      "Training set: epoch-142 got 170119354/172480000 with acc 98.63%, F1-score 0.97 and loss 0.033241160213947296 \n"
     ]
    },
    {
     "name": "stderr",
     "output_type": "stream",
     "text": [
      "100%|███████████████████████████████████████████████████████████████████| 220/220 [02:41<00:00,  1.36it/s, loss=0.0395]\n"
     ]
    },
    {
     "name": "stdout",
     "output_type": "stream",
     "text": [
      "Training set: epoch-143 got 170144474/172480000 with acc 98.65%, F1-score 0.97 and loss 0.03290082514286041 \n"
     ]
    },
    {
     "name": "stderr",
     "output_type": "stream",
     "text": [
      "100%|████████████████████████████████████████████████████████████████████| 220/220 [02:42<00:00,  1.36it/s, loss=0.039]\n"
     ]
    },
    {
     "name": "stdout",
     "output_type": "stream",
     "text": [
      "Training set: epoch-144 got 170168971/172480000 with acc 98.66%, F1-score 0.97 and loss 0.032559216022491455 \n"
     ]
    },
    {
     "name": "stderr",
     "output_type": "stream",
     "text": [
      "100%|███████████████████████████████████████████████████████████████████| 220/220 [02:42<00:00,  1.36it/s, loss=0.0386]\n"
     ]
    },
    {
     "name": "stdout",
     "output_type": "stream",
     "text": [
      "Training set: epoch-145 got 170193746/172480000 with acc 98.67%, F1-score 0.97 and loss 0.03222118690609932 \n"
     ]
    },
    {
     "name": "stderr",
     "output_type": "stream",
     "text": [
      "100%|███████████████████████████████████████████████████████████████████| 220/220 [02:42<00:00,  1.36it/s, loss=0.0382]\n"
     ]
    },
    {
     "name": "stdout",
     "output_type": "stream",
     "text": [
      "Training set: epoch-146 got 170218059/172480000 with acc 98.69%, F1-score 0.97 and loss 0.031885694712400436 \n"
     ]
    },
    {
     "name": "stderr",
     "output_type": "stream",
     "text": [
      "100%|███████████████████████████████████████████████████████████████████| 220/220 [02:42<00:00,  1.36it/s, loss=0.0378]\n"
     ]
    },
    {
     "name": "stdout",
     "output_type": "stream",
     "text": [
      "Training set: epoch-147 got 170242456/172480000 with acc 98.70%, F1-score 0.97 and loss 0.031552400439977646 \n"
     ]
    },
    {
     "name": "stderr",
     "output_type": "stream",
     "text": [
      "100%|███████████████████████████████████████████████████████████████████| 220/220 [02:42<00:00,  1.36it/s, loss=0.0373]\n"
     ]
    },
    {
     "name": "stdout",
     "output_type": "stream",
     "text": [
      "Training set: epoch-148 got 170266317/172480000 with acc 98.72%, F1-score 0.97 and loss 0.0312210600823164 \n"
     ]
    },
    {
     "name": "stderr",
     "output_type": "stream",
     "text": [
      "100%|███████████████████████████████████████████████████████████████████| 220/220 [02:42<00:00,  1.36it/s, loss=0.0369]\n"
     ]
    },
    {
     "name": "stdout",
     "output_type": "stream",
     "text": [
      "Training set: epoch-149 got 170290560/172480000 with acc 98.73%, F1-score 0.97 and loss 0.0308928694576025 \n"
     ]
    },
    {
     "name": "stderr",
     "output_type": "stream",
     "text": [
      "100%|███████████████████████████████████████████████████████████████████| 220/220 [02:42<00:00,  1.36it/s, loss=0.0365]\n"
     ]
    },
    {
     "name": "stdout",
     "output_type": "stream",
     "text": [
      "Training set: epoch-150 got 170314273/172480000 with acc 98.74%, F1-score 0.97 and loss 0.030565068125724792 \n"
     ]
    },
    {
     "name": "stderr",
     "output_type": "stream",
     "text": [
      "100%|███████████████████████████████████████████████████████████████████| 220/220 [02:42<00:00,  1.36it/s, loss=0.0361]\n"
     ]
    },
    {
     "name": "stdout",
     "output_type": "stream",
     "text": [
      "Training set: epoch-151 got 170338146/172480000 with acc 98.76%, F1-score 0.97 and loss 0.03024079091846943 \n"
     ]
    },
    {
     "name": "stderr",
     "output_type": "stream",
     "text": [
      "100%|███████████████████████████████████████████████████████████████████| 220/220 [02:42<00:00,  1.36it/s, loss=0.0357]\n"
     ]
    },
    {
     "name": "stdout",
     "output_type": "stream",
     "text": [
      "Training set: epoch-152 got 170361533/172480000 with acc 98.77%, F1-score 0.97 and loss 0.029918396845459938 \n"
     ]
    },
    {
     "name": "stderr",
     "output_type": "stream",
     "text": [
      "100%|███████████████████████████████████████████████████████████████████| 220/220 [02:42<00:00,  1.36it/s, loss=0.0353]\n"
     ]
    },
    {
     "name": "stdout",
     "output_type": "stream",
     "text": [
      "Training set: epoch-153 got 170384664/172480000 with acc 98.79%, F1-score 0.97 and loss 0.029597721993923187 \n"
     ]
    },
    {
     "name": "stderr",
     "output_type": "stream",
     "text": [
      "100%|███████████████████████████████████████████████████████████████████| 220/220 [02:42<00:00,  1.36it/s, loss=0.0349]\n"
     ]
    },
    {
     "name": "stdout",
     "output_type": "stream",
     "text": [
      "Training set: epoch-154 got 170407958/172480000 with acc 98.80%, F1-score 0.97 and loss 0.029278481379151344 \n"
     ]
    },
    {
     "name": "stderr",
     "output_type": "stream",
     "text": [
      "100%|███████████████████████████████████████████████████████████████████| 220/220 [02:42<00:00,  1.36it/s, loss=0.0345]\n"
     ]
    },
    {
     "name": "stdout",
     "output_type": "stream",
     "text": [
      "Training set: epoch-155 got 170430695/172480000 with acc 98.81%, F1-score 0.97 and loss 0.028961095958948135 \n"
     ]
    },
    {
     "name": "stderr",
     "output_type": "stream",
     "text": [
      "100%|███████████████████████████████████████████████████████████████████| 220/220 [02:41<00:00,  1.36it/s, loss=0.0342]\n"
     ]
    },
    {
     "name": "stdout",
     "output_type": "stream",
     "text": [
      "Training set: epoch-156 got 170453444/172480000 with acc 98.83%, F1-score 0.97 and loss 0.028645232319831848 \n"
     ]
    },
    {
     "name": "stderr",
     "output_type": "stream",
     "text": [
      "100%|███████████████████████████████████████████████████████████████████| 220/220 [02:42<00:00,  1.36it/s, loss=0.0338]\n"
     ]
    },
    {
     "name": "stdout",
     "output_type": "stream",
     "text": [
      "Training set: epoch-157 got 170476262/172480000 with acc 98.84%, F1-score 0.97 and loss 0.028332114219665527 \n"
     ]
    },
    {
     "name": "stderr",
     "output_type": "stream",
     "text": [
      "100%|███████████████████████████████████████████████████████████████████| 220/220 [02:42<00:00,  1.35it/s, loss=0.0334]\n"
     ]
    },
    {
     "name": "stdout",
     "output_type": "stream",
     "text": [
      "Training set: epoch-158 got 170497707/172480000 with acc 98.85%, F1-score 0.97 and loss 0.028032273054122925 \n"
     ]
    },
    {
     "name": "stderr",
     "output_type": "stream",
     "text": [
      "100%|███████████████████████████████████████████████████████████████████| 220/220 [02:42<00:00,  1.35it/s, loss=0.0331]\n"
     ]
    },
    {
     "name": "stdout",
     "output_type": "stream",
     "text": [
      "Training set: epoch-159 got 170520189/172480000 with acc 98.86%, F1-score 0.97 and loss 0.027721980586647987 \n"
     ]
    },
    {
     "name": "stderr",
     "output_type": "stream",
     "text": [
      "100%|███████████████████████████████████████████████████████████████████| 220/220 [02:42<00:00,  1.36it/s, loss=0.0327]\n"
     ]
    },
    {
     "name": "stdout",
     "output_type": "stream",
     "text": [
      "Training set: epoch-160 got 170542897/172480000 with acc 98.88%, F1-score 0.97 and loss 0.027406170964241028 \n"
     ]
    },
    {
     "name": "stderr",
     "output_type": "stream",
     "text": [
      "100%|███████████████████████████████████████████████████████████████████| 220/220 [02:42<00:00,  1.35it/s, loss=0.0323]\n"
     ]
    },
    {
     "name": "stdout",
     "output_type": "stream",
     "text": [
      "Training set: epoch-161 got 170564921/172480000 with acc 98.89%, F1-score 0.97 and loss 0.027106381952762604 \n"
     ]
    },
    {
     "name": "stderr",
     "output_type": "stream",
     "text": [
      "100%|████████████████████████████████████████████████████████████████████| 220/220 [02:42<00:00,  1.36it/s, loss=0.032]\n"
     ]
    },
    {
     "name": "stdout",
     "output_type": "stream",
     "text": [
      "Training set: epoch-162 got 170586802/172480000 with acc 98.90%, F1-score 0.97 and loss 0.02680172026157379 \n"
     ]
    },
    {
     "name": "stderr",
     "output_type": "stream",
     "text": [
      "100%|███████████████████████████████████████████████████████████████████| 220/220 [02:42<00:00,  1.35it/s, loss=0.0316]\n"
     ]
    },
    {
     "name": "stdout",
     "output_type": "stream",
     "text": [
      "Training set: epoch-163 got 170608175/172480000 with acc 98.91%, F1-score 0.97 and loss 0.026510225608944893 \n"
     ]
    },
    {
     "name": "stderr",
     "output_type": "stream",
     "text": [
      "100%|███████████████████████████████████████████████████████████████████| 220/220 [02:42<00:00,  1.35it/s, loss=0.0313]\n"
     ]
    },
    {
     "name": "stdout",
     "output_type": "stream",
     "text": [
      "Training set: epoch-164 got 170627985/172480000 with acc 98.93%, F1-score 0.97 and loss 0.026224594563245773 \n"
     ]
    },
    {
     "name": "stderr",
     "output_type": "stream",
     "text": [
      "100%|████████████████████████████████████████████████████████████████████| 220/220 [02:42<00:00,  1.35it/s, loss=0.031]\n"
     ]
    },
    {
     "name": "stdout",
     "output_type": "stream",
     "text": [
      "Training set: epoch-165 got 170649037/172480000 with acc 98.94%, F1-score 0.97 and loss 0.025936530902981758 \n"
     ]
    },
    {
     "name": "stderr",
     "output_type": "stream",
     "text": [
      "100%|███████████████████████████████████████████████████████████████████| 220/220 [02:42<00:00,  1.35it/s, loss=0.0307]\n"
     ]
    },
    {
     "name": "stdout",
     "output_type": "stream",
     "text": [
      "Training set: epoch-166 got 170667431/172480000 with acc 98.95%, F1-score 0.97 and loss 0.025681590661406517 \n"
     ]
    },
    {
     "name": "stderr",
     "output_type": "stream",
     "text": [
      "100%|███████████████████████████████████████████████████████████████████| 220/220 [02:42<00:00,  1.35it/s, loss=0.0304]\n"
     ]
    },
    {
     "name": "stdout",
     "output_type": "stream",
     "text": [
      "Training set: epoch-167 got 170688722/172480000 with acc 98.96%, F1-score 0.98 and loss 0.02538706734776497 \n"
     ]
    },
    {
     "name": "stderr",
     "output_type": "stream",
     "text": [
      "100%|███████████████████████████████████████████████████████████████████| 220/220 [02:42<00:00,  1.35it/s, loss=0.0302]\n"
     ]
    },
    {
     "name": "stdout",
     "output_type": "stream",
     "text": [
      "Training set: epoch-168 got 170705189/172480000 with acc 98.97%, F1-score 0.98 and loss 0.0251610204577446 \n"
     ]
    },
    {
     "name": "stderr",
     "output_type": "stream",
     "text": [
      "100%|███████████████████████████████████████████████████████████████████| 220/220 [02:42<00:00,  1.35it/s, loss=0.0299]\n"
     ]
    },
    {
     "name": "stdout",
     "output_type": "stream",
     "text": [
      "Training set: epoch-169 got 170726755/172480000 with acc 98.98%, F1-score 0.98 and loss 0.02484915778040886 \n"
     ]
    },
    {
     "name": "stderr",
     "output_type": "stream",
     "text": [
      "100%|███████████████████████████████████████████████████████████████████| 220/220 [02:42<00:00,  1.35it/s, loss=0.0299]\n"
     ]
    },
    {
     "name": "stdout",
     "output_type": "stream",
     "text": [
      "Training set: epoch-170 got 170736522/172480000 with acc 98.99%, F1-score 0.98 and loss 0.024705229327082634 \n"
     ]
    },
    {
     "name": "stderr",
     "output_type": "stream",
     "text": [
      "100%|███████████████████████████████████████████████████████████████████| 220/220 [02:42<00:00,  1.35it/s, loss=0.0292]\n"
     ]
    },
    {
     "name": "stdout",
     "output_type": "stream",
     "text": [
      "Training set: epoch-171 got 170757120/172480000 with acc 99.00%, F1-score 0.98 and loss 0.02441365458071232 \n"
     ]
    },
    {
     "name": "stderr",
     "output_type": "stream",
     "text": [
      "100%|███████████████████████████████████████████████████████████████████| 220/220 [02:42<00:00,  1.35it/s, loss=0.0294]\n"
     ]
    },
    {
     "name": "stdout",
     "output_type": "stream",
     "text": [
      "Training set: epoch-172 got 170769279/172480000 with acc 99.01%, F1-score 0.98 and loss 0.02423493191599846 \n"
     ]
    },
    {
     "name": "stderr",
     "output_type": "stream",
     "text": [
      "100%|███████████████████████████████████████████████████████████████████| 220/220 [02:42<00:00,  1.35it/s, loss=0.0295]\n"
     ]
    },
    {
     "name": "stdout",
     "output_type": "stream",
     "text": [
      "Training set: epoch-173 got 170787546/172480000 with acc 99.02%, F1-score 0.98 and loss 0.023975448682904243 \n"
     ]
    },
    {
     "name": "stderr",
     "output_type": "stream",
     "text": [
      "100%|███████████████████████████████████████████████████████████████████| 220/220 [02:42<00:00,  1.35it/s, loss=0.0295]\n"
     ]
    },
    {
     "name": "stdout",
     "output_type": "stream",
     "text": [
      "Training set: epoch-174 got 170805770/172480000 with acc 99.03%, F1-score 0.98 and loss 0.023736486211419106 \n"
     ]
    },
    {
     "name": "stderr",
     "output_type": "stream",
     "text": [
      "100%|████████████████████████████████████████████████████████████████████| 220/220 [02:42<00:00,  1.35it/s, loss=0.029]\n"
     ]
    },
    {
     "name": "stdout",
     "output_type": "stream",
     "text": [
      "Training set: epoch-175 got 170819682/172480000 with acc 99.04%, F1-score 0.98 and loss 0.02352592907845974 \n"
     ]
    }
   ],
   "source": [
    "dict_train ={\"save_model\": True,\n",
    "             'num_model': 3,\n",
    "            \"cross_val\": False,\n",
    "            \"skip_connection\": True,\n",
    "            \"num_epochs\": 175,\n",
    "            \"n_splits\": 1,\n",
    "            \"batch_size\": 10,\n",
    "            \"scale_channel\": 2,\n",
    "            \"dict_double_conv\": {\"BatchNorm\": True,\n",
    "                \"activation\": nn.ELU(inplace=True),\n",
    "                \"p_dropout\": 0.0,\n",
    "                \"use_dropout\": False,\n",
    "                \"bias\": False},\n",
    "            \"dict_ups\": {\"BatchNorm\": False,\n",
    "                \"p_dropout\": 0.2,\n",
    "                \"use_dropout\": False,\n",
    "                \"bias\": False},\n",
    "            \"loss\": nn.BCEWithLogitsLoss(),\n",
    "            \"optimizer\": optim.Adam,\n",
    "            \"param_optimizer\": {\"weight_decay\": 1e-05,\n",
    "                               \"lr\": 5e-04},\n",
    "            \"use_scheduler\": True,\n",
    "            \"type_scheduler\": \"ReduceLROnPlateau\",\n",
    "            \"scheduler\": torch.optim.lr_scheduler.ReduceLROnPlateau,\n",
    "            \"param_scheduler\": {\"mode\": 'max',\n",
    "                               \"factor\": 1./np.sqrt(10),\n",
    "                               'min_lr': 1e-07,\n",
    "                               'patience': 2,\n",
    "                               'verbose': True},\n",
    "             \"scaler\": torch.cuda.amp.GradScaler(),\n",
    "             \"device\": DEVICE\n",
    "            }\n",
    "\n",
    "experiment_final1 = {\"param\": dict_train}\n",
    "experiment_final1[\"convergence_path\"] = run_training(dict_train) \n",
    "\n",
    "\n",
    "f = open(\"result_exp/experiment_final3.pkl\",\"wb\")\n",
    "pickle.dump(experiment_final1,f)\n",
    "f.close()"
   ]
  },
  {
   "cell_type": "code",
   "execution_count": 5,
   "id": "d7967796",
   "metadata": {},
   "outputs": [
    {
     "name": "stderr",
     "output_type": "stream",
     "text": [
      "100%|████████████████████████████████████████████████████████████████████| 220/220 [01:07<00:00,  3.28it/s, loss=0.493]\n"
     ]
    },
    {
     "name": "stdout",
     "output_type": "stream",
     "text": [
      "Training set: epoch-1 got 130576652/172480000 with acc 75.71%, F1-score 0.41 and loss 0.5406947135925293 \n"
     ]
    },
    {
     "name": "stderr",
     "output_type": "stream",
     "text": [
      "100%|████████████████████████████████████████████████████████████████████| 220/220 [01:07<00:00,  3.28it/s, loss=0.497]\n"
     ]
    },
    {
     "name": "stdout",
     "output_type": "stream",
     "text": [
      "Training set: epoch-2 got 139883565/172480000 with acc 81.10%, F1-score 0.44 and loss 0.4252674877643585 \n"
     ]
    },
    {
     "name": "stderr",
     "output_type": "stream",
     "text": [
      "100%|████████████████████████████████████████████████████████████████████| 220/220 [01:07<00:00,  3.28it/s, loss=0.489]\n"
     ]
    },
    {
     "name": "stdout",
     "output_type": "stream",
     "text": [
      "Training set: epoch-3 got 141344408/172480000 with acc 81.95%, F1-score 0.48 and loss 0.3970986604690552 \n"
     ]
    },
    {
     "name": "stderr",
     "output_type": "stream",
     "text": [
      "100%|████████████████████████████████████████████████████████████████████| 220/220 [01:07<00:00,  3.27it/s, loss=0.496]\n"
     ]
    },
    {
     "name": "stdout",
     "output_type": "stream",
     "text": [
      "Training set: epoch-4 got 142489974/172480000 with acc 82.61%, F1-score 0.51 and loss 0.3802313506603241 \n"
     ]
    },
    {
     "name": "stderr",
     "output_type": "stream",
     "text": [
      "100%|████████████████████████████████████████████████████████████████████| 220/220 [01:06<00:00,  3.28it/s, loss=0.517]\n"
     ]
    },
    {
     "name": "stdout",
     "output_type": "stream",
     "text": [
      "Training set: epoch-5 got 143192693/172480000 with acc 83.02%, F1-score 0.53 and loss 0.36976516246795654 \n"
     ]
    },
    {
     "name": "stderr",
     "output_type": "stream",
     "text": [
      "100%|████████████████████████████████████████████████████████████████████| 220/220 [01:06<00:00,  3.29it/s, loss=0.519]\n"
     ]
    },
    {
     "name": "stdout",
     "output_type": "stream",
     "text": [
      "Training set: epoch-6 got 144475401/172480000 with acc 83.76%, F1-score 0.55 and loss 0.35781481862068176 \n"
     ]
    },
    {
     "name": "stderr",
     "output_type": "stream",
     "text": [
      "100%|████████████████████████████████████████████████████████████████████| 220/220 [01:06<00:00,  3.28it/s, loss=0.511]\n"
     ]
    },
    {
     "name": "stdout",
     "output_type": "stream",
     "text": [
      "Training set: epoch-7 got 145161770/172480000 with acc 84.16%, F1-score 0.56 and loss 0.35106030106544495 \n"
     ]
    },
    {
     "name": "stderr",
     "output_type": "stream",
     "text": [
      "100%|████████████████████████████████████████████████████████████████████| 220/220 [01:06<00:00,  3.28it/s, loss=0.525]\n"
     ]
    },
    {
     "name": "stdout",
     "output_type": "stream",
     "text": [
      "Training set: epoch-8 got 147268834/172480000 with acc 85.38%, F1-score 0.61 and loss 0.33132079243659973 \n"
     ]
    },
    {
     "name": "stderr",
     "output_type": "stream",
     "text": [
      "100%|████████████████████████████████████████████████████████████████████| 220/220 [01:07<00:00,  3.27it/s, loss=0.506]\n"
     ]
    },
    {
     "name": "stdout",
     "output_type": "stream",
     "text": [
      "Training set: epoch-9 got 148624757/172480000 with acc 86.17%, F1-score 0.63 and loss 0.31919699907302856 \n"
     ]
    },
    {
     "name": "stderr",
     "output_type": "stream",
     "text": [
      "100%|████████████████████████████████████████████████████████████████████| 220/220 [01:07<00:00,  3.26it/s, loss=0.497]\n"
     ]
    },
    {
     "name": "stdout",
     "output_type": "stream",
     "text": [
      "Training set: epoch-10 got 149657571/172480000 with acc 86.77%, F1-score 0.65 and loss 0.3074502944946289 \n"
     ]
    },
    {
     "name": "stderr",
     "output_type": "stream",
     "text": [
      "100%|█████████████████████████████████████████████████████████████████████| 220/220 [01:07<00:00,  3.27it/s, loss=0.49]\n"
     ]
    },
    {
     "name": "stdout",
     "output_type": "stream",
     "text": [
      "Training set: epoch-11 got 150458016/172480000 with acc 87.23%, F1-score 0.66 and loss 0.298438161611557 \n"
     ]
    },
    {
     "name": "stderr",
     "output_type": "stream",
     "text": [
      "100%|████████████████████████████████████████████████████████████████████| 220/220 [01:07<00:00,  3.27it/s, loss=0.476]\n"
     ]
    },
    {
     "name": "stdout",
     "output_type": "stream",
     "text": [
      "Training set: epoch-12 got 151107690/172480000 with acc 87.61%, F1-score 0.68 and loss 0.2906831204891205 \n"
     ]
    },
    {
     "name": "stderr",
     "output_type": "stream",
     "text": [
      "100%|████████████████████████████████████████████████████████████████████| 220/220 [01:07<00:00,  3.27it/s, loss=0.459]\n"
     ]
    },
    {
     "name": "stdout",
     "output_type": "stream",
     "text": [
      "Training set: epoch-13 got 151817558/172480000 with acc 88.02%, F1-score 0.69 and loss 0.28353968262672424 \n"
     ]
    },
    {
     "name": "stderr",
     "output_type": "stream",
     "text": [
      "100%|████████████████████████████████████████████████████████████████████| 220/220 [01:07<00:00,  3.27it/s, loss=0.445]\n"
     ]
    },
    {
     "name": "stdout",
     "output_type": "stream",
     "text": [
      "Training set: epoch-14 got 152429011/172480000 with acc 88.37%, F1-score 0.70 and loss 0.2781929671764374 \n"
     ]
    },
    {
     "name": "stderr",
     "output_type": "stream",
     "text": [
      "100%|████████████████████████████████████████████████████████████████████| 220/220 [01:07<00:00,  3.28it/s, loss=0.417]\n"
     ]
    },
    {
     "name": "stdout",
     "output_type": "stream",
     "text": [
      "Training set: epoch-15 got 153226402/172480000 with acc 88.84%, F1-score 0.71 and loss 0.2705972194671631 \n"
     ]
    },
    {
     "name": "stderr",
     "output_type": "stream",
     "text": [
      "100%|█████████████████████████████████████████████████████████████████████| 220/220 [01:07<00:00,  3.26it/s, loss=0.39]\n"
     ]
    },
    {
     "name": "stdout",
     "output_type": "stream",
     "text": [
      "Training set: epoch-16 got 153956093/172480000 with acc 89.26%, F1-score 0.72 and loss 0.26167428493499756 \n"
     ]
    },
    {
     "name": "stderr",
     "output_type": "stream",
     "text": [
      "100%|████████████████████████████████████████████████████████████████████| 220/220 [01:07<00:00,  3.25it/s, loss=0.382]\n"
     ]
    },
    {
     "name": "stdout",
     "output_type": "stream",
     "text": [
      "Training set: epoch-17 got 154475614/172480000 with acc 89.56%, F1-score 0.73 and loss 0.25493669509887695 \n"
     ]
    },
    {
     "name": "stderr",
     "output_type": "stream",
     "text": [
      "100%|████████████████████████████████████████████████████████████████████| 220/220 [01:07<00:00,  3.24it/s, loss=0.349]\n"
     ]
    },
    {
     "name": "stdout",
     "output_type": "stream",
     "text": [
      "Training set: epoch-18 got 154863295/172480000 with acc 89.79%, F1-score 0.74 and loss 0.2497069537639618 \n"
     ]
    },
    {
     "name": "stderr",
     "output_type": "stream",
     "text": [
      "100%|████████████████████████████████████████████████████████████████████| 220/220 [01:08<00:00,  3.22it/s, loss=0.344]\n"
     ]
    },
    {
     "name": "stdout",
     "output_type": "stream",
     "text": [
      "Training set: epoch-19 got 155161838/172480000 with acc 89.96%, F1-score 0.74 and loss 0.24604053795337677 \n"
     ]
    },
    {
     "name": "stderr",
     "output_type": "stream",
     "text": [
      "100%|████████████████████████████████████████████████████████████████████| 220/220 [01:07<00:00,  3.26it/s, loss=0.345]\n"
     ]
    },
    {
     "name": "stdout",
     "output_type": "stream",
     "text": [
      "Training set: epoch-20 got 155582138/172480000 with acc 90.20%, F1-score 0.75 and loss 0.2400495558977127 \n"
     ]
    },
    {
     "name": "stderr",
     "output_type": "stream",
     "text": [
      "100%|████████████████████████████████████████████████████████████████████| 220/220 [01:07<00:00,  3.24it/s, loss=0.339]\n"
     ]
    },
    {
     "name": "stdout",
     "output_type": "stream",
     "text": [
      "Training set: epoch-21 got 156109039/172480000 with acc 90.51%, F1-score 0.76 and loss 0.2336312085390091 \n"
     ]
    },
    {
     "name": "stderr",
     "output_type": "stream",
     "text": [
      "100%|████████████████████████████████████████████████████████████████████| 220/220 [01:07<00:00,  3.25it/s, loss=0.332]\n"
     ]
    },
    {
     "name": "stdout",
     "output_type": "stream",
     "text": [
      "Training set: epoch-22 got 156440264/172480000 with acc 90.70%, F1-score 0.77 and loss 0.2284523993730545 \n"
     ]
    },
    {
     "name": "stderr",
     "output_type": "stream",
     "text": [
      "100%|████████████████████████████████████████████████████████████████████| 220/220 [01:08<00:00,  3.23it/s, loss=0.335]\n"
     ]
    },
    {
     "name": "stdout",
     "output_type": "stream",
     "text": [
      "Training set: epoch-23 got 156808503/172480000 with acc 90.91%, F1-score 0.77 and loss 0.2229682356119156 \n"
     ]
    },
    {
     "name": "stderr",
     "output_type": "stream",
     "text": [
      "100%|████████████████████████████████████████████████████████████████████| 220/220 [01:07<00:00,  3.26it/s, loss=0.325]\n"
     ]
    },
    {
     "name": "stdout",
     "output_type": "stream",
     "text": [
      "Training set: epoch-24 got 157287180/172480000 with acc 91.19%, F1-score 0.78 and loss 0.21679063141345978 \n"
     ]
    },
    {
     "name": "stderr",
     "output_type": "stream",
     "text": [
      "100%|████████████████████████████████████████████████████████████████████| 220/220 [01:07<00:00,  3.27it/s, loss=0.322]\n"
     ]
    },
    {
     "name": "stdout",
     "output_type": "stream",
     "text": [
      "Training set: epoch-25 got 157673103/172480000 with acc 91.42%, F1-score 0.79 and loss 0.21221037209033966 \n"
     ]
    },
    {
     "name": "stderr",
     "output_type": "stream",
     "text": [
      "100%|████████████████████████████████████████████████████████████████████| 220/220 [01:07<00:00,  3.27it/s, loss=0.312]\n"
     ]
    },
    {
     "name": "stdout",
     "output_type": "stream",
     "text": [
      "Training set: epoch-26 got 157955479/172480000 with acc 91.58%, F1-score 0.79 and loss 0.2081354558467865 \n"
     ]
    },
    {
     "name": "stderr",
     "output_type": "stream",
     "text": [
      "100%|████████████████████████████████████████████████████████████████████| 220/220 [01:07<00:00,  3.26it/s, loss=0.307]\n"
     ]
    },
    {
     "name": "stdout",
     "output_type": "stream",
     "text": [
      "Training set: epoch-27 got 158230074/172480000 with acc 91.74%, F1-score 0.79 and loss 0.20464515686035156 \n"
     ]
    },
    {
     "name": "stderr",
     "output_type": "stream",
     "text": [
      "100%|████████████████████████████████████████████████████████████████████| 220/220 [01:07<00:00,  3.25it/s, loss=0.308]\n"
     ]
    },
    {
     "name": "stdout",
     "output_type": "stream",
     "text": [
      "Training set: epoch-28 got 158659993/172480000 with acc 91.99%, F1-score 0.80 and loss 0.19888827204704285 \n"
     ]
    },
    {
     "name": "stderr",
     "output_type": "stream",
     "text": [
      "100%|████████████████████████████████████████████████████████████████████| 220/220 [01:07<00:00,  3.27it/s, loss=0.293]\n"
     ]
    },
    {
     "name": "stdout",
     "output_type": "stream",
     "text": [
      "Training set: epoch-29 got 158901345/172480000 with acc 92.13%, F1-score 0.80 and loss 0.195134237408638 \n"
     ]
    },
    {
     "name": "stderr",
     "output_type": "stream",
     "text": [
      "100%|█████████████████████████████████████████████████████████████████████| 220/220 [01:07<00:00,  3.27it/s, loss=0.29]\n"
     ]
    },
    {
     "name": "stdout",
     "output_type": "stream",
     "text": [
      "Training set: epoch-30 got 159202817/172480000 with acc 92.30%, F1-score 0.81 and loss 0.19117093086242676 \n"
     ]
    },
    {
     "name": "stderr",
     "output_type": "stream",
     "text": [
      "100%|████████████████████████████████████████████████████████████████████| 220/220 [01:07<00:00,  3.25it/s, loss=0.271]\n"
     ]
    },
    {
     "name": "stdout",
     "output_type": "stream",
     "text": [
      "Training set: epoch-31 got 159556709/172480000 with acc 92.51%, F1-score 0.81 and loss 0.18589967489242554 \n"
     ]
    },
    {
     "name": "stderr",
     "output_type": "stream",
     "text": [
      "100%|████████████████████████████████████████████████████████████████████| 220/220 [01:07<00:00,  3.24it/s, loss=0.273]\n"
     ]
    },
    {
     "name": "stdout",
     "output_type": "stream",
     "text": [
      "Training set: epoch-32 got 159825461/172480000 with acc 92.66%, F1-score 0.82 and loss 0.18248781561851501 \n"
     ]
    },
    {
     "name": "stderr",
     "output_type": "stream",
     "text": [
      "100%|████████████████████████████████████████████████████████████████████| 220/220 [01:08<00:00,  3.23it/s, loss=0.262]\n"
     ]
    },
    {
     "name": "stdout",
     "output_type": "stream",
     "text": [
      "Training set: epoch-33 got 160108034/172480000 with acc 92.83%, F1-score 0.82 and loss 0.17864464223384857 \n"
     ]
    },
    {
     "name": "stderr",
     "output_type": "stream",
     "text": [
      "100%|████████████████████████████████████████████████████████████████████| 220/220 [01:08<00:00,  3.23it/s, loss=0.252]\n"
     ]
    },
    {
     "name": "stdout",
     "output_type": "stream",
     "text": [
      "Training set: epoch-34 got 160374994/172480000 with acc 92.98%, F1-score 0.83 and loss 0.17551419138908386 \n"
     ]
    },
    {
     "name": "stderr",
     "output_type": "stream",
     "text": [
      "100%|████████████████████████████████████████████████████████████████████| 220/220 [01:07<00:00,  3.24it/s, loss=0.247]\n"
     ]
    },
    {
     "name": "stdout",
     "output_type": "stream",
     "text": [
      "Training set: epoch-35 got 160510720/172480000 with acc 93.06%, F1-score 0.83 and loss 0.17350518703460693 \n"
     ]
    },
    {
     "name": "stderr",
     "output_type": "stream",
     "text": [
      "100%|████████████████████████████████████████████████████████████████████| 220/220 [01:08<00:00,  3.23it/s, loss=0.251]\n"
     ]
    },
    {
     "name": "stdout",
     "output_type": "stream",
     "text": [
      "Training set: epoch-36 got 160692163/172480000 with acc 93.17%, F1-score 0.83 and loss 0.17024308443069458 \n"
     ]
    },
    {
     "name": "stderr",
     "output_type": "stream",
     "text": [
      "100%|████████████████████████████████████████████████████████████████████| 220/220 [01:08<00:00,  3.23it/s, loss=0.247]\n"
     ]
    },
    {
     "name": "stdout",
     "output_type": "stream",
     "text": [
      "Training set: epoch-37 got 160975861/172480000 with acc 93.33%, F1-score 0.84 and loss 0.16614024341106415 \n"
     ]
    },
    {
     "name": "stderr",
     "output_type": "stream",
     "text": [
      "100%|████████████████████████████████████████████████████████████████████| 220/220 [01:08<00:00,  3.23it/s, loss=0.249]\n"
     ]
    },
    {
     "name": "stdout",
     "output_type": "stream",
     "text": [
      "Training set: epoch-38 got 160896764/172480000 with acc 93.28%, F1-score 0.83 and loss 0.1673542708158493 \n"
     ]
    },
    {
     "name": "stderr",
     "output_type": "stream",
     "text": [
      "100%|████████████████████████████████████████████████████████████████████| 220/220 [01:08<00:00,  3.23it/s, loss=0.239]\n"
     ]
    },
    {
     "name": "stdout",
     "output_type": "stream",
     "text": [
      "Training set: epoch-39 got 161351525/172480000 with acc 93.55%, F1-score 0.84 and loss 0.16146397590637207 \n"
     ]
    },
    {
     "name": "stderr",
     "output_type": "stream",
     "text": [
      "100%|█████████████████████████████████████████████████████████████████████| 220/220 [01:07<00:00,  3.24it/s, loss=0.25]\n"
     ]
    },
    {
     "name": "stdout",
     "output_type": "stream",
     "text": [
      "Training set: epoch-40 got 160955333/172480000 with acc 93.32%, F1-score 0.84 and loss 0.16640420258045197 \n"
     ]
    },
    {
     "name": "stderr",
     "output_type": "stream",
     "text": [
      "100%|████████████████████████████████████████████████████████████████████| 220/220 [01:07<00:00,  3.24it/s, loss=0.236]\n"
     ]
    },
    {
     "name": "stdout",
     "output_type": "stream",
     "text": [
      "Training set: epoch-41 got 161396963/172480000 with acc 93.57%, F1-score 0.84 and loss 0.16078805923461914 \n"
     ]
    },
    {
     "name": "stderr",
     "output_type": "stream",
     "text": [
      "100%|█████████████████████████████████████████████████████████████████████| 220/220 [01:08<00:00,  3.23it/s, loss=0.23]\n"
     ]
    },
    {
     "name": "stdout",
     "output_type": "stream",
     "text": [
      "Training set: epoch-42 got 161608273/172480000 with acc 93.70%, F1-score 0.84 and loss 0.15880684554576874 \n"
     ]
    },
    {
     "name": "stderr",
     "output_type": "stream",
     "text": [
      "100%|████████████████████████████████████████████████████████████████████| 220/220 [01:08<00:00,  3.23it/s, loss=0.231]\n"
     ]
    },
    {
     "name": "stdout",
     "output_type": "stream",
     "text": [
      "Training set: epoch-43 got 161977468/172480000 with acc 93.91%, F1-score 0.85 and loss 0.15404610335826874 \n"
     ]
    },
    {
     "name": "stderr",
     "output_type": "stream",
     "text": [
      "100%|████████████████████████████████████████████████████████████████████| 220/220 [01:07<00:00,  3.24it/s, loss=0.235]\n"
     ]
    },
    {
     "name": "stdout",
     "output_type": "stream",
     "text": [
      "Training set: epoch-44 got 161506214/172480000 with acc 93.64%, F1-score 0.84 and loss 0.15958324074745178 \n"
     ]
    },
    {
     "name": "stderr",
     "output_type": "stream",
     "text": [
      "100%|████████████████████████████████████████████████████████████████████| 220/220 [01:08<00:00,  3.22it/s, loss=0.236]\n"
     ]
    },
    {
     "name": "stdout",
     "output_type": "stream",
     "text": [
      "Training set: epoch-45 got 162005750/172480000 with acc 93.93%, F1-score 0.85 and loss 0.15419365465641022 \n"
     ]
    },
    {
     "name": "stderr",
     "output_type": "stream",
     "text": [
      "100%|████████████████████████████████████████████████████████████████████| 220/220 [01:08<00:00,  3.23it/s, loss=0.227]\n"
     ]
    },
    {
     "name": "stdout",
     "output_type": "stream",
     "text": [
      "Training set: epoch-46 got 162720611/172480000 with acc 94.34%, F1-score 0.86 and loss 0.14403077960014343 \n"
     ]
    },
    {
     "name": "stderr",
     "output_type": "stream",
     "text": [
      "100%|████████████████████████████████████████████████████████████████████| 220/220 [01:07<00:00,  3.24it/s, loss=0.216]\n"
     ]
    },
    {
     "name": "stdout",
     "output_type": "stream",
     "text": [
      "Training set: epoch-47 got 163037124/172480000 with acc 94.53%, F1-score 0.87 and loss 0.1393454223871231 \n"
     ]
    },
    {
     "name": "stderr",
     "output_type": "stream",
     "text": [
      "100%|████████████████████████████████████████████████████████████████████| 220/220 [01:08<00:00,  3.22it/s, loss=0.209]\n"
     ]
    },
    {
     "name": "stdout",
     "output_type": "stream",
     "text": [
      "Training set: epoch-48 got 163167016/172480000 with acc 94.60%, F1-score 0.87 and loss 0.13757804036140442 \n"
     ]
    },
    {
     "name": "stderr",
     "output_type": "stream",
     "text": [
      "100%|████████████████████████████████████████████████████████████████████| 220/220 [01:08<00:00,  3.22it/s, loss=0.208]\n"
     ]
    },
    {
     "name": "stdout",
     "output_type": "stream",
     "text": [
      "Training set: epoch-49 got 163332026/172480000 with acc 94.70%, F1-score 0.87 and loss 0.1346360445022583 \n"
     ]
    },
    {
     "name": "stderr",
     "output_type": "stream",
     "text": [
      "100%|████████████████████████████████████████████████████████████████████| 220/220 [01:08<00:00,  3.22it/s, loss=0.213]\n"
     ]
    },
    {
     "name": "stdout",
     "output_type": "stream",
     "text": [
      "Training set: epoch-50 got 163220414/172480000 with acc 94.63%, F1-score 0.87 and loss 0.13538800179958344 \n"
     ]
    },
    {
     "name": "stderr",
     "output_type": "stream",
     "text": [
      "100%|████████████████████████████████████████████████████████████████████| 220/220 [01:08<00:00,  3.23it/s, loss=0.197]\n"
     ]
    },
    {
     "name": "stdout",
     "output_type": "stream",
     "text": [
      "Training set: epoch-51 got 162667266/172480000 with acc 94.31%, F1-score 0.86 and loss 0.14407940208911896 \n"
     ]
    },
    {
     "name": "stderr",
     "output_type": "stream",
     "text": [
      "100%|████████████████████████████████████████████████████████████████████| 220/220 [01:08<00:00,  3.23it/s, loss=0.196]\n"
     ]
    },
    {
     "name": "stdout",
     "output_type": "stream",
     "text": [
      "Training set: epoch-52 got 163360975/172480000 with acc 94.71%, F1-score 0.87 and loss 0.1336948424577713 \n"
     ]
    },
    {
     "name": "stderr",
     "output_type": "stream",
     "text": [
      "100%|█████████████████████████████████████████████████████████████████████| 220/220 [01:08<00:00,  3.21it/s, loss=0.19]\n"
     ]
    },
    {
     "name": "stdout",
     "output_type": "stream",
     "text": [
      "Training set: epoch-53 got 163814742/172480000 with acc 94.98%, F1-score 0.88 and loss 0.1265968382358551 \n"
     ]
    },
    {
     "name": "stderr",
     "output_type": "stream",
     "text": [
      "100%|████████████████████████████████████████████████████████████████████| 220/220 [01:08<00:00,  3.21it/s, loss=0.184]\n"
     ]
    },
    {
     "name": "stdout",
     "output_type": "stream",
     "text": [
      "Training set: epoch-54 got 164147148/172480000 with acc 95.17%, F1-score 0.88 and loss 0.12187760323286057 \n"
     ]
    },
    {
     "name": "stderr",
     "output_type": "stream",
     "text": [
      "100%|████████████████████████████████████████████████████████████████████| 220/220 [01:08<00:00,  3.22it/s, loss=0.177]\n"
     ]
    },
    {
     "name": "stdout",
     "output_type": "stream",
     "text": [
      "Training set: epoch-55 got 164360169/172480000 with acc 95.29%, F1-score 0.89 and loss 0.11870026588439941 \n"
     ]
    },
    {
     "name": "stderr",
     "output_type": "stream",
     "text": [
      "100%|████████████████████████████████████████████████████████████████████| 220/220 [01:08<00:00,  3.21it/s, loss=0.175]\n"
     ]
    },
    {
     "name": "stdout",
     "output_type": "stream",
     "text": [
      "Training set: epoch-56 got 164477057/172480000 with acc 95.36%, F1-score 0.89 and loss 0.11655686795711517 \n"
     ]
    },
    {
     "name": "stderr",
     "output_type": "stream",
     "text": [
      "100%|████████████████████████████████████████████████████████████████████| 220/220 [01:08<00:00,  3.20it/s, loss=0.174]\n"
     ]
    },
    {
     "name": "stdout",
     "output_type": "stream",
     "text": [
      "Training set: epoch-57 got 164391117/172480000 with acc 95.31%, F1-score 0.89 and loss 0.11748741567134857 \n"
     ]
    },
    {
     "name": "stderr",
     "output_type": "stream",
     "text": [
      "100%|████████████████████████████████████████████████████████████████████| 220/220 [01:08<00:00,  3.19it/s, loss=0.168]\n"
     ]
    },
    {
     "name": "stdout",
     "output_type": "stream",
     "text": [
      "Training set: epoch-58 got 164336830/172480000 with acc 95.28%, F1-score 0.88 and loss 0.11778631806373596 \n"
     ]
    },
    {
     "name": "stderr",
     "output_type": "stream",
     "text": [
      "100%|████████████████████████████████████████████████████████████████████| 220/220 [01:08<00:00,  3.19it/s, loss=0.166]\n"
     ]
    },
    {
     "name": "stdout",
     "output_type": "stream",
     "text": [
      "Training set: epoch-59 got 164645614/172480000 with acc 95.46%, F1-score 0.89 and loss 0.1138095110654831 \n"
     ]
    },
    {
     "name": "stderr",
     "output_type": "stream",
     "text": [
      "100%|████████████████████████████████████████████████████████████████████| 220/220 [01:08<00:00,  3.19it/s, loss=0.206]\n"
     ]
    },
    {
     "name": "stdout",
     "output_type": "stream",
     "text": [
      "Training set: epoch-60 got 163687231/172480000 with acc 94.90%, F1-score 0.88 and loss 0.1272401511669159 \n"
     ]
    },
    {
     "name": "stderr",
     "output_type": "stream",
     "text": [
      "100%|████████████████████████████████████████████████████████████████████| 220/220 [01:08<00:00,  3.20it/s, loss=0.201]\n"
     ]
    },
    {
     "name": "stdout",
     "output_type": "stream",
     "text": [
      "Training set: epoch-61 got 163542380/172480000 with acc 94.82%, F1-score 0.87 and loss 0.1288379430770874 \n"
     ]
    },
    {
     "name": "stderr",
     "output_type": "stream",
     "text": [
      "100%|████████████████████████████████████████████████████████████████████| 220/220 [01:08<00:00,  3.21it/s, loss=0.173]\n"
     ]
    },
    {
     "name": "stdout",
     "output_type": "stream",
     "text": [
      "Training set: epoch-62 got 164087032/172480000 with acc 95.13%, F1-score 0.88 and loss 0.12162955850362778 \n",
      "Epoch 00062: reducing learning rate of group 0 to 1.5811e-04.\n"
     ]
    },
    {
     "name": "stderr",
     "output_type": "stream",
     "text": [
      "100%|████████████████████████████████████████████████████████████████████| 220/220 [01:08<00:00,  3.21it/s, loss=0.166]\n"
     ]
    },
    {
     "name": "stdout",
     "output_type": "stream",
     "text": [
      "Training set: epoch-63 got 164407259/172480000 with acc 95.32%, F1-score 0.89 and loss 0.1172962337732315 \n"
     ]
    },
    {
     "name": "stderr",
     "output_type": "stream",
     "text": [
      "100%|█████████████████████████████████████████████████████████████████████| 220/220 [01:08<00:00,  3.21it/s, loss=0.16]\n"
     ]
    },
    {
     "name": "stdout",
     "output_type": "stream",
     "text": [
      "Training set: epoch-64 got 165168676/172480000 with acc 95.76%, F1-score 0.90 and loss 0.10568756610155106 \n"
     ]
    },
    {
     "name": "stderr",
     "output_type": "stream",
     "text": [
      "100%|████████████████████████████████████████████████████████████████████| 220/220 [01:08<00:00,  3.21it/s, loss=0.159]\n"
     ]
    },
    {
     "name": "stdout",
     "output_type": "stream",
     "text": [
      "Training set: epoch-65 got 165555062/172480000 with acc 95.99%, F1-score 0.90 and loss 0.10003674030303955 \n"
     ]
    },
    {
     "name": "stderr",
     "output_type": "stream",
     "text": [
      "100%|████████████████████████████████████████████████████████████████████| 220/220 [01:08<00:00,  3.21it/s, loss=0.158]\n"
     ]
    },
    {
     "name": "stdout",
     "output_type": "stream",
     "text": [
      "Training set: epoch-66 got 165807056/172480000 with acc 96.13%, F1-score 0.91 and loss 0.0962577611207962 \n"
     ]
    },
    {
     "name": "stderr",
     "output_type": "stream",
     "text": [
      "100%|████████████████████████████████████████████████████████████████████| 220/220 [01:08<00:00,  3.22it/s, loss=0.154]\n"
     ]
    },
    {
     "name": "stdout",
     "output_type": "stream",
     "text": [
      "Training set: epoch-67 got 166008187/172480000 with acc 96.25%, F1-score 0.91 and loss 0.09315455704927444 \n"
     ]
    },
    {
     "name": "stderr",
     "output_type": "stream",
     "text": [
      "100%|█████████████████████████████████████████████████████████████████████| 220/220 [01:08<00:00,  3.21it/s, loss=0.15]\n"
     ]
    },
    {
     "name": "stdout",
     "output_type": "stream",
     "text": [
      "Training set: epoch-68 got 166184670/172480000 with acc 96.35%, F1-score 0.91 and loss 0.09040096402168274 \n"
     ]
    },
    {
     "name": "stderr",
     "output_type": "stream",
     "text": [
      "100%|████████████████████████████████████████████████████████████████████| 220/220 [01:08<00:00,  3.19it/s, loss=0.145]\n"
     ]
    },
    {
     "name": "stdout",
     "output_type": "stream",
     "text": [
      "Training set: epoch-69 got 166353199/172480000 with acc 96.45%, F1-score 0.91 and loss 0.08782151341438293 \n"
     ]
    },
    {
     "name": "stderr",
     "output_type": "stream",
     "text": [
      "100%|█████████████████████████████████████████████████████████████████████| 220/220 [01:09<00:00,  3.17it/s, loss=0.14]\n"
     ]
    },
    {
     "name": "stdout",
     "output_type": "stream",
     "text": [
      "Training set: epoch-70 got 166513805/172480000 with acc 96.54%, F1-score 0.92 and loss 0.08537579327821732 \n"
     ]
    },
    {
     "name": "stderr",
     "output_type": "stream",
     "text": [
      "100%|████████████████████████████████████████████████████████████████████| 220/220 [01:08<00:00,  3.21it/s, loss=0.135]\n"
     ]
    },
    {
     "name": "stdout",
     "output_type": "stream",
     "text": [
      "Training set: epoch-71 got 166671456/172480000 with acc 96.63%, F1-score 0.92 and loss 0.08301512897014618 \n"
     ]
    },
    {
     "name": "stderr",
     "output_type": "stream",
     "text": [
      "100%|████████████████████████████████████████████████████████████████████| 220/220 [01:09<00:00,  3.15it/s, loss=0.128]\n"
     ]
    },
    {
     "name": "stdout",
     "output_type": "stream",
     "text": [
      "Training set: epoch-72 got 166825043/172480000 with acc 96.72%, F1-score 0.92 and loss 0.08070486038923264 \n"
     ]
    },
    {
     "name": "stderr",
     "output_type": "stream",
     "text": [
      "100%|████████████████████████████████████████████████████████████████████| 220/220 [01:08<00:00,  3.19it/s, loss=0.122]\n"
     ]
    },
    {
     "name": "stdout",
     "output_type": "stream",
     "text": [
      "Training set: epoch-73 got 166973757/172480000 with acc 96.81%, F1-score 0.92 and loss 0.07847878336906433 \n"
     ]
    },
    {
     "name": "stderr",
     "output_type": "stream",
     "text": [
      "100%|████████████████████████████████████████████████████████████████████| 220/220 [01:09<00:00,  3.19it/s, loss=0.116]\n"
     ]
    },
    {
     "name": "stdout",
     "output_type": "stream",
     "text": [
      "Training set: epoch-74 got 167120457/172480000 with acc 96.89%, F1-score 0.92 and loss 0.07630854099988937 \n"
     ]
    },
    {
     "name": "stderr",
     "output_type": "stream",
     "text": [
      "100%|█████████████████████████████████████████████████████████████████████| 220/220 [01:08<00:00,  3.20it/s, loss=0.11]\n"
     ]
    },
    {
     "name": "stdout",
     "output_type": "stream",
     "text": [
      "Training set: epoch-75 got 167264455/172480000 with acc 96.98%, F1-score 0.93 and loss 0.07418130338191986 \n"
     ]
    },
    {
     "name": "stderr",
     "output_type": "stream",
     "text": [
      "100%|████████████████████████████████████████████████████████████████████| 220/220 [01:08<00:00,  3.20it/s, loss=0.104]\n"
     ]
    },
    {
     "name": "stdout",
     "output_type": "stream",
     "text": [
      "Training set: epoch-76 got 167405488/172480000 with acc 97.06%, F1-score 0.93 and loss 0.07209527492523193 \n"
     ]
    },
    {
     "name": "stderr",
     "output_type": "stream",
     "text": [
      "100%|███████████████████████████████████████████████████████████████████| 220/220 [01:09<00:00,  3.18it/s, loss=0.0988]\n"
     ]
    },
    {
     "name": "stdout",
     "output_type": "stream",
     "text": [
      "Training set: epoch-77 got 167543210/172480000 with acc 97.14%, F1-score 0.93 and loss 0.0700538381934166 \n"
     ]
    },
    {
     "name": "stderr",
     "output_type": "stream",
     "text": [
      "100%|███████████████████████████████████████████████████████████████████| 220/220 [01:09<00:00,  3.17it/s, loss=0.0938]\n"
     ]
    },
    {
     "name": "stdout",
     "output_type": "stream",
     "text": [
      "Training set: epoch-78 got 167682691/172480000 with acc 97.22%, F1-score 0.93 and loss 0.06800370663404465 \n"
     ]
    },
    {
     "name": "stderr",
     "output_type": "stream",
     "text": [
      "100%|███████████████████████████████████████████████████████████████████| 220/220 [01:09<00:00,  3.17it/s, loss=0.0897]\n"
     ]
    },
    {
     "name": "stdout",
     "output_type": "stream",
     "text": [
      "Training set: epoch-79 got 167811608/172480000 with acc 97.29%, F1-score 0.93 and loss 0.06609956920146942 \n"
     ]
    },
    {
     "name": "stderr",
     "output_type": "stream",
     "text": [
      "100%|███████████████████████████████████████████████████████████████████| 220/220 [01:09<00:00,  3.18it/s, loss=0.0864]\n"
     ]
    },
    {
     "name": "stdout",
     "output_type": "stream",
     "text": [
      "Training set: epoch-80 got 167902354/172480000 with acc 97.35%, F1-score 0.94 and loss 0.06466693431138992 \n"
     ]
    },
    {
     "name": "stderr",
     "output_type": "stream",
     "text": [
      "100%|███████████████████████████████████████████████████████████████████| 220/220 [01:09<00:00,  3.18it/s, loss=0.0839]\n"
     ]
    },
    {
     "name": "stdout",
     "output_type": "stream",
     "text": [
      "Training set: epoch-81 got 167924286/172480000 with acc 97.36%, F1-score 0.94 and loss 0.06429427862167358 \n"
     ]
    },
    {
     "name": "stderr",
     "output_type": "stream",
     "text": [
      "100%|███████████████████████████████████████████████████████████████████| 220/220 [01:09<00:00,  3.16it/s, loss=0.0841]\n"
     ]
    },
    {
     "name": "stdout",
     "output_type": "stream",
     "text": [
      "Training set: epoch-82 got 167997513/172480000 with acc 97.40%, F1-score 0.94 and loss 0.06300284713506699 \n"
     ]
    },
    {
     "name": "stderr",
     "output_type": "stream",
     "text": [
      "100%|███████████████████████████████████████████████████████████████████| 220/220 [01:09<00:00,  3.16it/s, loss=0.0856]\n"
     ]
    },
    {
     "name": "stdout",
     "output_type": "stream",
     "text": [
      "Training set: epoch-83 got 168050315/172480000 with acc 97.43%, F1-score 0.94 and loss 0.062246326357126236 \n"
     ]
    },
    {
     "name": "stderr",
     "output_type": "stream",
     "text": [
      "100%|███████████████████████████████████████████████████████████████████| 220/220 [01:09<00:00,  3.17it/s, loss=0.0886]\n"
     ]
    },
    {
     "name": "stdout",
     "output_type": "stream",
     "text": [
      "Training set: epoch-84 got 168060545/172480000 with acc 97.44%, F1-score 0.94 and loss 0.06220400705933571 \n"
     ]
    },
    {
     "name": "stderr",
     "output_type": "stream",
     "text": [
      "100%|███████████████████████████████████████████████████████████████████| 220/220 [01:09<00:00,  3.17it/s, loss=0.0783]\n"
     ]
    },
    {
     "name": "stdout",
     "output_type": "stream",
     "text": [
      "Training set: epoch-85 got 168141500/172480000 with acc 97.48%, F1-score 0.94 and loss 0.060877591371536255 \n"
     ]
    },
    {
     "name": "stderr",
     "output_type": "stream",
     "text": [
      "100%|████████████████████████████████████████████████████████████████████| 220/220 [01:09<00:00,  3.16it/s, loss=0.075]\n"
     ]
    },
    {
     "name": "stdout",
     "output_type": "stream",
     "text": [
      "Training set: epoch-86 got 168362898/172480000 with acc 97.61%, F1-score 0.94 and loss 0.0577191561460495 \n"
     ]
    },
    {
     "name": "stderr",
     "output_type": "stream",
     "text": [
      "100%|███████████████████████████████████████████████████████████████████| 220/220 [01:09<00:00,  3.18it/s, loss=0.0694]\n"
     ]
    },
    {
     "name": "stdout",
     "output_type": "stream",
     "text": [
      "Training set: epoch-87 got 168531073/172480000 with acc 97.71%, F1-score 0.94 and loss 0.05539600923657417 \n"
     ]
    },
    {
     "name": "stderr",
     "output_type": "stream",
     "text": [
      "100%|███████████████████████████████████████████████████████████████████| 220/220 [01:09<00:00,  3.16it/s, loss=0.0691]\n"
     ]
    },
    {
     "name": "stdout",
     "output_type": "stream",
     "text": [
      "Training set: epoch-88 got 168626368/172480000 with acc 97.77%, F1-score 0.95 and loss 0.05399540439248085 \n"
     ]
    },
    {
     "name": "stderr",
     "output_type": "stream",
     "text": [
      "100%|████████████████████████████████████████████████████████████████████| 220/220 [01:09<00:00,  3.16it/s, loss=0.066]\n"
     ]
    },
    {
     "name": "stdout",
     "output_type": "stream",
     "text": [
      "Training set: epoch-89 got 168665047/172480000 with acc 97.79%, F1-score 0.95 and loss 0.05337386578321457 \n"
     ]
    },
    {
     "name": "stderr",
     "output_type": "stream",
     "text": [
      "100%|███████████████████████████████████████████████████████████████████| 220/220 [01:09<00:00,  3.16it/s, loss=0.0659]\n"
     ]
    },
    {
     "name": "stdout",
     "output_type": "stream",
     "text": [
      "Training set: epoch-90 got 168733664/172480000 with acc 97.83%, F1-score 0.95 and loss 0.05241190269589424 \n"
     ]
    },
    {
     "name": "stderr",
     "output_type": "stream",
     "text": [
      "100%|███████████████████████████████████████████████████████████████████| 220/220 [01:09<00:00,  3.17it/s, loss=0.0708]\n"
     ]
    },
    {
     "name": "stdout",
     "output_type": "stream",
     "text": [
      "Training set: epoch-91 got 168557599/172480000 with acc 97.73%, F1-score 0.95 and loss 0.05472997575998306 \n"
     ]
    },
    {
     "name": "stderr",
     "output_type": "stream",
     "text": [
      "100%|███████████████████████████████████████████████████████████████████| 220/220 [01:09<00:00,  3.17it/s, loss=0.0893]\n"
     ]
    },
    {
     "name": "stdout",
     "output_type": "stream",
     "text": [
      "Training set: epoch-92 got 168547252/172480000 with acc 97.72%, F1-score 0.95 and loss 0.05474038049578667 \n"
     ]
    },
    {
     "name": "stderr",
     "output_type": "stream",
     "text": [
      "100%|███████████████████████████████████████████████████████████████████| 220/220 [01:09<00:00,  3.16it/s, loss=0.0669]\n"
     ]
    },
    {
     "name": "stdout",
     "output_type": "stream",
     "text": [
      "Training set: epoch-93 got 168757710/172480000 with acc 97.84%, F1-score 0.95 and loss 0.051985859870910645 \n"
     ]
    },
    {
     "name": "stderr",
     "output_type": "stream",
     "text": [
      "100%|███████████████████████████████████████████████████████████████████| 220/220 [01:09<00:00,  3.16it/s, loss=0.0652]\n"
     ]
    },
    {
     "name": "stdout",
     "output_type": "stream",
     "text": [
      "Training set: epoch-94 got 168809730/172480000 with acc 97.87%, F1-score 0.95 and loss 0.051163624972105026 \n"
     ]
    },
    {
     "name": "stderr",
     "output_type": "stream",
     "text": [
      "100%|███████████████████████████████████████████████████████████████████| 220/220 [01:09<00:00,  3.16it/s, loss=0.0603]\n"
     ]
    },
    {
     "name": "stdout",
     "output_type": "stream",
     "text": [
      "Training set: epoch-95 got 168890641/172480000 with acc 97.92%, F1-score 0.95 and loss 0.05006440356373787 \n"
     ]
    },
    {
     "name": "stderr",
     "output_type": "stream",
     "text": [
      "100%|███████████████████████████████████████████████████████████████████| 220/220 [01:09<00:00,  3.14it/s, loss=0.0605]\n"
     ]
    },
    {
     "name": "stdout",
     "output_type": "stream",
     "text": [
      "Training set: epoch-96 got 169085938/172480000 with acc 98.03%, F1-score 0.95 and loss 0.047286566346883774 \n"
     ]
    },
    {
     "name": "stderr",
     "output_type": "stream",
     "text": [
      "100%|████████████████████████████████████████████████████████████████████| 220/220 [01:09<00:00,  3.15it/s, loss=0.057]\n"
     ]
    },
    {
     "name": "stdout",
     "output_type": "stream",
     "text": [
      "Training set: epoch-97 got 169128940/172480000 with acc 98.06%, F1-score 0.95 and loss 0.046643927693367004 \n"
     ]
    },
    {
     "name": "stderr",
     "output_type": "stream",
     "text": [
      "100%|███████████████████████████████████████████████████████████████████| 220/220 [01:09<00:00,  3.15it/s, loss=0.0559]\n"
     ]
    },
    {
     "name": "stdout",
     "output_type": "stream",
     "text": [
      "Training set: epoch-98 got 169195370/172480000 with acc 98.10%, F1-score 0.95 and loss 0.04562212899327278 \n"
     ]
    },
    {
     "name": "stderr",
     "output_type": "stream",
     "text": [
      "100%|███████████████████████████████████████████████████████████████████| 220/220 [01:09<00:00,  3.17it/s, loss=0.0578]\n"
     ]
    },
    {
     "name": "stdout",
     "output_type": "stream",
     "text": [
      "Training set: epoch-99 got 169180427/172480000 with acc 98.09%, F1-score 0.95 and loss 0.0459107831120491 \n"
     ]
    },
    {
     "name": "stderr",
     "output_type": "stream",
     "text": [
      "100%|███████████████████████████████████████████████████████████████████| 220/220 [01:09<00:00,  3.16it/s, loss=0.0617]\n"
     ]
    },
    {
     "name": "stdout",
     "output_type": "stream",
     "text": [
      "Training set: epoch-100 got 169102595/172480000 with acc 98.04%, F1-score 0.95 and loss 0.04688608646392822 \n"
     ]
    },
    {
     "name": "stderr",
     "output_type": "stream",
     "text": [
      "100%|███████████████████████████████████████████████████████████████████| 220/220 [01:09<00:00,  3.17it/s, loss=0.0637]\n"
     ]
    },
    {
     "name": "stdout",
     "output_type": "stream",
     "text": [
      "Training set: epoch-101 got 169181615/172480000 with acc 98.09%, F1-score 0.95 and loss 0.04603267461061478 \n",
      "Epoch 00101: reducing learning rate of group 0 to 5.0000e-05.\n"
     ]
    },
    {
     "name": "stderr",
     "output_type": "stream",
     "text": [
      "100%|███████████████████████████████████████████████████████████████████| 220/220 [01:09<00:00,  3.15it/s, loss=0.0743]\n"
     ]
    },
    {
     "name": "stdout",
     "output_type": "stream",
     "text": [
      "Training set: epoch-102 got 168959481/172480000 with acc 97.96%, F1-score 0.95 and loss 0.0485958456993103 \n"
     ]
    },
    {
     "name": "stderr",
     "output_type": "stream",
     "text": [
      "100%|███████████████████████████████████████████████████████████████████| 220/220 [01:10<00:00,  3.12it/s, loss=0.0625]\n"
     ]
    },
    {
     "name": "stdout",
     "output_type": "stream",
     "text": [
      "Training set: epoch-103 got 169130246/172480000 with acc 98.06%, F1-score 0.95 and loss 0.04622020199894905 \n"
     ]
    },
    {
     "name": "stderr",
     "output_type": "stream",
     "text": [
      "100%|███████████████████████████████████████████████████████████████████| 220/220 [01:09<00:00,  3.14it/s, loss=0.0553]\n"
     ]
    },
    {
     "name": "stdout",
     "output_type": "stream",
     "text": [
      "Training set: epoch-104 got 169292030/172480000 with acc 98.15%, F1-score 0.96 and loss 0.04402085393667221 \n"
     ]
    },
    {
     "name": "stderr",
     "output_type": "stream",
     "text": [
      "100%|███████████████████████████████████████████████████████████████████| 220/220 [01:09<00:00,  3.15it/s, loss=0.0518]\n"
     ]
    },
    {
     "name": "stdout",
     "output_type": "stream",
     "text": [
      "Training set: epoch-105 got 169418684/172480000 with acc 98.23%, F1-score 0.96 and loss 0.042291440069675446 \n"
     ]
    },
    {
     "name": "stderr",
     "output_type": "stream",
     "text": [
      "100%|███████████████████████████████████████████████████████████████████| 220/220 [01:09<00:00,  3.15it/s, loss=0.0497]\n"
     ]
    },
    {
     "name": "stdout",
     "output_type": "stream",
     "text": [
      "Training set: epoch-106 got 169522595/172480000 with acc 98.29%, F1-score 0.96 and loss 0.040925171226263046 \n"
     ]
    },
    {
     "name": "stderr",
     "output_type": "stream",
     "text": [
      "100%|███████████████████████████████████████████████████████████████████| 220/220 [01:09<00:00,  3.16it/s, loss=0.0478]\n"
     ]
    },
    {
     "name": "stdout",
     "output_type": "stream",
     "text": [
      "Training set: epoch-107 got 169612478/172480000 with acc 98.34%, F1-score 0.96 and loss 0.03973112255334854 \n"
     ]
    },
    {
     "name": "stderr",
     "output_type": "stream",
     "text": [
      "100%|███████████████████████████████████████████████████████████████████| 220/220 [01:09<00:00,  3.16it/s, loss=0.0462]\n"
     ]
    },
    {
     "name": "stdout",
     "output_type": "stream",
     "text": [
      "Training set: epoch-108 got 169691172/172480000 with acc 98.38%, F1-score 0.96 and loss 0.03867659345269203 \n"
     ]
    },
    {
     "name": "stderr",
     "output_type": "stream",
     "text": [
      "100%|███████████████████████████████████████████████████████████████████| 220/220 [01:09<00:00,  3.15it/s, loss=0.0448]\n"
     ]
    },
    {
     "name": "stdout",
     "output_type": "stream",
     "text": [
      "Training set: epoch-109 got 169764193/172480000 with acc 98.43%, F1-score 0.96 and loss 0.037707727402448654 \n"
     ]
    },
    {
     "name": "stderr",
     "output_type": "stream",
     "text": [
      "100%|███████████████████████████████████████████████████████████████████| 220/220 [01:09<00:00,  3.15it/s, loss=0.0435]\n"
     ]
    },
    {
     "name": "stdout",
     "output_type": "stream",
     "text": [
      "Training set: epoch-110 got 169832672/172480000 with acc 98.47%, F1-score 0.96 and loss 0.03680380433797836 \n"
     ]
    },
    {
     "name": "stderr",
     "output_type": "stream",
     "text": [
      "100%|███████████████████████████████████████████████████████████████████| 220/220 [01:09<00:00,  3.15it/s, loss=0.0423]\n"
     ]
    },
    {
     "name": "stdout",
     "output_type": "stream",
     "text": [
      "Training set: epoch-111 got 169895508/172480000 with acc 98.50%, F1-score 0.96 and loss 0.03596065938472748 \n"
     ]
    },
    {
     "name": "stderr",
     "output_type": "stream",
     "text": [
      "100%|███████████████████████████████████████████████████████████████████| 220/220 [01:09<00:00,  3.15it/s, loss=0.0411]\n"
     ]
    },
    {
     "name": "stdout",
     "output_type": "stream",
     "text": [
      "Training set: epoch-112 got 169956310/172480000 with acc 98.54%, F1-score 0.96 and loss 0.03515136241912842 \n"
     ]
    },
    {
     "name": "stderr",
     "output_type": "stream",
     "text": [
      "100%|███████████████████████████████████████████████████████████████████| 220/220 [01:09<00:00,  3.15it/s, loss=0.0401]\n"
     ]
    },
    {
     "name": "stdout",
     "output_type": "stream",
     "text": [
      "Training set: epoch-113 got 170014347/172480000 with acc 98.57%, F1-score 0.97 and loss 0.03438239544630051 \n"
     ]
    },
    {
     "name": "stderr",
     "output_type": "stream",
     "text": [
      "100%|███████████████████████████████████████████████████████████████████| 220/220 [01:09<00:00,  3.15it/s, loss=0.0391]\n"
     ]
    },
    {
     "name": "stdout",
     "output_type": "stream",
     "text": [
      "Training set: epoch-114 got 170070734/172480000 with acc 98.60%, F1-score 0.97 and loss 0.0336456298828125 \n"
     ]
    },
    {
     "name": "stderr",
     "output_type": "stream",
     "text": [
      "100%|███████████████████████████████████████████████████████████████████| 220/220 [01:09<00:00,  3.16it/s, loss=0.0383]\n"
     ]
    },
    {
     "name": "stdout",
     "output_type": "stream",
     "text": [
      "Training set: epoch-115 got 170121792/172480000 with acc 98.63%, F1-score 0.97 and loss 0.032957036048173904 \n"
     ]
    },
    {
     "name": "stderr",
     "output_type": "stream",
     "text": [
      "100%|███████████████████████████████████████████████████████████████████| 220/220 [01:10<00:00,  3.13it/s, loss=0.0374]\n"
     ]
    },
    {
     "name": "stdout",
     "output_type": "stream",
     "text": [
      "Training set: epoch-116 got 170170820/172480000 with acc 98.66%, F1-score 0.97 and loss 0.03231094405055046 \n"
     ]
    },
    {
     "name": "stderr",
     "output_type": "stream",
     "text": [
      "100%|████████████████████████████████████████████████████████████████████| 220/220 [01:10<00:00,  3.14it/s, loss=0.037]\n"
     ]
    },
    {
     "name": "stdout",
     "output_type": "stream",
     "text": [
      "Training set: epoch-117 got 170212199/172480000 with acc 98.69%, F1-score 0.97 and loss 0.03172541782259941 \n"
     ]
    },
    {
     "name": "stderr",
     "output_type": "stream",
     "text": [
      "100%|███████████████████████████████████████████████████████████████████| 220/220 [01:10<00:00,  3.12it/s, loss=0.0364]\n"
     ]
    },
    {
     "name": "stdout",
     "output_type": "stream",
     "text": [
      "Training set: epoch-118 got 170248841/172480000 with acc 98.71%, F1-score 0.97 and loss 0.0312319565564394 \n"
     ]
    },
    {
     "name": "stderr",
     "output_type": "stream",
     "text": [
      "100%|███████████████████████████████████████████████████████████████████| 220/220 [01:10<00:00,  3.13it/s, loss=0.0364]\n"
     ]
    },
    {
     "name": "stdout",
     "output_type": "stream",
     "text": [
      "Training set: epoch-119 got 170269876/172480000 with acc 98.72%, F1-score 0.97 and loss 0.030897313728928566 \n"
     ]
    },
    {
     "name": "stderr",
     "output_type": "stream",
     "text": [
      "100%|███████████████████████████████████████████████████████████████████| 220/220 [01:10<00:00,  3.11it/s, loss=0.0352]\n"
     ]
    },
    {
     "name": "stdout",
     "output_type": "stream",
     "text": [
      "Training set: epoch-120 got 170307138/172480000 with acc 98.74%, F1-score 0.97 and loss 0.030380938202142715 \n"
     ]
    },
    {
     "name": "stderr",
     "output_type": "stream",
     "text": [
      "100%|███████████████████████████████████████████████████████████████████| 220/220 [01:10<00:00,  3.13it/s, loss=0.0363]\n"
     ]
    },
    {
     "name": "stdout",
     "output_type": "stream",
     "text": [
      "Training set: epoch-121 got 170337201/172480000 with acc 98.76%, F1-score 0.97 and loss 0.029966693371534348 \n"
     ]
    },
    {
     "name": "stderr",
     "output_type": "stream",
     "text": [
      "100%|███████████████████████████████████████████████████████████████████| 220/220 [01:09<00:00,  3.14it/s, loss=0.0356]\n"
     ]
    },
    {
     "name": "stdout",
     "output_type": "stream",
     "text": [
      "Training set: epoch-122 got 170339203/172480000 with acc 98.76%, F1-score 0.97 and loss 0.02986345812678337 \n"
     ]
    },
    {
     "name": "stderr",
     "output_type": "stream",
     "text": [
      "100%|███████████████████████████████████████████████████████████████████| 220/220 [01:10<00:00,  3.14it/s, loss=0.0394]\n"
     ]
    },
    {
     "name": "stdout",
     "output_type": "stream",
     "text": [
      "Training set: epoch-123 got 170283142/172480000 with acc 98.73%, F1-score 0.97 and loss 0.030617373064160347 \n"
     ]
    },
    {
     "name": "stderr",
     "output_type": "stream",
     "text": [
      "100%|███████████████████████████████████████████████████████████████████| 220/220 [01:11<00:00,  3.08it/s, loss=0.0355]\n"
     ]
    },
    {
     "name": "stdout",
     "output_type": "stream",
     "text": [
      "Training set: epoch-124 got 170282070/172480000 with acc 98.73%, F1-score 0.97 and loss 0.030546141788363457 \n",
      "Epoch 00124: reducing learning rate of group 0 to 1.5811e-05.\n"
     ]
    },
    {
     "name": "stderr",
     "output_type": "stream",
     "text": [
      "100%|███████████████████████████████████████████████████████████████████| 220/220 [01:11<00:00,  3.10it/s, loss=0.0413]\n"
     ]
    },
    {
     "name": "stdout",
     "output_type": "stream",
     "text": [
      "Training set: epoch-125 got 169983180/172480000 with acc 98.55%, F1-score 0.97 and loss 0.03446543216705322 \n"
     ]
    },
    {
     "name": "stderr",
     "output_type": "stream",
     "text": [
      "100%|████████████████████████████████████████████████████████████████████| 220/220 [01:10<00:00,  3.11it/s, loss=0.039]\n"
     ]
    },
    {
     "name": "stdout",
     "output_type": "stream",
     "text": [
      "Training set: epoch-126 got 170076176/172480000 with acc 98.61%, F1-score 0.97 and loss 0.0330624058842659 \n"
     ]
    },
    {
     "name": "stderr",
     "output_type": "stream",
     "text": [
      "100%|███████████████████████████████████████████████████████████████████| 220/220 [01:10<00:00,  3.10it/s, loss=0.0377]\n"
     ]
    },
    {
     "name": "stdout",
     "output_type": "stream",
     "text": [
      "Training set: epoch-127 got 170152046/172480000 with acc 98.65%, F1-score 0.97 and loss 0.032026056200265884 \n",
      "Epoch 00127: reducing learning rate of group 0 to 5.0000e-06.\n"
     ]
    },
    {
     "name": "stderr",
     "output_type": "stream",
     "text": [
      "100%|███████████████████████████████████████████████████████████████████| 220/220 [01:10<00:00,  3.11it/s, loss=0.0447]\n"
     ]
    },
    {
     "name": "stdout",
     "output_type": "stream",
     "text": [
      "Training set: epoch-128 got 170108240/172480000 with acc 98.62%, F1-score 0.97 and loss 0.03253374993801117 \n"
     ]
    },
    {
     "name": "stderr",
     "output_type": "stream",
     "text": [
      "100%|███████████████████████████████████████████████████████████████████| 220/220 [01:10<00:00,  3.10it/s, loss=0.0433]\n"
     ]
    },
    {
     "name": "stdout",
     "output_type": "stream",
     "text": [
      "Training set: epoch-129 got 170187920/172480000 with acc 98.67%, F1-score 0.97 and loss 0.031484100967645645 \n"
     ]
    },
    {
     "name": "stderr",
     "output_type": "stream",
     "text": [
      "100%|███████████████████████████████████████████████████████████████████| 220/220 [01:10<00:00,  3.10it/s, loss=0.0421]\n"
     ]
    },
    {
     "name": "stdout",
     "output_type": "stream",
     "text": [
      "Training set: epoch-130 got 170223880/172480000 with acc 98.69%, F1-score 0.97 and loss 0.031009061262011528 \n",
      "Epoch 00130: reducing learning rate of group 0 to 1.5811e-06.\n"
     ]
    }
   ],
   "source": [
    "dict_train ={\"save_model\": True,\n",
    "             'num_model': 4,\n",
    "            \"cross_val\": False,\n",
    "            \"skip_connection\": True,\n",
    "            \"num_epochs\": 130,\n",
    "            \"n_splits\": 1,\n",
    "            \"batch_size\": 10,\n",
    "            \"scale_channel\": 1,\n",
    "            \"dict_double_conv\": {\"BatchNorm\": True,\n",
    "                \"activation\": nn.ELU(inplace=True),\n",
    "                \"p_dropout\": 0.0,\n",
    "                \"use_dropout\": False,\n",
    "                \"bias\": False},\n",
    "            \"dict_ups\": {\"BatchNorm\": False,\n",
    "                \"p_dropout\": 0.2,\n",
    "                \"use_dropout\": False,\n",
    "                \"bias\": False},\n",
    "            \"loss\": nn.BCEWithLogitsLoss(),\n",
    "            \"optimizer\": optim.Adam,\n",
    "            \"param_optimizer\": {\"weight_decay\": 1e-05,\n",
    "                               \"lr\": 5e-04},\n",
    "            \"use_scheduler\": True,\n",
    "            \"type_scheduler\": \"ReduceLROnPlateau\",\n",
    "            \"scheduler\": torch.optim.lr_scheduler.ReduceLROnPlateau,\n",
    "            \"param_scheduler\": {\"mode\": 'max',\n",
    "                               \"factor\": 1./np.sqrt(10),\n",
    "                               'min_lr': 1e-07,\n",
    "                               'patience': 2,\n",
    "                               'verbose': True},\n",
    "             \"scaler\": torch.cuda.amp.GradScaler(),\n",
    "             \"device\": DEVICE\n",
    "            }\n",
    "\n",
    "experiment_final2 = {\"param\": dict_train}\n",
    "experiment_final2[\"convergence_path\"] = run_training(dict_train) \n",
    "\n",
    "\n",
    "f = open(\"result_exp/experiment_final4.pkl\",\"wb\")\n",
    "pickle.dump(experiment_final2,f)\n",
    "f.close()"
   ]
  },
  {
   "cell_type": "code",
   "execution_count": null,
   "id": "67990af8",
   "metadata": {},
   "outputs": [],
   "source": []
  }
 ],
 "metadata": {
  "kernelspec": {
   "display_name": "Python 3 (ipykernel)",
   "language": "python",
   "name": "python3"
  },
  "language_info": {
   "codemirror_mode": {
    "name": "ipython",
    "version": 3
   },
   "file_extension": ".py",
   "mimetype": "text/x-python",
   "name": "python",
   "nbconvert_exporter": "python",
   "pygments_lexer": "ipython3",
   "version": "3.9.12"
  }
 },
 "nbformat": 4,
 "nbformat_minor": 5
}
