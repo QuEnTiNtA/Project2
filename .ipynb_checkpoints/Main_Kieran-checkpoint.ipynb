{
 "cells": [
  {
   "cell_type": "code",
   "execution_count": 11,
   "id": "4658cc4a",
   "metadata": {},
   "outputs": [],
   "source": [
    "import os\n",
    "from PIL import Image\n",
    "import numpy as np\n",
    "import torch\n",
    "import torchvision\n",
    "from torch.utils.data import Dataset, DataLoader, random_split\n",
    "import albumentations as A\n",
    "from albumentations.pytorch import ToTensorV2\n",
    "import torch.nn as nn\n",
    "import torchvision.transforms.functional as TF\n",
    "from tqdm import tqdm\n",
    "import torch.optim as optim\n",
    "\n",
    "from Network import *\n",
    "\n",
    "\n",
    "%load_ext autoreload\n",
    "%autoreload 2\n",
    "\n"
   ]
  },
  {
   "cell_type": "code",
   "execution_count": 12,
   "id": "c644ebe5",
   "metadata": {},
   "outputs": [],
   "source": [
    "class RoadDataset(Dataset):\n",
    "    def __init__(self, image_dir, mask_dir, transform=None):\n",
    "        self.image_dir = image_dir\n",
    "        self.mask_dir = mask_dir\n",
    "        self.transform = transform\n",
    "        self.images = os.listdir(image_dir)\n",
    "\n",
    "    def __len__(self):\n",
    "        return len(self.images)\n",
    "\n",
    "    def __getitem__(self, index):\n",
    "        img_path = os.path.join(self.image_dir, self.images[index])\n",
    "        mask_path = os.path.join(self.mask_dir, self.images[index])\n",
    "        image = np.array(Image.open(img_path).convert(\"RGB\"))\n",
    "        mask = np.array(Image.open(mask_path).convert(\"L\"), dtype=np.float32) # grayscale\n",
    "        mask = np.where(mask > 4.0, 1.0, 0.0)\n",
    "       \n",
    "        if self.transform is not None:\n",
    "            augmentations = self.transform(image=image, mask=mask)\n",
    "            image = augmentations[\"image\"]\n",
    "            mask = augmentations[\"mask\"]\n",
    "\n",
    "        return image, mask"
   ]
  },
  {
   "cell_type": "code",
   "execution_count": 13,
   "id": "df4a02f7",
   "metadata": {},
   "outputs": [],
   "source": [
    "def get_loaders(\n",
    "    train_dir,\n",
    "    train_maskdir,\n",
    "    batch_size,\n",
    "    train_transform,\n",
    "    val_transform,\n",
    "    num_workers=4,\n",
    "    pin_memory=True,\n",
    "):\n",
    "    train_dataset = RoadDataset(\n",
    "        image_dir=train_dir,\n",
    "        mask_dir=train_maskdir,\n",
    "        transform=train_transform,\n",
    "    )\n",
    "\n",
    "    val_dataset = RoadDataset(\n",
    "        image_dir=train_dir,\n",
    "        mask_dir=train_maskdir,\n",
    "        transform=val_transform,\n",
    "    )\n",
    "    \n",
    "    train_ds, _ = random_split(\n",
    "        train_dataset,\n",
    "        [80, 20], \n",
    "        generator=torch.Generator().manual_seed(42))\n",
    "\n",
    "    _, val_ds = random_split(\n",
    "        val_dataset,\n",
    "        [80, 20], \n",
    "        generator=torch.Generator().manual_seed(42))\n",
    "\n",
    "    train_loader = DataLoader(\n",
    "        train_ds,\n",
    "        batch_size=batch_size,\n",
    "        num_workers=num_workers,\n",
    "        pin_memory=pin_memory,\n",
    "        shuffle=True,\n",
    "    )\n",
    "\n",
    "    val_loader = DataLoader(\n",
    "        val_ds,\n",
    "        batch_size=batch_size,\n",
    "        num_workers=num_workers,\n",
    "        pin_memory=pin_memory,\n",
    "        shuffle=False,\n",
    "    )\n",
    "\n",
    "    return train_loader, val_loader"
   ]
  },
  {
   "cell_type": "code",
   "execution_count": 14,
   "id": "c55966ee",
   "metadata": {},
   "outputs": [],
   "source": [
    "def get_transform(\n",
    "    image_height,\n",
    "    image_width,\n",
    "    max_rotation,\n",
    "    p_hflip,\n",
    "    p_vflip,\n",
    "    normalize,\n",
    "    crop_width,\n",
    "    crop_height\n",
    "):\n",
    "    cwidth = int(crop_width)\n",
    "    cheight = int(crop_height)\n",
    "    transformations = []\n",
    "    if(image_height != 0):\n",
    "        transformations.append(A.Resize(height=image_height, width=image_width))\n",
    "    if(max_rotation > 0):\n",
    "        transformations.append(A.Rotate(limit=max_rotation, p=1.0))\n",
    "    if(p_hflip > 0):\n",
    "        transformations.append(A.HorizontalFlip(p=p_hflip))\n",
    "    if(p_vflip > 0):\n",
    "        transformations.append(A.VerticalFlip(p=p_vflip))\n",
    "    if(normalize):\n",
    "        transformations.append(A.Normalize(\n",
    "            mean=[0.0, 0.0, 0.0],\n",
    "            std=[1.0, 1.0, 1.0],\n",
    "            max_pixel_value=237.0, # dividing by 237, get a value between 0 and 1\n",
    "        ))\n",
    "    if(cwidth > 0):\n",
    "        transformations.append(A.RandomCrop(width=cwidth, height=cheight))\n",
    "    transformations.append(ToTensorV2())\n",
    "    return A.Compose(transformations)"
   ]
  },
  {
   "cell_type": "code",
   "execution_count": 15,
   "id": "f68ba9d8",
   "metadata": {},
   "outputs": [],
   "source": [
    "image_height = 400  #  400 pixels originally\n",
    "image_width = 400  #  400 pixels originally\n",
    "train_dir = \"data/train_images/\"\n",
    "train_maskdir = \"data/train_masks/\"\n",
    "test_dir = 'data/test_images/'\n",
    "batch_size = 4\n",
    "num_workers = 0\n",
    "pin_memory = True\n",
    "\n",
    "train_transform = get_transform(image_height, image_width, 35, 0.5, 0.1, True, image_width/2, image_height/2)\n",
    "\n",
    "val_transform = get_transform(image_height, image_width, 0, 0, 0, True, image_width/2, image_height/2)\n",
    "\n",
    "train_loader, val_loader = get_loaders(\n",
    "    train_dir,\n",
    "    train_maskdir,\n",
    "    batch_size,\n",
    "    train_transform,\n",
    "    val_transform,\n",
    "    num_workers,\n",
    "    pin_memory,\n",
    ")"
   ]
  },
  {
   "cell_type": "code",
   "execution_count": 16,
   "id": "129eded4",
   "metadata": {},
   "outputs": [],
   "source": [
    "# Hyperparameters etc.\n",
    "LEARNING_RATE = 1e-4\n",
    "DEVICE = \"cuda\" if torch.cuda.is_available() else \"cpu\"\n",
    "BATCH_SIZE = 10\n",
    "NUM_EPOCHS = 10\n",
    "NUM_WORKERS = 0\n",
    "IMAGE_HEIGHT = 400  # 400 originally\n",
    "IMAGE_WIDTH = 400  # 400 originally\n",
    "PIN_MEMORY = True\n",
    "LOAD_MODEL = False\n",
    "\n",
    "def train_fn(loader, model, optimizer, loss_fn, scaler):\n",
    "    loop = tqdm(loader)\n",
    "\n",
    "    for batch_idx, (data, targets) in enumerate(loop):\n",
    "        data = data.to(device=DEVICE)\n",
    "        targets = targets.float().unsqueeze(1).to(device=DEVICE) # add a channel dimension\n",
    "\n",
    "        # forward\n",
    "        with torch.cuda.amp.autocast():\n",
    "            predictions = model(data)\n",
    "            loss = loss_fn(predictions, targets)\n",
    "\n",
    "        # backward\n",
    "        optimizer.zero_grad()\n",
    "        scaler.scale(loss).backward()\n",
    "        scaler.step(optimizer)\n",
    "        scaler.update()\n",
    "\n",
    "        # update tqdm loop\n",
    "        loop.set_postfix(loss=loss.item())"
   ]
  },
  {
   "cell_type": "code",
   "execution_count": 17,
   "id": "7ec019fe",
   "metadata": {},
   "outputs": [],
   "source": [
    "import os\n",
    "import shutil\n",
    "\n",
    "determination = 'data/test_images/'\n",
    "if not os.path.exists(determination):\n",
    "    os.makedirs(determination)\n",
    "\n",
    "path = 'data/test/'\n",
    "folders = os.listdir(path)\n",
    "for folder in folders:\n",
    "    dir = path + '/' + str(folder)\n",
    "    files = os.listdir(dir)\n",
    "    for file in files:\n",
    "        source = dir + '/' + str(file)\n",
    "        deter = determination + '/' + str(file)\n",
    "        shutil.copyfile(source, deter)"
   ]
  },
  {
   "cell_type": "code",
   "execution_count": 18,
   "id": "6724200a",
   "metadata": {},
   "outputs": [],
   "source": [
    "path_list = os.listdir(test_dir)\n",
    "path_list.sort(key=lambda x: int(x.split(\".\")[0].split(\"_\")[1]))\n",
    "path_list\n",
    "\n",
    "class RoadData_test_set(Dataset):\n",
    "    def __init__(self, image_dir, transform=None):\n",
    "        self.image_dir = image_dir\n",
    "        self.transform = transform\n",
    "        self.images = path_list # list all the files that are in that folder\n",
    "\n",
    "    def __len__(self):\n",
    "        return len(self.images)\n",
    "\n",
    "    def __getitem__(self, index):\n",
    "        img_path = os.path.join(self.image_dir, self.images[index])\n",
    "        image = np.array(Image.open(img_path).convert(\"RGB\"))\n",
    "\n",
    "        if self.transform is not None:\n",
    "            augmentations = self.transform(image=image)\n",
    "            image = augmentations[\"image\"]\n",
    "\n",
    "        return image\n",
    "\n",
    "test_transform = A.Compose(\n",
    "    [\n",
    "        A.Resize(height=image_height, width=image_width),\n",
    "        A.Normalize(\n",
    "            mean=[0.0, 0.0, 0.0],\n",
    "            std=[1.0, 1.0, 1.0],\n",
    "            max_pixel_value=237.0, # dividing by 237, get a value between 0 and 1\n",
    "        ),\n",
    "        ToTensorV2(),\n",
    "    ],\n",
    ")\n",
    "\n",
    "test_dataset = RoadData_test_set(\n",
    "    image_dir=test_dir,\n",
    "    transform=test_transform,\n",
    ")\n",
    "\n",
    "test_loader = DataLoader(\n",
    "    test_dataset,\n",
    "    batch_size=1,\n",
    "    num_workers=0,\n",
    "    # num_workers =  NUM_WORKERS,\n",
    "    pin_memory=pin_memory,\n",
    "    shuffle=False\n",
    ")"
   ]
  },
  {
   "cell_type": "code",
   "execution_count": 19,
   "id": "8768beea",
   "metadata": {},
   "outputs": [],
   "source": [
    "dict_double_conv = {\"BatchNorm\": True,\n",
    "        \"activation\": nn.ReLU(inplace=True),\n",
    "        \"p_dropout\": 0.2,\n",
    "        \"use_dropout\": True,\n",
    "        \"bias\": False}\n",
    "\n",
    "dict_ups = {\"BatchNorm\": True,\n",
    "        \"p_dropout\": 0.2,\n",
    "        \"use_dropout\": False,\n",
    "        \"bias\": False}"
   ]
  },
  {
   "cell_type": "code",
   "execution_count": 20,
   "id": "986a0908",
   "metadata": {},
   "outputs": [
    {
     "ename": "TypeError",
     "evalue": "__init__() got multiple values for argument 'in_channels'",
     "output_type": "error",
     "traceback": [
      "\u001b[0;31m---------------------------------------------------------------------------\u001b[0m",
      "\u001b[0;31mTypeError\u001b[0m                                 Traceback (most recent call last)",
      "Input \u001b[0;32mIn [20]\u001b[0m, in \u001b[0;36m<cell line: 1>\u001b[0;34m()\u001b[0m\n\u001b[0;32m----> 1\u001b[0m model \u001b[38;5;241m=\u001b[39m \u001b[43mUNET\u001b[49m\u001b[43m(\u001b[49m\u001b[43mdict_double_conv\u001b[49m\u001b[43m,\u001b[49m\u001b[43m \u001b[49m\u001b[43mdict_ups\u001b[49m\u001b[43m,\u001b[49m\u001b[43min_channels\u001b[49m\u001b[38;5;241;43m=\u001b[39;49m\u001b[38;5;241;43m3\u001b[39;49m\u001b[43m,\u001b[49m\u001b[43m \u001b[49m\u001b[43mout_channels\u001b[49m\u001b[38;5;241;43m=\u001b[39;49m\u001b[38;5;241;43m1\u001b[39;49m\u001b[43m,\u001b[49m\u001b[43minit\u001b[49m\u001b[38;5;241;43m=\u001b[39;49m\u001b[38;5;28;43;01mTrue\u001b[39;49;00m\u001b[43m,\u001b[49m\u001b[43m \u001b[49m\u001b[43mdepth\u001b[49m\u001b[43m \u001b[49m\u001b[38;5;241;43m=\u001b[39;49m\u001b[43m \u001b[49m\u001b[38;5;241;43m5\u001b[39;49m\u001b[43m,\u001b[49m\u001b[43m \u001b[49m\u001b[43mscale\u001b[49m\u001b[43m \u001b[49m\u001b[38;5;241;43m=\u001b[39;49m\u001b[43m \u001b[49m\u001b[38;5;241;43m2\u001b[39;49m\u001b[43m)\u001b[49m\u001b[38;5;241m.\u001b[39mto(DEVICE)\n\u001b[1;32m      3\u001b[0m \u001b[38;5;66;03m#model = UNET_no_skip_connection(in_channels=3, out_channels=1).to(DEVICE)\u001b[39;00m\n\u001b[1;32m      4\u001b[0m loss_fn \u001b[38;5;241m=\u001b[39m nn\u001b[38;5;241m.\u001b[39mBCEWithLogitsLoss()\n",
      "\u001b[0;31mTypeError\u001b[0m: __init__() got multiple values for argument 'in_channels'"
     ]
    }
   ],
   "source": [
    "model = UNET(dict_double_conv, dict_ups,in_channels=3, out_channels=1,init=True, depth = 5, scale = 2).to(DEVICE)\n",
    "\n",
    "#model = UNET_no_skip_connection(in_channels=3, out_channels=1).to(DEVICE)\n",
    "loss_fn = nn.BCEWithLogitsLoss()\n",
    "optimizer = optim.Adam(model.parameters(), lr=LEARNING_RATE)"
   ]
  },
  {
   "cell_type": "code",
   "execution_count": 21,
   "id": "fac642fe",
   "metadata": {},
   "outputs": [],
   "source": [
    "def check_accuracy(loader, model, device=\"cuda\"):\n",
    "    num_correct = 0\n",
    "    num_pixels = 0\n",
    "    model.eval()\n",
    "\n",
    "    with torch.no_grad():\n",
    "        for x, y in loader:\n",
    "            x = x.to(device)\n",
    "            y = y.to(device).unsqueeze(1) # the grayscale does not have channels, add\n",
    "            preds = torch.sigmoid(model(x))\n",
    "            preds = (preds > 0.5).float()\n",
    "            num_correct += (preds == y).sum()\n",
    "            num_pixels += torch.numel(preds)\n",
    "\n",
    "    print(\n",
    "        f\"Got {num_correct}/{num_pixels} with acc {num_correct/num_pixels*100:.2f}\"\n",
    "    )\n",
    "    model.train()\n",
    "\n",
    "def check_F1_score(loader, model, device=\"cuda\"):\n",
    "    TP = 0\n",
    "    FP = 0\n",
    "    TN = 0\n",
    "    FN = 0\n",
    "    num_correct = 0\n",
    "    num_pixels = 0\n",
    "    model.eval()\n",
    "\n",
    "    with torch.no_grad():\n",
    "        for x, y in loader:\n",
    "            x = x.to(device)\n",
    "            y = y.to(device).unsqueeze(1) # the grayscale does not have channels, add\n",
    "            preds = torch.sigmoid(model(x))\n",
    "            preds = (preds > 0.5).float()\n",
    "            print(TP,FP,FN,preds.sum())\n",
    "            TP += ((preds == 1)*(y==1)).sum()\n",
    "            FP += ((preds == 1)*(y==0)).sum()\n",
    "            FN += ((preds == 0)*(y==1)).sum()\n",
    "            num_pixels += torch.numel(preds)\n",
    "            num_correct += (preds == y).sum()\n",
    "    recall = TP/(TP+FN)\n",
    "    precision = TP/(TP+FP)\n",
    "    \n",
    "    print(\n",
    "        f\"Got {num_correct}/{num_pixels} with acc {num_correct/num_pixels*100:.2f} and F1-score {2*recall*precision/(recall+precision):.2f}\"\n",
    "    )\n",
    "    model.train()\n",
    "\n",
    "# def save_predictions_as_imgs(\n",
    "#     loader, model, folder=\"saved_images/\", device=\"cuda\"\n",
    "# ):\n",
    "#     model.eval()\n",
    "#     for idx, (x, y) in enumerate(loader):\n",
    "#         x = x.to(device=device)\n",
    "#         with torch.no_grad():\n",
    "#             preds = torch.sigmoid(model(x))\n",
    "#             preds = (preds > 0.5).float()\n",
    "#         torchvision.utils.save_image(\n",
    "#             preds, f\"{folder}/pred_{idx}.png\"\n",
    "#         )\n",
    "#         torchvision.utils.save_image(y.unsqueeze(1), f\"{folder}{idx}.png\")\n",
    "\n",
    "#     model.train()\n",
    "\n",
    "def save_predictions_as_imgs(\n",
    "    test_loader, model, folder=\"saved_images\", device=\"cuda\"\n",
    "):\n",
    "    model.eval()\n",
    "    for idx, x in enumerate(test_loader):\n",
    "        x = x.to(device=device)\n",
    "        with torch.no_grad():\n",
    "            preds = torch.sigmoid(model(x))\n",
    "            preds = (preds > 0.5).float()\n",
    "        torchvision.utils.save_image(\n",
    "            preds, f\"{folder}/pred_{idx+1}.png\"\n",
    "        )\n",
    "\n",
    "    model.train()"
   ]
  },
  {
   "cell_type": "code",
   "execution_count": 22,
   "id": "da088257",
   "metadata": {},
   "outputs": [
    {
     "ename": "NameError",
     "evalue": "name 'model' is not defined",
     "output_type": "error",
     "traceback": [
      "\u001b[0;31m---------------------------------------------------------------------------\u001b[0m",
      "\u001b[0;31mNameError\u001b[0m                                 Traceback (most recent call last)",
      "Input \u001b[0;32mIn [22]\u001b[0m, in \u001b[0;36m<cell line: 1>\u001b[0;34m()\u001b[0m\n\u001b[0;32m----> 1\u001b[0m check_F1_score(val_loader, \u001b[43mmodel\u001b[49m, device\u001b[38;5;241m=\u001b[39mDEVICE)\n",
      "\u001b[0;31mNameError\u001b[0m: name 'model' is not defined"
     ]
    }
   ],
   "source": [
    "check_F1_score(val_loader, model, device=DEVICE)"
   ]
  },
  {
   "cell_type": "code",
   "execution_count": 21,
   "id": "de6181ce",
   "metadata": {},
   "outputs": [
    {
     "name": "stderr",
     "output_type": "stream",
     "text": [
      "100%|███████████████████████████████| 20/20 [00:05<00:00,  3.83it/s, loss=0.976]\n"
     ]
    },
    {
     "name": "stdout",
     "output_type": "stream",
     "text": [
      "0 0 0 tensor(113486.)\n",
      "tensor(6654) tensor(106832) tensor(2308) tensor(116538.)\n",
      "tensor(36589) tensor(193435) tensor(12837) tensor(118142.)\n",
      "tensor(67082) tensor(281084) tensor(23425) tensor(114121.)\n",
      "tensor(96713) tensor(365574) tensor(35730) tensor(111932.)\n",
      "Got 297813/800000 with acc 37.23 and F1-score 0.32\n"
     ]
    },
    {
     "name": "stderr",
     "output_type": "stream",
     "text": [
      "100%|███████████████████████████████| 20/20 [00:05<00:00,  3.91it/s, loss=0.947]\n"
     ]
    },
    {
     "name": "stdout",
     "output_type": "stream",
     "text": [
      "0 0 0 tensor(120896.)\n",
      "tensor(14103) tensor(106793) tensor(3400) tensor(128438.)\n",
      "tensor(53705) tensor(195629) tensor(11039) tensor(128022.)\n",
      "tensor(78506) tensor(298850) tensor(16058) tensor(126821.)\n",
      "tensor(111790) tensor(392387) tensor(23950) tensor(123434.)\n",
      "Got 278935/800000 with acc 34.87 and F1-score 0.34\n"
     ]
    },
    {
     "name": "stderr",
     "output_type": "stream",
     "text": [
      "100%|███████████████████████████████| 20/20 [00:05<00:00,  3.96it/s, loss=0.957]\n"
     ]
    },
    {
     "name": "stdout",
     "output_type": "stream",
     "text": [
      "0 0 0 tensor(125034.)\n",
      "tensor(16538) tensor(108496) tensor(3334) tensor(127511.)\n",
      "tensor(30122) tensor(222423) tensor(5010) tensor(131690.)\n",
      "tensor(60821) tensor(323414) tensor(9415) tensor(126765.)\n",
      "tensor(83560) tensor(427440) tensor(14770) tensor(126879.)\n",
      "Got 244033/800000 with acc 30.50 and F1-score 0.26\n"
     ]
    },
    {
     "name": "stderr",
     "output_type": "stream",
     "text": [
      "100%|███████████████████████████████| 20/20 [00:04<00:00,  4.01it/s, loss=0.885]\n"
     ]
    },
    {
     "name": "stdout",
     "output_type": "stream",
     "text": [
      "0 0 0 tensor(137788.)\n",
      "tensor(15167) tensor(122621) tensor(1597) tensor(133633.)\n",
      "tensor(60262) tensor(211159) tensor(5857) tensor(136800.)\n",
      "tensor(90291) tensor(317930) tensor(8939) tensor(127804.)\n",
      "tensor(117406) tensor(418619) tensor(14042) tensor(125929.)\n",
      "Got 257854/800000 with acc 32.23 and F1-score 0.34\n"
     ]
    },
    {
     "name": "stderr",
     "output_type": "stream",
     "text": [
      "100%|███████████████████████████████| 20/20 [00:05<00:00,  3.99it/s, loss=0.886]\n"
     ]
    },
    {
     "name": "stdout",
     "output_type": "stream",
     "text": [
      "0 0 0 tensor(140444.)\n",
      "tensor(13874) tensor(126570) tensor(2785) tensor(133029.)\n",
      "tensor(42184) tensor(231289) tensor(5992) tensor(132914.)\n",
      "tensor(72560) tensor(333827) tensor(9129) tensor(130156.)\n",
      "tensor(100585) tensor(435958) tensor(13630) tensor(132198.)\n",
      "Got 251543/800000 with acc 31.44 and F1-score 0.33\n"
     ]
    },
    {
     "name": "stderr",
     "output_type": "stream",
     "text": [
      "100%|███████████████████████████████| 20/20 [00:04<00:00,  4.07it/s, loss=0.908]\n"
     ]
    },
    {
     "name": "stdout",
     "output_type": "stream",
     "text": [
      "0 0 0 tensor(145592.)\n",
      "tensor(16480) tensor(129112) tensor(3743) tensor(129368.)\n",
      "tensor(41243) tensor(233717) tensor(6111) tensor(132824.)\n",
      "tensor(76331) tensor(331453) tensor(9074) tensor(127377.)\n",
      "tensor(108565) tensor(426596) tensor(15595) tensor(124073.)\n",
      "Got 253098/800000 with acc 31.64 and F1-score 0.32\n"
     ]
    },
    {
     "name": "stderr",
     "output_type": "stream",
     "text": [
      " 60%|██████████████████▌            | 12/20 [00:03<00:02,  3.45it/s, loss=0.833]\n"
     ]
    },
    {
     "ename": "KeyboardInterrupt",
     "evalue": "",
     "output_type": "error",
     "traceback": [
      "\u001b[0;31m---------------------------------------------------------------------------\u001b[0m",
      "\u001b[0;31mKeyboardInterrupt\u001b[0m                         Traceback (most recent call last)",
      "Input \u001b[0;32mIn [21]\u001b[0m, in \u001b[0;36m<cell line: 3>\u001b[0;34m()\u001b[0m\n\u001b[1;32m      1\u001b[0m scaler \u001b[38;5;241m=\u001b[39m torch\u001b[38;5;241m.\u001b[39mcuda\u001b[38;5;241m.\u001b[39mamp\u001b[38;5;241m.\u001b[39mGradScaler()\n\u001b[1;32m      3\u001b[0m \u001b[38;5;28;01mfor\u001b[39;00m epoch \u001b[38;5;129;01min\u001b[39;00m \u001b[38;5;28mrange\u001b[39m(NUM_EPOCHS):\n\u001b[0;32m----> 4\u001b[0m     \u001b[43mtrain_fn\u001b[49m\u001b[43m(\u001b[49m\u001b[43mtrain_loader\u001b[49m\u001b[43m,\u001b[49m\u001b[43m \u001b[49m\u001b[43mmodel\u001b[49m\u001b[43m,\u001b[49m\u001b[43m \u001b[49m\u001b[43moptimizer\u001b[49m\u001b[43m,\u001b[49m\u001b[43m \u001b[49m\u001b[43mloss_fn\u001b[49m\u001b[43m,\u001b[49m\u001b[43m \u001b[49m\u001b[43mscaler\u001b[49m\u001b[43m)\u001b[49m\n\u001b[1;32m      6\u001b[0m     \u001b[38;5;66;03m# check accuracy\u001b[39;00m\n\u001b[1;32m      7\u001b[0m     check_F1_score(val_loader, model, device\u001b[38;5;241m=\u001b[39mDEVICE)\n",
      "Input \u001b[0;32mIn [6]\u001b[0m, in \u001b[0;36mtrain_fn\u001b[0;34m(loader, model, optimizer, loss_fn, scaler)\u001b[0m\n\u001b[1;32m     24\u001b[0m \u001b[38;5;66;03m# backward\u001b[39;00m\n\u001b[1;32m     25\u001b[0m optimizer\u001b[38;5;241m.\u001b[39mzero_grad()\n\u001b[0;32m---> 26\u001b[0m \u001b[43mscaler\u001b[49m\u001b[38;5;241;43m.\u001b[39;49m\u001b[43mscale\u001b[49m\u001b[43m(\u001b[49m\u001b[43mloss\u001b[49m\u001b[43m)\u001b[49m\u001b[38;5;241;43m.\u001b[39;49m\u001b[43mbackward\u001b[49m\u001b[43m(\u001b[49m\u001b[43m)\u001b[49m\n\u001b[1;32m     27\u001b[0m scaler\u001b[38;5;241m.\u001b[39mstep(optimizer)\n\u001b[1;32m     28\u001b[0m scaler\u001b[38;5;241m.\u001b[39mupdate()\n",
      "File \u001b[0;32m~/opt/anaconda3/lib/python3.9/site-packages/torch/_tensor.py:487\u001b[0m, in \u001b[0;36mTensor.backward\u001b[0;34m(self, gradient, retain_graph, create_graph, inputs)\u001b[0m\n\u001b[1;32m    477\u001b[0m \u001b[38;5;28;01mif\u001b[39;00m has_torch_function_unary(\u001b[38;5;28mself\u001b[39m):\n\u001b[1;32m    478\u001b[0m     \u001b[38;5;28;01mreturn\u001b[39;00m handle_torch_function(\n\u001b[1;32m    479\u001b[0m         Tensor\u001b[38;5;241m.\u001b[39mbackward,\n\u001b[1;32m    480\u001b[0m         (\u001b[38;5;28mself\u001b[39m,),\n\u001b[0;32m   (...)\u001b[0m\n\u001b[1;32m    485\u001b[0m         inputs\u001b[38;5;241m=\u001b[39minputs,\n\u001b[1;32m    486\u001b[0m     )\n\u001b[0;32m--> 487\u001b[0m \u001b[43mtorch\u001b[49m\u001b[38;5;241;43m.\u001b[39;49m\u001b[43mautograd\u001b[49m\u001b[38;5;241;43m.\u001b[39;49m\u001b[43mbackward\u001b[49m\u001b[43m(\u001b[49m\n\u001b[1;32m    488\u001b[0m \u001b[43m    \u001b[49m\u001b[38;5;28;43mself\u001b[39;49m\u001b[43m,\u001b[49m\u001b[43m \u001b[49m\u001b[43mgradient\u001b[49m\u001b[43m,\u001b[49m\u001b[43m \u001b[49m\u001b[43mretain_graph\u001b[49m\u001b[43m,\u001b[49m\u001b[43m \u001b[49m\u001b[43mcreate_graph\u001b[49m\u001b[43m,\u001b[49m\u001b[43m \u001b[49m\u001b[43minputs\u001b[49m\u001b[38;5;241;43m=\u001b[39;49m\u001b[43minputs\u001b[49m\n\u001b[1;32m    489\u001b[0m \u001b[43m\u001b[49m\u001b[43m)\u001b[49m\n",
      "File \u001b[0;32m~/opt/anaconda3/lib/python3.9/site-packages/torch/autograd/__init__.py:197\u001b[0m, in \u001b[0;36mbackward\u001b[0;34m(tensors, grad_tensors, retain_graph, create_graph, grad_variables, inputs)\u001b[0m\n\u001b[1;32m    192\u001b[0m     retain_graph \u001b[38;5;241m=\u001b[39m create_graph\n\u001b[1;32m    194\u001b[0m \u001b[38;5;66;03m# The reason we repeat same the comment below is that\u001b[39;00m\n\u001b[1;32m    195\u001b[0m \u001b[38;5;66;03m# some Python versions print out the first line of a multi-line function\u001b[39;00m\n\u001b[1;32m    196\u001b[0m \u001b[38;5;66;03m# calls in the traceback and some print out the last line\u001b[39;00m\n\u001b[0;32m--> 197\u001b[0m \u001b[43mVariable\u001b[49m\u001b[38;5;241;43m.\u001b[39;49m\u001b[43m_execution_engine\u001b[49m\u001b[38;5;241;43m.\u001b[39;49m\u001b[43mrun_backward\u001b[49m\u001b[43m(\u001b[49m\u001b[43m  \u001b[49m\u001b[38;5;66;43;03m# Calls into the C++ engine to run the backward pass\u001b[39;49;00m\n\u001b[1;32m    198\u001b[0m \u001b[43m    \u001b[49m\u001b[43mtensors\u001b[49m\u001b[43m,\u001b[49m\u001b[43m \u001b[49m\u001b[43mgrad_tensors_\u001b[49m\u001b[43m,\u001b[49m\u001b[43m \u001b[49m\u001b[43mretain_graph\u001b[49m\u001b[43m,\u001b[49m\u001b[43m \u001b[49m\u001b[43mcreate_graph\u001b[49m\u001b[43m,\u001b[49m\u001b[43m \u001b[49m\u001b[43minputs\u001b[49m\u001b[43m,\u001b[49m\n\u001b[1;32m    199\u001b[0m \u001b[43m    \u001b[49m\u001b[43mallow_unreachable\u001b[49m\u001b[38;5;241;43m=\u001b[39;49m\u001b[38;5;28;43;01mTrue\u001b[39;49;00m\u001b[43m,\u001b[49m\u001b[43m \u001b[49m\u001b[43maccumulate_grad\u001b[49m\u001b[38;5;241;43m=\u001b[39;49m\u001b[38;5;28;43;01mTrue\u001b[39;49;00m\u001b[43m)\u001b[49m\n",
      "\u001b[0;31mKeyboardInterrupt\u001b[0m: "
     ]
    }
   ],
   "source": [
    "scaler = torch.cuda.amp.GradScaler()\n",
    "\n",
    "for epoch in range(NUM_EPOCHS):\n",
    "    train_fn(train_loader, model, optimizer, loss_fn, scaler)\n",
    "\n",
    "    # check accuracy\n",
    "    check_F1_score(val_loader, model, device=DEVICE)\n",
    "\n",
    "# # print some examples to a folder\n",
    "# save_predictions_as_imgs(\n",
    "#     test_loader, model, folder=\"saved_images\", device=DEVICE\n",
    "# )"
   ]
  },
  {
   "cell_type": "code",
   "execution_count": null,
   "id": "814d291b",
   "metadata": {},
   "outputs": [],
   "source": []
  },
  {
   "cell_type": "code",
   "execution_count": null,
   "id": "7029a94a",
   "metadata": {},
   "outputs": [],
   "source": []
  }
 ],
 "metadata": {
  "kernelspec": {
   "display_name": "Python 3 (ipykernel)",
   "language": "python",
   "name": "python3"
  },
  "language_info": {
   "codemirror_mode": {
    "name": "ipython",
    "version": 3
   },
   "file_extension": ".py",
   "mimetype": "text/x-python",
   "name": "python",
   "nbconvert_exporter": "python",
   "pygments_lexer": "ipython3",
   "version": "3.9.12"
  }
 },
 "nbformat": 4,
 "nbformat_minor": 5
}
