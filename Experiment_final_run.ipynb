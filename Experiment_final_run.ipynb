{
 "cells": [
  {
   "cell_type": "code",
   "execution_count": 1,
   "id": "3f7ea0af",
   "metadata": {},
   "outputs": [],
   "source": [
    "import os\n",
    "from PIL import Image\n",
    "from torch.utils.data import Dataset, DataLoader\n",
    "import numpy as np\n",
    "import torch\n",
    "import torchvision\n",
    "import torch.nn as nn\n",
    "import torchvision.transforms.functional as TF\n",
    "from tqdm import tqdm\n",
    "import torch.optim as optim\n",
    "from sklearn.model_selection import KFold\n",
    "from torch.utils.data import SubsetRandomSampler\n",
    "from collections import OrderedDict\n",
    "import matplotlib.pyplot as plt\n",
    "from Network import *\n",
    "from DataSet import *\n",
    "from train_procedure import *\n",
    "from Aug import *\n",
    "from torchvision import transforms\n",
    "import pickle\n",
    "\n",
    "%load_ext autoreload\n",
    "%autoreload 2"
   ]
  },
  {
   "cell_type": "code",
   "execution_count": 2,
   "id": "ac9ed076",
   "metadata": {},
   "outputs": [
    {
     "name": "stderr",
     "output_type": "stream",
     "text": [
      "satImage_100.png: 100%|███████████████████████████████████████████████████████████| 100/100 [00:58<00:00,  1.72image/s]\n"
     ]
    }
   ],
   "source": [
    "# Create the augmented dataset\n",
    "create_augmented_dataset(True)"
   ]
  },
  {
   "cell_type": "code",
   "execution_count": 3,
   "id": "0ec76645",
   "metadata": {},
   "outputs": [],
   "source": [
    "DEVICE = \"cuda\" if torch.cuda.is_available() else \"cpu\""
   ]
  },
  {
   "cell_type": "code",
   "execution_count": 4,
   "id": "bbe6b75c",
   "metadata": {},
   "outputs": [
    {
     "name": "stderr",
     "output_type": "stream",
     "text": [
      "100%|████████████████████████████████████████████████████████████████████| 220/220 [01:22<00:00,  2.66it/s, loss=0.521]\n"
     ]
    },
    {
     "name": "stdout",
     "output_type": "stream",
     "text": [
      "Training set: epoch-1 got 133320335/172480000 with acc 77.30%, F1-score 0.37 and loss 0.5192978382110596 \n"
     ]
    },
    {
     "name": "stderr",
     "output_type": "stream",
     "text": [
      "100%|████████████████████████████████████████████████████████████████████| 220/220 [01:03<00:00,  3.47it/s, loss=0.545]\n"
     ]
    },
    {
     "name": "stdout",
     "output_type": "stream",
     "text": [
      "Training set: epoch-2 got 139021268/172480000 with acc 80.60%, F1-score 0.39 and loss 0.43243643641471863 \n"
     ]
    },
    {
     "name": "stderr",
     "output_type": "stream",
     "text": [
      "100%|████████████████████████████████████████████████████████████████████| 220/220 [01:03<00:00,  3.48it/s, loss=0.521]\n"
     ]
    },
    {
     "name": "stdout",
     "output_type": "stream",
     "text": [
      "Training set: epoch-3 got 142226351/172480000 with acc 82.46%, F1-score 0.49 and loss 0.3875443637371063 \n"
     ]
    },
    {
     "name": "stderr",
     "output_type": "stream",
     "text": [
      "100%|████████████████████████████████████████████████████████████████████| 220/220 [01:05<00:00,  3.37it/s, loss=0.531]\n"
     ]
    },
    {
     "name": "stdout",
     "output_type": "stream",
     "text": [
      "Training set: epoch-4 got 145438655/172480000 with acc 84.32%, F1-score 0.56 and loss 0.35456329584121704 \n"
     ]
    },
    {
     "name": "stderr",
     "output_type": "stream",
     "text": [
      "100%|████████████████████████████████████████████████████████████████████| 220/220 [01:03<00:00,  3.47it/s, loss=0.475]\n"
     ]
    },
    {
     "name": "stdout",
     "output_type": "stream",
     "text": [
      "Training set: epoch-5 got 148141660/172480000 with acc 85.89%, F1-score 0.62 and loss 0.3256905972957611 \n"
     ]
    },
    {
     "name": "stderr",
     "output_type": "stream",
     "text": [
      "100%|████████████████████████████████████████████████████████████████████| 220/220 [01:03<00:00,  3.49it/s, loss=0.435]\n"
     ]
    },
    {
     "name": "stdout",
     "output_type": "stream",
     "text": [
      "Training set: epoch-6 got 149948425/172480000 with acc 86.94%, F1-score 0.65 and loss 0.3076094686985016 \n"
     ]
    },
    {
     "name": "stderr",
     "output_type": "stream",
     "text": [
      "100%|████████████████████████████████████████████████████████████████████| 220/220 [01:03<00:00,  3.47it/s, loss=0.385]\n"
     ]
    },
    {
     "name": "stdout",
     "output_type": "stream",
     "text": [
      "Training set: epoch-7 got 151159983/172480000 with acc 87.64%, F1-score 0.68 and loss 0.29215604066848755 \n"
     ]
    },
    {
     "name": "stderr",
     "output_type": "stream",
     "text": [
      "100%|████████████████████████████████████████████████████████████████████| 220/220 [01:03<00:00,  3.48it/s, loss=0.373]\n"
     ]
    },
    {
     "name": "stdout",
     "output_type": "stream",
     "text": [
      "Training set: epoch-8 got 151856776/172480000 with acc 88.04%, F1-score 0.69 and loss 0.2831619083881378 \n"
     ]
    },
    {
     "name": "stderr",
     "output_type": "stream",
     "text": [
      "100%|█████████████████████████████████████████████████████████████████████| 220/220 [01:03<00:00,  3.48it/s, loss=0.36]\n"
     ]
    },
    {
     "name": "stdout",
     "output_type": "stream",
     "text": [
      "Training set: epoch-9 got 152748358/172480000 with acc 88.56%, F1-score 0.70 and loss 0.27286168932914734 \n"
     ]
    },
    {
     "name": "stderr",
     "output_type": "stream",
     "text": [
      "100%|████████████████████████████████████████████████████████████████████| 220/220 [01:03<00:00,  3.47it/s, loss=0.339]\n"
     ]
    },
    {
     "name": "stdout",
     "output_type": "stream",
     "text": [
      "Training set: epoch-10 got 153799645/172480000 with acc 89.17%, F1-score 0.72 and loss 0.26022833585739136 \n"
     ]
    },
    {
     "name": "stderr",
     "output_type": "stream",
     "text": [
      "100%|████████████████████████████████████████████████████████████████████| 220/220 [01:03<00:00,  3.46it/s, loss=0.334]\n"
     ]
    },
    {
     "name": "stdout",
     "output_type": "stream",
     "text": [
      "Training set: epoch-11 got 154672534/172480000 with acc 89.68%, F1-score 0.74 and loss 0.24982817471027374 \n"
     ]
    },
    {
     "name": "stderr",
     "output_type": "stream",
     "text": [
      "100%|████████████████████████████████████████████████████████████████████| 220/220 [01:03<00:00,  3.47it/s, loss=0.325]\n"
     ]
    },
    {
     "name": "stdout",
     "output_type": "stream",
     "text": [
      "Training set: epoch-12 got 155355271/172480000 with acc 90.07%, F1-score 0.75 and loss 0.24134323000907898 \n"
     ]
    },
    {
     "name": "stderr",
     "output_type": "stream",
     "text": [
      "100%|████████████████████████████████████████████████████████████████████| 220/220 [01:03<00:00,  3.47it/s, loss=0.319]\n"
     ]
    },
    {
     "name": "stdout",
     "output_type": "stream",
     "text": [
      "Training set: epoch-13 got 156072839/172480000 with acc 90.49%, F1-score 0.76 and loss 0.23185789585113525 \n"
     ]
    },
    {
     "name": "stderr",
     "output_type": "stream",
     "text": [
      "100%|█████████████████████████████████████████████████████████████████████| 220/220 [01:03<00:00,  3.47it/s, loss=0.31]\n"
     ]
    },
    {
     "name": "stdout",
     "output_type": "stream",
     "text": [
      "Training set: epoch-14 got 156747184/172480000 with acc 90.88%, F1-score 0.77 and loss 0.2237263321876526 \n"
     ]
    },
    {
     "name": "stderr",
     "output_type": "stream",
     "text": [
      "100%|████████████████████████████████████████████████████████████████████| 220/220 [01:03<00:00,  3.47it/s, loss=0.309]\n"
     ]
    },
    {
     "name": "stdout",
     "output_type": "stream",
     "text": [
      "Training set: epoch-15 got 157166722/172480000 with acc 91.12%, F1-score 0.78 and loss 0.2180408537387848 \n"
     ]
    },
    {
     "name": "stderr",
     "output_type": "stream",
     "text": [
      "100%|████████████████████████████████████████████████████████████████████| 220/220 [01:03<00:00,  3.46it/s, loss=0.306]\n"
     ]
    },
    {
     "name": "stdout",
     "output_type": "stream",
     "text": [
      "Training set: epoch-16 got 157693877/172480000 with acc 91.43%, F1-score 0.79 and loss 0.2105080634355545 \n"
     ]
    },
    {
     "name": "stderr",
     "output_type": "stream",
     "text": [
      "100%|████████████████████████████████████████████████████████████████████| 220/220 [01:03<00:00,  3.46it/s, loss=0.291]\n"
     ]
    },
    {
     "name": "stdout",
     "output_type": "stream",
     "text": [
      "Training set: epoch-17 got 158123865/172480000 with acc 91.68%, F1-score 0.79 and loss 0.20528769493103027 \n"
     ]
    },
    {
     "name": "stderr",
     "output_type": "stream",
     "text": [
      "100%|█████████████████████████████████████████████████████████████████████| 220/220 [01:03<00:00,  3.45it/s, loss=0.29]\n"
     ]
    },
    {
     "name": "stdout",
     "output_type": "stream",
     "text": [
      "Training set: epoch-18 got 158491693/172480000 with acc 91.89%, F1-score 0.80 and loss 0.20019033551216125 \n"
     ]
    },
    {
     "name": "stderr",
     "output_type": "stream",
     "text": [
      "100%|████████████████████████████████████████████████████████████████████| 220/220 [01:03<00:00,  3.46it/s, loss=0.296]\n"
     ]
    },
    {
     "name": "stdout",
     "output_type": "stream",
     "text": [
      "Training set: epoch-19 got 158905604/172480000 with acc 92.13%, F1-score 0.81 and loss 0.1949458122253418 \n"
     ]
    },
    {
     "name": "stderr",
     "output_type": "stream",
     "text": [
      "100%|████████████████████████████████████████████████████████████████████| 220/220 [01:03<00:00,  3.46it/s, loss=0.282]\n"
     ]
    },
    {
     "name": "stdout",
     "output_type": "stream",
     "text": [
      "Training set: epoch-20 got 159294915/172480000 with acc 92.36%, F1-score 0.81 and loss 0.18996977806091309 \n"
     ]
    },
    {
     "name": "stderr",
     "output_type": "stream",
     "text": [
      "100%|████████████████████████████████████████████████████████████████████| 220/220 [01:03<00:00,  3.46it/s, loss=0.279]\n"
     ]
    },
    {
     "name": "stdout",
     "output_type": "stream",
     "text": [
      "Training set: epoch-21 got 159621064/172480000 with acc 92.54%, F1-score 0.82 and loss 0.18630126118659973 \n"
     ]
    },
    {
     "name": "stderr",
     "output_type": "stream",
     "text": [
      "100%|████████████████████████████████████████████████████████████████████| 220/220 [01:03<00:00,  3.47it/s, loss=0.269]\n"
     ]
    },
    {
     "name": "stdout",
     "output_type": "stream",
     "text": [
      "Training set: epoch-22 got 159938132/172480000 with acc 92.73%, F1-score 0.82 and loss 0.18195098638534546 \n"
     ]
    },
    {
     "name": "stderr",
     "output_type": "stream",
     "text": [
      "100%|████████████████████████████████████████████████████████████████████| 220/220 [01:03<00:00,  3.47it/s, loss=0.264]\n"
     ]
    },
    {
     "name": "stdout",
     "output_type": "stream",
     "text": [
      "Training set: epoch-23 got 160152326/172480000 with acc 92.85%, F1-score 0.82 and loss 0.17948268353939056 \n"
     ]
    },
    {
     "name": "stderr",
     "output_type": "stream",
     "text": [
      "100%|████████████████████████████████████████████████████████████████████| 220/220 [01:03<00:00,  3.47it/s, loss=0.265]\n"
     ]
    },
    {
     "name": "stdout",
     "output_type": "stream",
     "text": [
      "Training set: epoch-24 got 160559076/172480000 with acc 93.09%, F1-score 0.83 and loss 0.17372053861618042 \n"
     ]
    },
    {
     "name": "stderr",
     "output_type": "stream",
     "text": [
      "100%|████████████████████████████████████████████████████████████████████| 220/220 [01:03<00:00,  3.47it/s, loss=0.253]\n"
     ]
    },
    {
     "name": "stdout",
     "output_type": "stream",
     "text": [
      "Training set: epoch-25 got 160821021/172480000 with acc 93.24%, F1-score 0.83 and loss 0.1703808456659317 \n"
     ]
    },
    {
     "name": "stderr",
     "output_type": "stream",
     "text": [
      "100%|████████████████████████████████████████████████████████████████████| 220/220 [01:03<00:00,  3.47it/s, loss=0.257]\n"
     ]
    },
    {
     "name": "stdout",
     "output_type": "stream",
     "text": [
      "Training set: epoch-26 got 160990566/172480000 with acc 93.34%, F1-score 0.84 and loss 0.16812890768051147 \n"
     ]
    },
    {
     "name": "stderr",
     "output_type": "stream",
     "text": [
      "100%|████████████████████████████████████████████████████████████████████| 220/220 [01:03<00:00,  3.45it/s, loss=0.247]\n"
     ]
    },
    {
     "name": "stdout",
     "output_type": "stream",
     "text": [
      "Training set: epoch-27 got 161178413/172480000 with acc 93.45%, F1-score 0.84 and loss 0.16547468304634094 \n"
     ]
    },
    {
     "name": "stderr",
     "output_type": "stream",
     "text": [
      "100%|████████████████████████████████████████████████████████████████████| 220/220 [01:03<00:00,  3.45it/s, loss=0.238]\n"
     ]
    },
    {
     "name": "stdout",
     "output_type": "stream",
     "text": [
      "Training set: epoch-28 got 161292958/172480000 with acc 93.51%, F1-score 0.84 and loss 0.1634780317544937 \n"
     ]
    },
    {
     "name": "stderr",
     "output_type": "stream",
     "text": [
      "100%|████████████████████████████████████████████████████████████████████| 220/220 [01:03<00:00,  3.44it/s, loss=0.238]\n"
     ]
    },
    {
     "name": "stdout",
     "output_type": "stream",
     "text": [
      "Training set: epoch-29 got 161418957/172480000 with acc 93.59%, F1-score 0.84 and loss 0.1617891937494278 \n"
     ]
    },
    {
     "name": "stderr",
     "output_type": "stream",
     "text": [
      "100%|████████████████████████████████████████████████████████████████████| 220/220 [01:03<00:00,  3.44it/s, loss=0.231]\n"
     ]
    },
    {
     "name": "stdout",
     "output_type": "stream",
     "text": [
      "Training set: epoch-30 got 161529878/172480000 with acc 93.65%, F1-score 0.84 and loss 0.16024546325206757 \n"
     ]
    },
    {
     "name": "stderr",
     "output_type": "stream",
     "text": [
      "100%|████████████████████████████████████████████████████████████████████| 220/220 [01:03<00:00,  3.45it/s, loss=0.215]\n"
     ]
    },
    {
     "name": "stdout",
     "output_type": "stream",
     "text": [
      "Training set: epoch-31 got 161899253/172480000 with acc 93.87%, F1-score 0.85 and loss 0.15456777811050415 \n"
     ]
    },
    {
     "name": "stderr",
     "output_type": "stream",
     "text": [
      "100%|████████████████████████████████████████████████████████████████████| 220/220 [01:03<00:00,  3.45it/s, loss=0.219]\n"
     ]
    },
    {
     "name": "stdout",
     "output_type": "stream",
     "text": [
      "Training set: epoch-32 got 161944823/172480000 with acc 93.89%, F1-score 0.85 and loss 0.15510572493076324 \n"
     ]
    },
    {
     "name": "stderr",
     "output_type": "stream",
     "text": [
      "100%|████████████████████████████████████████████████████████████████████| 220/220 [01:03<00:00,  3.44it/s, loss=0.205]\n"
     ]
    },
    {
     "name": "stdout",
     "output_type": "stream",
     "text": [
      "Training set: epoch-33 got 162061254/172480000 with acc 93.96%, F1-score 0.85 and loss 0.15204016864299774 \n"
     ]
    },
    {
     "name": "stderr",
     "output_type": "stream",
     "text": [
      "100%|████████████████████████████████████████████████████████████████████| 220/220 [01:04<00:00,  3.44it/s, loss=0.226]\n"
     ]
    },
    {
     "name": "stdout",
     "output_type": "stream",
     "text": [
      "Training set: epoch-34 got 161787424/172480000 with acc 93.80%, F1-score 0.85 and loss 0.1558028906583786 \n"
     ]
    },
    {
     "name": "stderr",
     "output_type": "stream",
     "text": [
      "100%|████████████████████████████████████████████████████████████████████| 220/220 [01:03<00:00,  3.44it/s, loss=0.212]\n"
     ]
    },
    {
     "name": "stdout",
     "output_type": "stream",
     "text": [
      "Training set: epoch-35 got 162544526/172480000 with acc 94.24%, F1-score 0.86 and loss 0.14546312391757965 \n"
     ]
    },
    {
     "name": "stderr",
     "output_type": "stream",
     "text": [
      "100%|████████████████████████████████████████████████████████████████████| 220/220 [01:04<00:00,  3.44it/s, loss=0.192]\n"
     ]
    },
    {
     "name": "stdout",
     "output_type": "stream",
     "text": [
      "Training set: epoch-36 got 162572897/172480000 with acc 94.26%, F1-score 0.86 and loss 0.144308403134346 \n"
     ]
    },
    {
     "name": "stderr",
     "output_type": "stream",
     "text": [
      "100%|████████████████████████████████████████████████████████████████████| 220/220 [01:04<00:00,  3.44it/s, loss=0.184]\n"
     ]
    },
    {
     "name": "stdout",
     "output_type": "stream",
     "text": [
      "Training set: epoch-37 got 163142087/172480000 with acc 94.59%, F1-score 0.87 and loss 0.13672621548175812 \n"
     ]
    },
    {
     "name": "stderr",
     "output_type": "stream",
     "text": [
      "100%|████████████████████████████████████████████████████████████████████| 220/220 [01:03<00:00,  3.44it/s, loss=0.185]\n"
     ]
    },
    {
     "name": "stdout",
     "output_type": "stream",
     "text": [
      "Training set: epoch-38 got 162788898/172480000 with acc 94.38%, F1-score 0.86 and loss 0.1419578492641449 \n"
     ]
    },
    {
     "name": "stderr",
     "output_type": "stream",
     "text": [
      "100%|████████████████████████████████████████████████████████████████████| 220/220 [01:04<00:00,  3.42it/s, loss=0.178]\n"
     ]
    },
    {
     "name": "stdout",
     "output_type": "stream",
     "text": [
      "Training set: epoch-39 got 163601282/172480000 with acc 94.85%, F1-score 0.87 and loss 0.13013982772827148 \n"
     ]
    },
    {
     "name": "stderr",
     "output_type": "stream",
     "text": [
      "100%|████████████████████████████████████████████████████████████████████| 220/220 [01:04<00:00,  3.42it/s, loss=0.173]\n"
     ]
    },
    {
     "name": "stdout",
     "output_type": "stream",
     "text": [
      "Training set: epoch-40 got 163856015/172480000 with acc 95.00%, F1-score 0.88 and loss 0.12643161416053772 \n"
     ]
    },
    {
     "name": "stderr",
     "output_type": "stream",
     "text": [
      "100%|████████████████████████████████████████████████████████████████████| 220/220 [01:04<00:00,  3.43it/s, loss=0.164]\n"
     ]
    },
    {
     "name": "stdout",
     "output_type": "stream",
     "text": [
      "Training set: epoch-41 got 164020837/172480000 with acc 95.10%, F1-score 0.88 and loss 0.12366646528244019 \n"
     ]
    },
    {
     "name": "stderr",
     "output_type": "stream",
     "text": [
      "100%|████████████████████████████████████████████████████████████████████| 220/220 [01:04<00:00,  3.42it/s, loss=0.191]\n"
     ]
    },
    {
     "name": "stdout",
     "output_type": "stream",
     "text": [
      "Training set: epoch-42 got 163954022/172480000 with acc 95.06%, F1-score 0.88 and loss 0.12417279928922653 \n"
     ]
    },
    {
     "name": "stderr",
     "output_type": "stream",
     "text": [
      "100%|████████████████████████████████████████████████████████████████████| 220/220 [01:04<00:00,  3.42it/s, loss=0.166]\n"
     ]
    },
    {
     "name": "stdout",
     "output_type": "stream",
     "text": [
      "Training set: epoch-43 got 163805892/172480000 with acc 94.97%, F1-score 0.88 and loss 0.1262843906879425 \n"
     ]
    },
    {
     "name": "stderr",
     "output_type": "stream",
     "text": [
      "100%|████████████████████████████████████████████████████████████████████| 220/220 [01:04<00:00,  3.42it/s, loss=0.161]\n"
     ]
    },
    {
     "name": "stdout",
     "output_type": "stream",
     "text": [
      "Training set: epoch-44 got 164296170/172480000 with acc 95.26%, F1-score 0.88 and loss 0.11916741728782654 \n"
     ]
    },
    {
     "name": "stderr",
     "output_type": "stream",
     "text": [
      "100%|████████████████████████████████████████████████████████████████████| 220/220 [01:04<00:00,  3.39it/s, loss=0.178]\n"
     ]
    },
    {
     "name": "stdout",
     "output_type": "stream",
     "text": [
      "Training set: epoch-45 got 163603819/172480000 with acc 94.85%, F1-score 0.87 and loss 0.1285744309425354 \n"
     ]
    },
    {
     "name": "stderr",
     "output_type": "stream",
     "text": [
      "100%|████████████████████████████████████████████████████████████████████| 220/220 [01:04<00:00,  3.41it/s, loss=0.165]\n"
     ]
    },
    {
     "name": "stdout",
     "output_type": "stream",
     "text": [
      "Training set: epoch-46 got 164432742/172480000 with acc 95.33%, F1-score 0.89 and loss 0.11754550784826279 \n"
     ]
    },
    {
     "name": "stderr",
     "output_type": "stream",
     "text": [
      "100%|████████████████████████████████████████████████████████████████████| 220/220 [01:04<00:00,  3.41it/s, loss=0.154]\n"
     ]
    },
    {
     "name": "stdout",
     "output_type": "stream",
     "text": [
      "Training set: epoch-47 got 164825313/172480000 with acc 95.56%, F1-score 0.89 and loss 0.11138983815908432 \n"
     ]
    },
    {
     "name": "stderr",
     "output_type": "stream",
     "text": [
      "100%|████████████████████████████████████████████████████████████████████| 220/220 [01:04<00:00,  3.39it/s, loss=0.148]\n"
     ]
    },
    {
     "name": "stdout",
     "output_type": "stream",
     "text": [
      "Training set: epoch-48 got 164942278/172480000 with acc 95.63%, F1-score 0.89 and loss 0.10935062915086746 \n"
     ]
    },
    {
     "name": "stderr",
     "output_type": "stream",
     "text": [
      "100%|████████████████████████████████████████████████████████████████████| 220/220 [01:04<00:00,  3.39it/s, loss=0.144]\n"
     ]
    },
    {
     "name": "stdout",
     "output_type": "stream",
     "text": [
      "Training set: epoch-49 got 165369660/172480000 with acc 95.88%, F1-score 0.90 and loss 0.10343316197395325 \n"
     ]
    },
    {
     "name": "stderr",
     "output_type": "stream",
     "text": [
      "100%|████████████████████████████████████████████████████████████████████| 220/220 [01:04<00:00,  3.39it/s, loss=0.135]\n"
     ]
    },
    {
     "name": "stdout",
     "output_type": "stream",
     "text": [
      "Training set: epoch-50 got 165558885/172480000 with acc 95.99%, F1-score 0.90 and loss 0.10014075040817261 \n"
     ]
    },
    {
     "name": "stderr",
     "output_type": "stream",
     "text": [
      "100%|████████████████████████████████████████████████████████████████████| 220/220 [01:04<00:00,  3.39it/s, loss=0.143]\n"
     ]
    },
    {
     "name": "stdout",
     "output_type": "stream",
     "text": [
      "Training set: epoch-51 got 165485081/172480000 with acc 95.94%, F1-score 0.90 and loss 0.10077674686908722 \n"
     ]
    },
    {
     "name": "stderr",
     "output_type": "stream",
     "text": [
      "100%|████████████████████████████████████████████████████████████████████| 220/220 [01:04<00:00,  3.40it/s, loss=0.144]\n"
     ]
    },
    {
     "name": "stdout",
     "output_type": "stream",
     "text": [
      "Training set: epoch-52 got 165669193/172480000 with acc 96.05%, F1-score 0.90 and loss 0.09799817949533463 \n"
     ]
    },
    {
     "name": "stderr",
     "output_type": "stream",
     "text": [
      "100%|█████████████████████████████████████████████████████████████████████| 220/220 [01:04<00:00,  3.40it/s, loss=0.16]\n"
     ]
    },
    {
     "name": "stdout",
     "output_type": "stream",
     "text": [
      "Training set: epoch-53 got 165065670/172480000 with acc 95.70%, F1-score 0.90 and loss 0.10603752732276917 \n"
     ]
    },
    {
     "name": "stderr",
     "output_type": "stream",
     "text": [
      "100%|████████████████████████████████████████████████████████████████████| 220/220 [01:04<00:00,  3.40it/s, loss=0.146]\n"
     ]
    },
    {
     "name": "stdout",
     "output_type": "stream",
     "text": [
      "Training set: epoch-54 got 165140518/172480000 with acc 95.74%, F1-score 0.90 and loss 0.10619255900382996 \n"
     ]
    },
    {
     "name": "stderr",
     "output_type": "stream",
     "text": [
      "100%|████████████████████████████████████████████████████████████████████| 220/220 [01:04<00:00,  3.39it/s, loss=0.131]\n"
     ]
    },
    {
     "name": "stdout",
     "output_type": "stream",
     "text": [
      "Training set: epoch-55 got 165846019/172480000 with acc 96.15%, F1-score 0.91 and loss 0.09543848037719727 \n"
     ]
    },
    {
     "name": "stderr",
     "output_type": "stream",
     "text": [
      "100%|████████████████████████████████████████████████████████████████████| 220/220 [01:04<00:00,  3.40it/s, loss=0.136]\n"
     ]
    },
    {
     "name": "stdout",
     "output_type": "stream",
     "text": [
      "Training set: epoch-56 got 166036244/172480000 with acc 96.26%, F1-score 0.91 and loss 0.09230318665504456 \n"
     ]
    },
    {
     "name": "stderr",
     "output_type": "stream",
     "text": [
      "100%|████████████████████████████████████████████████████████████████████| 220/220 [01:05<00:00,  3.38it/s, loss=0.136]\n"
     ]
    },
    {
     "name": "stdout",
     "output_type": "stream",
     "text": [
      "Training set: epoch-57 got 166129392/172480000 with acc 96.32%, F1-score 0.91 and loss 0.09078468382358551 \n"
     ]
    },
    {
     "name": "stderr",
     "output_type": "stream",
     "text": [
      "100%|████████████████████████████████████████████████████████████████████| 220/220 [01:04<00:00,  3.39it/s, loss=0.127]\n"
     ]
    },
    {
     "name": "stdout",
     "output_type": "stream",
     "text": [
      "Training set: epoch-58 got 166223016/172480000 with acc 96.37%, F1-score 0.91 and loss 0.08910007774829865 \n"
     ]
    },
    {
     "name": "stderr",
     "output_type": "stream",
     "text": [
      "100%|████████████████████████████████████████████████████████████████████| 220/220 [01:05<00:00,  3.38it/s, loss=0.127]\n"
     ]
    },
    {
     "name": "stdout",
     "output_type": "stream",
     "text": [
      "Training set: epoch-59 got 166574433/172480000 with acc 96.58%, F1-score 0.92 and loss 0.08378780633211136 \n"
     ]
    },
    {
     "name": "stderr",
     "output_type": "stream",
     "text": [
      "100%|████████████████████████████████████████████████████████████████████| 220/220 [01:05<00:00,  3.38it/s, loss=0.118]\n"
     ]
    },
    {
     "name": "stdout",
     "output_type": "stream",
     "text": [
      "Training set: epoch-60 got 166668248/172480000 with acc 96.63%, F1-score 0.92 and loss 0.0821266770362854 \n"
     ]
    }
   ],
   "source": [
    "dict_train ={\"save_model\": True,\n",
    "             'num_model': 1,\n",
    "            \"cross_val\": False,\n",
    "            \"skip_connection\": True,\n",
    "            \"num_epochs\": 60,\n",
    "            \"n_splits\": 1,\n",
    "            \"batch_size\": 10,\n",
    "            \"scale_channel\": 1,\n",
    "            \"dict_double_conv\": {\"BatchNorm\": True,\n",
    "                \"activation\": nn.ELU(inplace=True),\n",
    "                \"p_dropout\": 0.0,\n",
    "                \"use_dropout\": False,\n",
    "                \"bias\": False},\n",
    "            \"dict_ups\": {\"BatchNorm\": False,\n",
    "                \"p_dropout\": 0.2,\n",
    "                \"use_dropout\": False,\n",
    "                \"bias\": False},\n",
    "            \"loss\": nn.BCEWithLogitsLoss(),\n",
    "            \"optimizer\": optim.Adam,\n",
    "            \"param_optimizer\": {\"weight_decay\": 1e-05,\n",
    "                               \"lr\": 5e-04},\n",
    "            \"use_scheduler\": True,\n",
    "            \"type_scheduler\": \"ReduceLROnPlateau\",\n",
    "            \"scheduler\": torch.optim.lr_scheduler.ReduceLROnPlateau,\n",
    "            \"param_scheduler\": {\"mode\": 'max',\n",
    "                               \"factor\": 1./np.sqrt(10),\n",
    "                               'min_lr': 1e-07,\n",
    "                               'patience': 2,\n",
    "                               'verbose': True},\n",
    "             \"scaler\": torch.cuda.amp.GradScaler(),\n",
    "             \"device\": DEVICE\n",
    "            }\n",
    "\n",
    "experiment_final1 = {\"param\": dict_train}\n",
    "experiment_final1[\"convergence_path\"] = run_training(dict_train) \n",
    "\n",
    "\n",
    "f = open(\"result_exp/experiment_final1.pkl\",\"wb\")\n",
    "pickle.dump(experiment_final1,f)\n",
    "f.close()"
   ]
  },
  {
   "cell_type": "code",
   "execution_count": null,
   "id": "d7967796",
   "metadata": {},
   "outputs": [],
   "source": []
  },
  {
   "cell_type": "code",
   "execution_count": null,
   "id": "67990af8",
   "metadata": {},
   "outputs": [],
   "source": []
  }
 ],
 "metadata": {
  "kernelspec": {
   "display_name": "Python 3 (ipykernel)",
   "language": "python",
   "name": "python3"
  },
  "language_info": {
   "codemirror_mode": {
    "name": "ipython",
    "version": 3
   },
   "file_extension": ".py",
   "mimetype": "text/x-python",
   "name": "python",
   "nbconvert_exporter": "python",
   "pygments_lexer": "ipython3",
   "version": "3.9.15"
  }
 },
 "nbformat": 4,
 "nbformat_minor": 5
}
