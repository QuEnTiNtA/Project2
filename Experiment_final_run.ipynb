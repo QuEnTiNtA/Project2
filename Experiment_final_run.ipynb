{
 "cells": [
  {
   "cell_type": "code",
   "execution_count": 19,
   "id": "24593079",
   "metadata": {},
   "outputs": [
    {
     "name": "stdout",
     "output_type": "stream",
     "text": [
      "The autoreload extension is already loaded. To reload it, use:\n",
      "  %reload_ext autoreload\n"
     ]
    }
   ],
   "source": [
    "import os\n",
    "from PIL import Image\n",
    "from torch.utils.data import Dataset, DataLoader\n",
    "import numpy as np\n",
    "import torch\n",
    "import torchvision\n",
    "import torch.nn as nn\n",
    "import torchvision.transforms.functional as TF\n",
    "from tqdm import tqdm\n",
    "import torch.optim as optim\n",
    "from sklearn.model_selection import KFold\n",
    "from torch.utils.data import SubsetRandomSampler\n",
    "from collections import OrderedDict\n",
    "import matplotlib.pyplot as plt\n",
    "from Network import *\n",
    "from DataSet import *\n",
    "from train_procedure import *\n",
    "from Aug import *\n",
    "from torchvision import transforms\n",
    "import pickle\n",
    "\n",
    "%load_ext autoreload\n",
    "%autoreload 2"
   ]
  },
  {
   "cell_type": "code",
   "execution_count": 20,
   "id": "97f25466",
   "metadata": {},
   "outputs": [],
   "source": [
    "# Create the augmented dataset\n",
    "create_augmented_dataset(True)"
   ]
  },
  {
   "cell_type": "code",
   "execution_count": 4,
   "id": "48d3111b",
   "metadata": {},
   "outputs": [],
   "source": [
    "DEVICE = \"cuda\" if torch.cuda.is_available() else \"cpu\""
   ]
  },
  {
   "cell_type": "code",
   "execution_count": 18,
   "id": "4f5b14b9",
   "metadata": {},
   "outputs": [
    {
     "name": "stderr",
     "output_type": "stream",
     "text": [
      "100%|█████████████████████████████████| 8/8 [01:16<00:00,  9.57s/it, loss=0.836]\n"
     ]
    },
    {
     "name": "stdout",
     "output_type": "stream",
     "text": [
      "Training set: epoch-1 got 2916791/5644800 with acc 51.67%, F1-score 0.40 and loss 0.9354519844055176 \n"
     ]
    }
   ],
   "source": [
    "dict_train ={\"save_model\": True,\n",
    "             'num_model': 1,\n",
    "            \"cross_val\": False,\n",
    "            \"skip_connection\": True,\n",
    "            \"num_epochs\": 100,\n",
    "            \"n_splits\": 1,\n",
    "            \"batch_size\": 10,\n",
    "            \"scale_channel\": 1,\n",
    "            \"dict_double_conv\": {\"BatchNorm\": True,\n",
    "                \"activation\": nn.ELU(inplace=True),\n",
    "                \"p_dropout\": 0.5,\n",
    "                \"use_dropout\": False,\n",
    "                \"bias\": False},\n",
    "            \"dict_ups\": {\"BatchNorm\": False,\n",
    "                \"p_dropout\": 0.2,\n",
    "                \"use_dropout\": False,\n",
    "                \"bias\": False},\n",
    "            \"loss\": nn.BCEWithLogitsLoss(),\n",
    "            \"optimizer\": optim.Adam,\n",
    "            \"param_optimizer\": {\"weight_decay\": 1e-05,\n",
    "                               \"lr\": 5e-04},\n",
    "            \"use_scheduler\": True,\n",
    "            \"type_scheduler\": \"ReduceLROnPlateau\",\n",
    "            \"scheduler\": torch.optim.lr_scheduler.ReduceLROnPlateau,\n",
    "            \"param_scheduler\": {\"mode\": 'max',\n",
    "                               \"factor\": 1./np.sqrt(10),\n",
    "                               'min_lr': 1e-07,\n",
    "                               'patience': 2,\n",
    "                               'verbose': True},\n",
    "             \"scaler\": torch.cuda.amp.GradScaler(),\n",
    "             \"device\": DEVICE\n",
    "            }\n",
    "\n",
    "experiment_final1 = {\"param\": dict_train}\n",
    "experiment_final1[\"convergence_path\"] = run_training(dict_train) \n",
    "\n",
    "\n",
    "f = open(\"result_exp/experiment_final1.pkl\",\"wb\")\n",
    "pickle.dump(experiment_final1,f)\n",
    "f.close()"
   ]
  },
  {
   "cell_type": "code",
   "execution_count": null,
   "id": "83a7c0cd",
   "metadata": {},
   "outputs": [],
   "source": []
  },
  {
   "cell_type": "code",
   "execution_count": null,
   "id": "ce665299",
   "metadata": {},
   "outputs": [],
   "source": []
  }
 ],
 "metadata": {
  "kernelspec": {
   "display_name": "Python 3 (ipykernel)",
   "language": "python",
   "name": "python3"
  },
  "language_info": {
   "codemirror_mode": {
    "name": "ipython",
    "version": 3
   },
   "file_extension": ".py",
   "mimetype": "text/x-python",
   "name": "python",
   "nbconvert_exporter": "python",
   "pygments_lexer": "ipython3",
   "version": "3.9.12"
  }
 },
 "nbformat": 4,
 "nbformat_minor": 5
}
